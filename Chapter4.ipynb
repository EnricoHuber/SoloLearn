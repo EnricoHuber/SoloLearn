{
  "nbformat": 4,
  "nbformat_minor": 0,
  "metadata": {
    "colab": {
      "name": "Chapter4.ipynb",
      "provenance": [],
      "authorship_tag": "ABX9TyOaYulZrMAAbYAm4fbDFP6C",
      "include_colab_link": true
    },
    "kernelspec": {
      "name": "python3",
      "display_name": "Python 3"
    }
  },
  "cells": [
    {
      "cell_type": "markdown",
      "metadata": {
        "id": "view-in-github",
        "colab_type": "text"
      },
      "source": [
        "<a href=\"https://colab.research.google.com/github/EnricoHuber/SoloLearn/blob/main/Chapter4.ipynb\" target=\"_parent\"><img src=\"https://colab.research.google.com/assets/colab-badge.svg\" alt=\"Open In Colab\"/></a>"
      ]
    },
    {
      "cell_type": "code",
      "metadata": {
        "colab": {
          "base_uri": "https://localhost:8080/"
        },
        "id": "TS39w4nOadmq",
        "outputId": "31aad2be-1110-4292-eb2d-6d1c745693a0"
      },
      "source": [
        "import numpy as np\r\n",
        "\r\n",
        "X = 2 * np.random.rand(100, 1)       # X is a column vector\r\n",
        "print(X, X.shape)\r\n",
        "y = 4 + 3 * X + np.random.randn(100, 1)     # np.random.randn(100, 1) generates gaussian noise"
      ],
      "execution_count": null,
      "outputs": [
        {
          "output_type": "stream",
          "text": [
            "[[0.83996019]\n",
            " [1.81096451]\n",
            " [0.40891758]\n",
            " [0.17382874]\n",
            " [1.78040716]\n",
            " [1.88707111]\n",
            " [0.01698913]\n",
            " [1.03514674]\n",
            " [0.93679465]\n",
            " [1.43703263]\n",
            " [0.19218674]\n",
            " [0.09934583]\n",
            " [0.52321845]\n",
            " [1.88329074]\n",
            " [1.41467   ]\n",
            " [0.33124941]\n",
            " [0.96714259]\n",
            " [0.43136555]\n",
            " [0.58688176]\n",
            " [1.89006524]\n",
            " [1.0191424 ]\n",
            " [1.00355938]\n",
            " [1.54706647]\n",
            " [0.97388272]\n",
            " [0.49496302]\n",
            " [0.05782428]\n",
            " [1.44739613]\n",
            " [0.41465585]\n",
            " [1.40034276]\n",
            " [0.52151527]\n",
            " [0.60160436]\n",
            " [0.79086565]\n",
            " [0.37629484]\n",
            " [1.31840113]\n",
            " [0.49951919]\n",
            " [0.57936969]\n",
            " [0.89551037]\n",
            " [0.30240073]\n",
            " [1.34409251]\n",
            " [0.03362627]\n",
            " [1.59118171]\n",
            " [1.2254847 ]\n",
            " [0.64969235]\n",
            " [0.61053698]\n",
            " [1.71972857]\n",
            " [1.0433981 ]\n",
            " [1.80574483]\n",
            " [1.83244671]\n",
            " [1.66428687]\n",
            " [0.55178318]\n",
            " [1.32051628]\n",
            " [0.49843183]\n",
            " [0.84853071]\n",
            " [0.2706571 ]\n",
            " [1.12321549]\n",
            " [1.83496343]\n",
            " [1.16894925]\n",
            " [0.65092036]\n",
            " [1.56643138]\n",
            " [1.59879291]\n",
            " [1.5001455 ]\n",
            " [0.60411368]\n",
            " [1.60278304]\n",
            " [1.42632208]\n",
            " [0.92896634]\n",
            " [0.2139754 ]\n",
            " [0.17130941]\n",
            " [1.60620428]\n",
            " [0.96455602]\n",
            " [1.95459437]\n",
            " [1.22644661]\n",
            " [0.10074215]\n",
            " [1.08842697]\n",
            " [0.69108345]\n",
            " [1.71673263]\n",
            " [0.95800802]\n",
            " [0.060439  ]\n",
            " [1.96454217]\n",
            " [0.3999526 ]\n",
            " [1.37809829]\n",
            " [0.43546925]\n",
            " [1.69952437]\n",
            " [0.9534097 ]\n",
            " [0.05934496]\n",
            " [1.8468674 ]\n",
            " [1.19957815]\n",
            " [1.42310333]\n",
            " [1.24519279]\n",
            " [1.92863881]\n",
            " [0.43501427]\n",
            " [1.48746724]\n",
            " [1.76062993]\n",
            " [0.54250709]\n",
            " [0.42649129]\n",
            " [1.85825457]\n",
            " [1.88680336]\n",
            " [1.83634814]\n",
            " [1.35413967]\n",
            " [1.3527927 ]\n",
            " [0.23222975]] (100, 1)\n"
          ],
          "name": "stdout"
        }
      ]
    },
    {
      "cell_type": "code",
      "metadata": {
        "colab": {
          "base_uri": "https://localhost:8080/",
          "height": 287
        },
        "id": "dK3OmWwra-mM",
        "outputId": "5fd53e08-41fd-4a10-d5e7-443713cc4f0c"
      },
      "source": [
        "import matplotlib.pyplot as plt\r\n",
        "\r\n",
        "plt.plot(X, y, \"b.\")\r\n",
        "plt.xlabel(\"$x_1$\", fontsize=18)\r\n",
        "plt.ylabel(\"$y$\", rotation=0, fontsize=18)\r\n",
        "plt.axis([0, 2, 0, 15])\r\n",
        "#save_fig(\"generated_data_plot\")\r\n",
        "plt.show()"
      ],
      "execution_count": null,
      "outputs": [
        {
          "output_type": "display_data",
          "data": {
            "image/png": "[encoded data removed]",
            "text/plain": [
              "<Figure size 432x288 with 1 Axes>"
            ]
          },
          "metadata": {
            "tags": [],
            "needs_background": "light"
          }
        }
      ]
    },
    {
      "cell_type": "markdown",
      "metadata": {
        "id": "bJBMAUpobwZo"
      },
      "source": [
        "Normal equation (for computing $\\theta$ directly)\r\n",
        "$$\r\n",
        "\\theta=\\left(X^{T} X\\right)^{-1} \\cdot\\left(X^{T} y\\right)\r\n",
        "$$"
      ]
    },
    {
      "cell_type": "code",
      "metadata": {
        "colab": {
          "base_uri": "https://localhost:8080/"
        },
        "id": "UO1xvALgcGNo",
        "outputId": "23fa9ba8-7073-4f53-b61f-16f1979fddc3"
      },
      "source": [
        "# before we need to add all 1's to x0 for each instance\r\n",
        "X_b = np.c_[np.ones((100, 1)), X]  # add x0 = 1 to each instance\r\n",
        "print(X_b)"
      ],
      "execution_count": null,
      "outputs": [
        {
          "output_type": "stream",
          "text": [
            "[[1.         0.83996019]\n",
            " [1.         1.81096451]\n",
            " [1.         0.40891758]\n",
            " [1.         0.17382874]\n",
            " [1.         1.78040716]\n",
            " [1.         1.88707111]\n",
            " [1.         0.01698913]\n",
            " [1.         1.03514674]\n",
            " [1.         0.93679465]\n",
            " [1.         1.43703263]\n",
            " [1.         0.19218674]\n",
            " [1.         0.09934583]\n",
            " [1.         0.52321845]\n",
            " [1.         1.88329074]\n",
            " [1.         1.41467   ]\n",
            " [1.         0.33124941]\n",
            " [1.         0.96714259]\n",
            " [1.         0.43136555]\n",
            " [1.         0.58688176]\n",
            " [1.         1.89006524]\n",
            " [1.         1.0191424 ]\n",
            " [1.         1.00355938]\n",
            " [1.         1.54706647]\n",
            " [1.         0.97388272]\n",
            " [1.         0.49496302]\n",
            " [1.         0.05782428]\n",
            " [1.         1.44739613]\n",
            " [1.         0.41465585]\n",
            " [1.         1.40034276]\n",
            " [1.         0.52151527]\n",
            " [1.         0.60160436]\n",
            " [1.         0.79086565]\n",
            " [1.         0.37629484]\n",
            " [1.         1.31840113]\n",
            " [1.         0.49951919]\n",
            " [1.         0.57936969]\n",
            " [1.         0.89551037]\n",
            " [1.         0.30240073]\n",
            " [1.         1.34409251]\n",
            " [1.         0.03362627]\n",
            " [1.         1.59118171]\n",
            " [1.         1.2254847 ]\n",
            " [1.         0.64969235]\n",
            " [1.         0.61053698]\n",
            " [1.         1.71972857]\n",
            " [1.         1.0433981 ]\n",
            " [1.         1.80574483]\n",
            " [1.         1.83244671]\n",
            " [1.         1.66428687]\n",
            " [1.         0.55178318]\n",
            " [1.         1.32051628]\n",
            " [1.         0.49843183]\n",
            " [1.         0.84853071]\n",
            " [1.         0.2706571 ]\n",
            " [1.         1.12321549]\n",
            " [1.         1.83496343]\n",
            " [1.         1.16894925]\n",
            " [1.         0.65092036]\n",
            " [1.         1.56643138]\n",
            " [1.         1.59879291]\n",
            " [1.         1.5001455 ]\n",
            " [1.         0.60411368]\n",
            " [1.         1.60278304]\n",
            " [1.         1.42632208]\n",
            " [1.         0.92896634]\n",
            " [1.         0.2139754 ]\n",
            " [1.         0.17130941]\n",
            " [1.         1.60620428]\n",
            " [1.         0.96455602]\n",
            " [1.         1.95459437]\n",
            " [1.         1.22644661]\n",
            " [1.         0.10074215]\n",
            " [1.         1.08842697]\n",
            " [1.         0.69108345]\n",
            " [1.         1.71673263]\n",
            " [1.         0.95800802]\n",
            " [1.         0.060439  ]\n",
            " [1.         1.96454217]\n",
            " [1.         0.3999526 ]\n",
            " [1.         1.37809829]\n",
            " [1.         0.43546925]\n",
            " [1.         1.69952437]\n",
            " [1.         0.9534097 ]\n",
            " [1.         0.05934496]\n",
            " [1.         1.8468674 ]\n",
            " [1.         1.19957815]\n",
            " [1.         1.42310333]\n",
            " [1.         1.24519279]\n",
            " [1.         1.92863881]\n",
            " [1.         0.43501427]\n",
            " [1.         1.48746724]\n",
            " [1.         1.76062993]\n",
            " [1.         0.54250709]\n",
            " [1.         0.42649129]\n",
            " [1.         1.85825457]\n",
            " [1.         1.88680336]\n",
            " [1.         1.83634814]\n",
            " [1.         1.35413967]\n",
            " [1.         1.3527927 ]\n",
            " [1.         0.23222975]]\n"
          ],
          "name": "stdout"
        }
      ]
    },
    {
      "cell_type": "code",
      "metadata": {
        "id": "_0WFT2kYc324"
      },
      "source": [
        "theta_best = np.linalg.inv(X_b.T.dot(X_b)).dot(X_b.T).dot(y)"
      ],
      "execution_count": null,
      "outputs": []
    },
    {
      "cell_type": "code",
      "metadata": {
        "colab": {
          "base_uri": "https://localhost:8080/"
        },
        "id": "9sj6qeeFdoN1",
        "outputId": "67c80a39-4d75-4d2a-e949-e31284d54a75"
      },
      "source": [
        "print(theta_best)"
      ],
      "execution_count": null,
      "outputs": [
        {
          "output_type": "stream",
          "text": [
            "[[3.90919602]\n",
            " [3.26085248]]\n"
          ],
          "name": "stdout"
        }
      ]
    },
    {
      "cell_type": "markdown",
      "metadata": {
        "id": "sLqG7Cwhdr11"
      },
      "source": [
        "Let's make predictions using\r\n",
        "\r\n",
        "$$\r\n",
        "\\hat{y} = \\theta^{T} \\cdot x = x \\cdot \\theta\r\n",
        "$$"
      ]
    },
    {
      "cell_type": "code",
      "metadata": {
        "colab": {
          "base_uri": "https://localhost:8080/"
        },
        "id": "3oE73olIeRE3",
        "outputId": "ebd191c7-7571-4ca6-ce37-ce9a71ccfe62"
      },
      "source": [
        "X_new = np.array([[0], [2]])      # Once theta is found, I only need two points to plot the line\r\n",
        "print(X_new)"
      ],
      "execution_count": null,
      "outputs": [
        {
          "output_type": "stream",
          "text": [
            "[[0]\n",
            " [2]]\n"
          ],
          "name": "stdout"
        }
      ]
    },
    {
      "cell_type": "code",
      "metadata": {
        "colab": {
          "base_uri": "https://localhost:8080/"
        },
        "id": "sSOnfOF5f41v",
        "outputId": "ffb43465-8f63-433a-e271-eaf60980f12e"
      },
      "source": [
        "X_new_b = np.c_[np.ones((2, 1)), X_new]  # add x0 = 1 to each instance\r\n",
        "print(X_new_b)\r\n",
        "y_predict = X_new_b.dot(theta_best)\r\n",
        "print(y_predict)"
      ],
      "execution_count": null,
      "outputs": [
        {
          "output_type": "stream",
          "text": [
            "[[1. 0.]\n",
            " [1. 2.]]\n",
            "[[ 3.90919602]\n",
            " [10.43090099]]\n"
          ],
          "name": "stdout"
        }
      ]
    },
    {
      "cell_type": "code",
      "metadata": {
        "colab": {
          "base_uri": "https://localhost:8080/",
          "height": 450
        },
        "id": "yH8PBZOVg25x",
        "outputId": "7bbdf2a2-291c-405f-c512-c666194203b2"
      },
      "source": [
        "plt.figure(figsize=(10,7))\r\n",
        "\r\n",
        "\r\n",
        "plt.plot(X_new, y_predict, \"r-\", linewidth=2, label=\"Predictions\")\r\n",
        "plt.plot(X, y, \"b.\")\r\n",
        "plt.xlabel(\"$x_1$\", fontsize=18)\r\n",
        "plt.ylabel(\"$y$\", rotation=0, fontsize=18)\r\n",
        "plt.legend(loc=\"upper left\", fontsize=14)\r\n",
        "plt.axis([0, 2, 0, 15])\r\n",
        "#save_fig(\"linear_model_predictions_plot\")\r\n",
        "plt.show()"
      ],
      "execution_count": null,
      "outputs": [
        {
          "output_type": "display_data",
          "data": {
            "image/png": "[encoded data removed]",
            "text/plain": [
              "<Figure size 720x504 with 1 Axes>"
            ]
          },
          "metadata": {
            "tags": [],
            "needs_background": "light"
          }
        }
      ]
    },
    {
      "cell_type": "code",
      "metadata": {
        "colab": {
          "base_uri": "https://localhost:8080/"
        },
        "id": "8tkRl_CbhWmy",
        "outputId": "40e511e4-0f30-48a5-89a6-eb23aebc583e"
      },
      "source": [
        "# Now with Scikit-Learn\r\n",
        "from sklearn.linear_model import LinearRegression\r\n",
        "\r\n",
        "lin_reg = LinearRegression()\r\n",
        "lin_reg.fit(X, y)\r\n",
        "print(lin_reg.intercept_, lin_reg.coef_)"
      ],
      "execution_count": null,
      "outputs": [
        {
          "output_type": "stream",
          "text": [
            "[3.90919602] [[3.26085248]]\n",
            "[[ 3.90919602]\n",
            " [10.43090099]]\n"
          ],
          "name": "stdout"
        }
      ]
    },
    {
      "cell_type": "code",
      "metadata": {
        "colab": {
          "base_uri": "https://localhost:8080/"
        },
        "id": "P6x-KBKAhwCr",
        "outputId": "50e59dac-b0d8-4504-922e-19c9f9ce3911"
      },
      "source": [
        "print(lin_reg.predict(X_new))"
      ],
      "execution_count": null,
      "outputs": [
        {
          "output_type": "stream",
          "text": [
            "[[ 3.90919602]\n",
            " [10.43090099]]\n"
          ],
          "name": "stdout"
        }
      ]
    },
    {
      "cell_type": "markdown",
      "metadata": {
        "id": "lPVQ48srhoiT"
      },
      "source": [
        "Linear regression class of Scikit-Learn is based on"
      ]
    },
    {
      "cell_type": "code",
      "metadata": {
        "colab": {
          "base_uri": "https://localhost:8080/"
        },
        "id": "gYQeMxsVhrsc",
        "outputId": "0dd3711f-de40-4065-f557-2445da453297"
      },
      "source": [
        "# See how this results matches the previous one\r\n",
        "theta_best_svd, residuals, rank, s = np.linalg.lstsq(X_b, y, rcond=1e-6)\r\n",
        "print(theta_best_svd)"
      ],
      "execution_count": null,
      "outputs": [
        {
          "output_type": "execute_result",
          "data": {
            "text/plain": [
              "array([[3.90919602],\n",
              "       [3.26085248]])"
            ]
          },
          "metadata": {
            "tags": []
          },
          "execution_count": 15
        }
      ]
    },
    {
      "cell_type": "markdown",
      "metadata": {
        "id": "ZgjvrlNEmLb9"
      },
      "source": [
        "Batch Gradient Descent implementation"
      ]
    },
    {
      "cell_type": "code",
      "metadata": {
        "colab": {
          "base_uri": "https://localhost:8080/"
        },
        "id": "fBN3bOYvmOGa",
        "outputId": "36df6570-fcb4-432b-f376-1dbfe6b7c688"
      },
      "source": [
        "eta = 0.1  # learning rate\r\n",
        "n_iterations = 1000\r\n",
        "m = 100\r\n",
        "\r\n",
        "theta = np.random.randn(2,1)  # random initialization\r\n",
        "\r\n",
        "for iteration in range(n_iterations):\r\n",
        "    gradients = 2/m * X_b.T.dot(X_b.dot(theta) - y)\r\n",
        "    theta = theta - eta * gradients\r\n",
        "\r\n",
        "print(theta)      # See how the result matches"
      ],
      "execution_count": null,
      "outputs": [
        {
          "output_type": "stream",
          "text": [
            "[[3.90919602]\n",
            " [3.26085248]]\n"
          ],
          "name": "stdout"
        }
      ]
    },
    {
      "cell_type": "markdown",
      "metadata": {
        "id": "fXKRfckZn_BB"
      },
      "source": [
        "Stochastic Gradient Descent"
      ]
    },
    {
      "cell_type": "code",
      "metadata": {
        "id": "uPikBh9WosKM"
      },
      "source": [
        "theta_path_sgd = []\r\n",
        "m = len(X_b)\r\n",
        "np.random.seed(42)"
      ],
      "execution_count": null,
      "outputs": []
    },
    {
      "cell_type": "code",
      "metadata": {
        "colab": {
          "base_uri": "https://localhost:8080/",
          "height": 287
        },
        "id": "AA-O_z9mn-wQ",
        "outputId": "702fb64b-4a79-4ec6-b0c7-aeff74aa4267"
      },
      "source": [
        "n_epochs = 50\r\n",
        "t0, t1 = 5, 50  # learning schedule hyperparameters\r\n",
        "\r\n",
        "def learning_schedule(t):\r\n",
        "    return t0 / (t + t1)\r\n",
        "\r\n",
        "theta = np.random.randn(2,1)  # random initialization\r\n",
        "\r\n",
        "for epoch in range(n_epochs):\r\n",
        "    for i in range(m):\r\n",
        "        if epoch == 0 and i < 20:                    # not shown in the book\r\n",
        "            y_predict = X_new_b.dot(theta)           # not shown\r\n",
        "            style = \"b-\" if i > 0 else \"r--\"         # not shown\r\n",
        "            plt.plot(X_new, y_predict, style)        # not shown\r\n",
        "        random_index = np.random.randint(m)\r\n",
        "        xi = X_b[random_index:random_index+1]\r\n",
        "        yi = y[random_index:random_index+1]\r\n",
        "        gradients = 2 * xi.T.dot(xi.dot(theta) - yi)\r\n",
        "        eta = learning_schedule(epoch * m + i)\r\n",
        "        theta = theta - eta * gradients\r\n",
        "        theta_path_sgd.append(theta)                 # not shown\r\n",
        "\r\n",
        "plt.plot(X, y, \"b.\")                                 # not shown\r\n",
        "plt.xlabel(\"$x_1$\", fontsize=18)                     # not shown\r\n",
        "plt.ylabel(\"$y$\", rotation=0, fontsize=18)           # not shown\r\n",
        "plt.axis([0, 2, 0, 15])                              # not shown\r\n",
        "# save_fig(\"sgd_plot\")                                 # not shown\r\n",
        "plt.show()                                           # not shown"
      ],
      "execution_count": null,
      "outputs": [
        {
          "output_type": "display_data",
          "data": {
            "image/png": "[encoded data removed]",
            "text/plain": [
              "<Figure size 432x288 with 1 Axes>"
            ]
          },
          "metadata": {
            "tags": [],
            "needs_background": "light"
          }
        }
      ]
    },
    {
      "cell_type": "code",
      "metadata": {
        "colab": {
          "base_uri": "https://localhost:8080/"
        },
        "id": "-WmsfB8wpsVv",
        "outputId": "463d09cd-fb2e-4fa9-f591-5d9d5c6f5b31"
      },
      "source": [
        "print(theta)"
      ],
      "execution_count": null,
      "outputs": [
        {
          "output_type": "stream",
          "text": [
            "[[3.91140122]\n",
            " [3.28326253]]\n"
          ],
          "name": "stdout"
        }
      ]
    },
    {
      "cell_type": "code",
      "metadata": {
        "colab": {
          "base_uri": "https://localhost:8080/"
        },
        "id": "29pWKsd4plkx",
        "outputId": "e3ff66be-4736-4aa4-80f9-ddb816e2e313"
      },
      "source": [
        "# Let's see how to implement Stochastics Gradient Descent with Scikit-Learn\r\n",
        "from sklearn.linear_model import SGDRegressor\r\n",
        "\r\n",
        "sgd_reg = SGDRegressor(max_iter=1000, tol=1e-3, penalty=None, eta0=0.1, random_state=42)\r\n",
        "sgd_reg.fit(X, y.ravel())"
      ],
      "execution_count": null,
      "outputs": [
        {
          "output_type": "execute_result",
          "data": {
            "text/plain": [
              "SGDRegressor(alpha=0.0001, average=False, early_stopping=False, epsilon=0.1,\n",
              "             eta0=0.1, fit_intercept=True, l1_ratio=0.15,\n",
              "             learning_rate='invscaling', loss='squared_loss', max_iter=1000,\n",
              "             n_iter_no_change=5, penalty=None, power_t=0.25, random_state=42,\n",
              "             shuffle=True, tol=0.001, validation_fraction=0.1, verbose=0,\n",
              "             warm_start=False)"
            ]
          },
          "metadata": {
            "tags": []
          },
          "execution_count": 23
        }
      ]
    },
    {
      "cell_type": "code",
      "metadata": {
        "colab": {
          "base_uri": "https://localhost:8080/"
        },
        "id": "HpnDHhiDp_0Y",
        "outputId": "2e73d682-1b00-4105-8348-ee2dc0ce8de6"
      },
      "source": [
        "print(sgd_reg.intercept_, sgd_reg.coef_)"
      ],
      "execution_count": null,
      "outputs": [
        {
          "output_type": "stream",
          "text": [
            "[3.88432476] [3.2153003]\n"
          ],
          "name": "stdout"
        }
      ]
    },
    {
      "cell_type": "markdown",
      "metadata": {
        "id": "pC5_VzEeqxxz"
      },
      "source": [
        "### Polynomial Regression\r\n"
      ]
    },
    {
      "cell_type": "code",
      "metadata": {
        "id": "9NtYm3cP34k1"
      },
      "source": [
        "import numpy as np\r\n",
        "import numpy.random as rnd\r\n",
        "\r\n",
        "np.random.seed(42)"
      ],
      "execution_count": 26,
      "outputs": []
    },
    {
      "cell_type": "code",
      "metadata": {
        "id": "O2vZb458358q"
      },
      "source": [
        "m = 100\r\n",
        "X = 6 * np.random.rand(m, 1) - 3\r\n",
        "y = 0.5 * X**2 + X + 2 + np.random.randn(m, 1)"
      ],
      "execution_count": 27,
      "outputs": []
    },
    {
      "cell_type": "code",
      "metadata": {
        "colab": {
          "base_uri": "https://localhost:8080/",
          "height": 291
        },
        "id": "uf9WW6Lo382q",
        "outputId": "92bb5ab7-260b-41d8-d473-0f5b1ee5dd91"
      },
      "source": [
        "plt.plot(X, y, \"b.\")\r\n",
        "plt.xlabel(\"$x_1$\", fontsize=18)\r\n",
        "plt.ylabel(\"$y$\", rotation=0, fontsize=18)\r\n",
        "plt.axis([-3, 3, 0, 10])\r\n",
        "# save_fig(\"quadratic_data_plot\")\r\n",
        "plt.show()"
      ],
      "execution_count": 28,
      "outputs": [
        {
          "output_type": "display_data",
          "data": {
            "image/png": "[encoded data removed]",
            "text/plain": [
              "<Figure size 432x288 with 1 Axes>"
            ]
          },
          "metadata": {
            "tags": [],
            "needs_background": "light"
          }
        }
      ]
    },
    {
      "cell_type": "code",
      "metadata": {
        "colab": {
          "base_uri": "https://localhost:8080/"
        },
        "id": "fx80SuC74Nmj",
        "outputId": "0d3ef9d8-a1a3-4597-b949-0d99e721eea8"
      },
      "source": [
        "from sklearn.preprocessing import PolynomialFeatures\r\n",
        "poly_features = PolynomialFeatures(degree=2, include_bias=False)\r\n",
        "X_poly = poly_features.fit_transform(X)\r\n",
        "X[0]"
      ],
      "execution_count": 29,
      "outputs": [
        {
          "output_type": "execute_result",
          "data": {
            "text/plain": [
              "array([-0.75275929])"
            ]
          },
          "metadata": {
            "tags": []
          },
          "execution_count": 29
        }
      ]
    },
    {
      "cell_type": "code",
      "metadata": {
        "colab": {
          "base_uri": "https://localhost:8080/"
        },
        "id": "6CH4bVBF4S2k",
        "outputId": "3adbabe6-4358-4b1c-a897-992297dbe94c"
      },
      "source": [
        "lin_reg = LinearRegression()\r\n",
        "lin_reg.fit(X_poly, y)\r\n",
        "lin_reg.intercept_, lin_reg.coef_"
      ],
      "execution_count": 30,
      "outputs": [
        {
          "output_type": "execute_result",
          "data": {
            "text/plain": [
              "(array([1.78134581]), array([[0.93366893, 0.56456263]]))"
            ]
          },
          "metadata": {
            "tags": []
          },
          "execution_count": 30
        }
      ]
    },
    {
      "cell_type": "markdown",
      "metadata": {
        "id": "qX_VfGQI8xP-"
      },
      "source": [
        "Learning Curves"
      ]
    },
    {
      "cell_type": "code",
      "metadata": {
        "id": "JQlNPIqt8yuw"
      },
      "source": [
        "from sklearn.metrics import mean_squared_error\r\n",
        "from sklearn.model_selection import train_test_split\r\n",
        "\r\n",
        "def plot_learning_curves(model, X, y):\r\n",
        "    X_train, X_val, y_train, y_val = train_test_split(X, y, test_size=0.2, random_state=10)\r\n",
        "    train_errors, val_errors = [], []\r\n",
        "    for m in range(1, len(X_train)):\r\n",
        "        model.fit(X_train[:m], y_train[:m])\r\n",
        "        y_train_predict = model.predict(X_train[:m])\r\n",
        "        y_val_predict = model.predict(X_val)\r\n",
        "        train_errors.append(mean_squared_error(y_train[:m], y_train_predict))\r\n",
        "        val_errors.append(mean_squared_error(y_val, y_val_predict))\r\n",
        "\r\n",
        "    plt.plot(np.sqrt(train_errors), \"r-+\", linewidth=2, label=\"train\")\r\n",
        "    plt.plot(np.sqrt(val_errors), \"b-\", linewidth=3, label=\"val\")\r\n",
        "    plt.legend(loc=\"upper right\", fontsize=14)   # not shown in the book\r\n",
        "    plt.xlabel(\"Training set size\", fontsize=14) # not shown\r\n",
        "    plt.ylabel(\"RMSE\", fontsize=14)              # not shown"
      ],
      "execution_count": 32,
      "outputs": []
    },
    {
      "cell_type": "markdown",
      "metadata": {
        "id": "8rOHJIs590S7"
      },
      "source": [
        "Underfitting"
      ]
    },
    {
      "cell_type": "code",
      "metadata": {
        "colab": {
          "base_uri": "https://localhost:8080/",
          "height": 287
        },
        "id": "9z3wUMcN82kW",
        "outputId": "a61d7e9d-f4e7-464a-dfca-267d85071aa2"
      },
      "source": [
        "# See the condition of underfitting\r\n",
        "\r\n",
        "lin_reg = LinearRegression()\r\n",
        "plot_learning_curves(lin_reg, X, y)\r\n",
        "plt.axis([0, 80, 0, 3])                         # not shown in the book\r\n",
        "# save_fig(\"underfitting_learning_curves_plot\")   # not shown\r\n",
        "plt.show()  "
      ],
      "execution_count": 34,
      "outputs": [
        {
          "output_type": "display_data",
          "data": {
            "image/png": "[encoded data removed]",
            "text/plain": [
              "<Figure size 432x288 with 1 Axes>"
            ]
          },
          "metadata": {
            "tags": [],
            "needs_background": "light"
          }
        }
      ]
    },
    {
      "cell_type": "markdown",
      "metadata": {
        "id": "HxX2UJi3-lCj"
      },
      "source": [
        "Overfitting"
      ]
    },
    {
      "cell_type": "code",
      "metadata": {
        "colab": {
          "base_uri": "https://localhost:8080/",
          "height": 287
        },
        "id": "Qo6pveJ694Z8",
        "outputId": "e8112853-ea25-4576-a6a6-53a7010d9a01"
      },
      "source": [
        "from sklearn.pipeline import Pipeline\r\n",
        "\r\n",
        "polynomial_regression = Pipeline([\r\n",
        "        (\"poly_features\", PolynomialFeatures(degree=10, include_bias=False)),\r\n",
        "        (\"lin_reg\", LinearRegression()),\r\n",
        "    ])\r\n",
        "\r\n",
        "plot_learning_curves(polynomial_regression, X, y)\r\n",
        "plt.axis([0, 80, 0, 3])           # not shown\r\n",
        "#save_fig(\"learning_curves_plot\")  # not shown\r\n",
        "plt.show()                        # not shown"
      ],
      "execution_count": 35,
      "outputs": [
        {
          "output_type": "display_data",
          "data": {
            "image/png": "[encoded data removed]",
            "text/plain": [
              "<Figure size 432x288 with 1 Axes>"
            ]
          },
          "metadata": {
            "tags": [],
            "needs_background": "light"
          }
        }
      ]
    }
  ]
}