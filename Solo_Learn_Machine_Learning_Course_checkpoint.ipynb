{
  "nbformat": 4,
  "nbformat_minor": 0,
  "metadata": {
    "kernelspec": {
      "display_name": "Python 3",
      "language": "python",
      "name": "python3"
    },
    "language_info": {
      "codemirror_mode": {
        "name": "ipython",
        "version": 3
      },
      "file_extension": ".py",
      "mimetype": "text/x-python",
      "name": "python",
      "nbconvert_exporter": "python",
      "pygments_lexer": "ipython3",
      "version": "3.8.5"
    },
    "colab": {
      "name": "Solo Learn Machine Learning Course-checkpoint.ipynb",
      "provenance": [],
      "toc_visible": true,
      "include_colab_link": true
    }
  },
  "cells": [
    {
      "cell_type": "markdown",
      "metadata": {
        "id": "view-in-github",
        "colab_type": "text"
      },
      "source": [
        "<a href=\"https://colab.research.google.com/github/EnricoHuber/SoloLearn/blob/main/Solo_Learn_Machine_Learning_Course_checkpoint.ipynb\" target=\"_parent\"><img src=\"https://colab.research.google.com/assets/colab-badge.svg\" alt=\"Open In Colab\"/></a>"
      ]
    },
    {
      "cell_type": "markdown",
      "metadata": {
        "id": "mF8wR1b9lF8o"
      },
      "source": [
        "# Machine Learning with Solo Learn\r\n",
        "In this notebook we are going to cover some algorithms for classification in Python using some famous libraries."
      ]
    },
    {
      "cell_type": "markdown",
      "metadata": {
        "id": "QhQ6nMInp4Mq"
      },
      "source": [
        "## Statistics Review with Python"
      ]
    },
    {
      "cell_type": "markdown",
      "metadata": {
        "id": "KOOxmDOVq9Ss"
      },
      "source": [
        "Some known statistics can be computed with Numpy. See Numpy [docs](https://numpy.org/doc/) here."
      ]
    },
    {
      "cell_type": "code",
      "metadata": {
        "id": "OqStKHsCp8Xb",
        "colab": {
          "base_uri": "https://localhost:8080/"
        },
        "outputId": "5a62d837-6643-4b51-9852-3b88a6008c58"
      },
      "source": [
        "import numpy as np\r\n",
        "\r\n",
        "data = [15, 16, 18, 19, 22, 24, 29, 30, 34]\r\n",
        "\r\n",
        "print(\"mean:\", np.mean(data))\r\n",
        "print(\"median:\", np.median(data))\r\n",
        "print(\"50th percentile (median):\", np.percentile(data, 50))\r\n",
        "print(\"25th percentile:\", np.percentile(data, 25))\r\n",
        "print(\"75th percentile:\", np.percentile(data, 75))\r\n",
        "print(\"standard deviation:\", np.std(data))\r\n",
        "print(\"variance:\", np.var(data))"
      ],
      "execution_count": 1,
      "outputs": [
        {
          "output_type": "stream",
          "text": [
            "mean: 23.0\n",
            "median: 22.0\n",
            "50th percentile (median): 22.0\n",
            "25th percentile: 18.0\n",
            "75th percentile: 29.0\n",
            "standard deviation: 6.342099196813483\n",
            "variance: 40.22222222222222\n"
          ],
          "name": "stdout"
        }
      ]
    },
    {
      "cell_type": "markdown",
      "metadata": {
        "id": "KUOUhBcZrDye"
      },
      "source": [
        "Data manipulation is down via Pandas. See Pandas [docs](https://pandas.pydata.org/pandas-docs/stable/) here."
      ]
    },
    {
      "cell_type": "code",
      "metadata": {
        "colab": {
          "base_uri": "https://localhost:8080/"
        },
        "id": "YuPFQVmvrYl5",
        "outputId": "72050420-6270-4d2b-a203-61fed2c2e058"
      },
      "source": [
        "import pandas as pd\r\n",
        "df = pd.read_csv('https://sololearn.com/uploads/files/titanic.csv')\r\n",
        "print(df.head())\r\n",
        "print(df.describe())"
      ],
      "execution_count": 2,
      "outputs": [
        {
          "output_type": "stream",
          "text": [
            "   Survived  Pclass     Sex   Age  Siblings/Spouses  Parents/Children     Fare\n",
            "0         0       3    male  22.0                 1                 0   7.2500\n",
            "1         1       1  female  38.0                 1                 0  71.2833\n",
            "2         1       3  female  26.0                 0                 0   7.9250\n",
            "3         1       1  female  35.0                 1                 0  53.1000\n",
            "4         0       3    male  35.0                 0                 0   8.0500\n",
            "         Survived      Pclass  ...  Parents/Children       Fare\n",
            "count  887.000000  887.000000  ...        887.000000  887.00000\n",
            "mean     0.385569    2.305524  ...          0.383315   32.30542\n",
            "std      0.487004    0.836662  ...          0.807466   49.78204\n",
            "min      0.000000    1.000000  ...          0.000000    0.00000\n",
            "25%      0.000000    2.000000  ...          0.000000    7.92500\n",
            "50%      0.000000    3.000000  ...          0.000000   14.45420\n",
            "75%      1.000000    3.000000  ...          0.000000   31.13750\n",
            "max      1.000000    3.000000  ...          6.000000  512.32920\n",
            "\n",
            "[8 rows x 6 columns]\n"
          ],
          "name": "stdout"
        }
      ]
    },
    {
      "cell_type": "code",
      "metadata": {
        "colab": {
          "base_uri": "https://localhost:8080/"
        },
        "id": "v0bHsU1vsZzW",
        "outputId": "812ad1b1-b3af-4983-d8d9-b91c477b7b96"
      },
      "source": [
        "col = df['Fare']\r\n",
        "print(col)"
      ],
      "execution_count": 3,
      "outputs": [
        {
          "output_type": "stream",
          "text": [
            "0       7.2500\n",
            "1      71.2833\n",
            "2       7.9250\n",
            "3      53.1000\n",
            "4       8.0500\n",
            "        ...   \n",
            "882    13.0000\n",
            "883    30.0000\n",
            "884    23.4500\n",
            "885    30.0000\n",
            "886     7.7500\n",
            "Name: Fare, Length: 887, dtype: float64\n"
          ],
          "name": "stdout"
        }
      ]
    },
    {
      "cell_type": "code",
      "metadata": {
        "colab": {
          "base_uri": "https://localhost:8080/"
        },
        "id": "T5jUmLgDtMSS",
        "outputId": "0337a2d3-8767-4cfc-e696-abc997f1f81a"
      },
      "source": [
        "# You can create a small subdataframe\r\n",
        "small_df = df[['Age', 'Sex', 'Survived']]\r\n",
        "print(small_df.head())"
      ],
      "execution_count": 4,
      "outputs": [
        {
          "output_type": "stream",
          "text": [
            "    Age     Sex  Survived\n",
            "0  22.0    male         0\n",
            "1  38.0  female         1\n",
            "2  26.0  female         1\n",
            "3  35.0  female         1\n",
            "4  35.0    male         0\n"
          ],
          "name": "stdout"
        }
      ]
    }
  ]
}