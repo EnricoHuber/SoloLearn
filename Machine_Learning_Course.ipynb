{
  "nbformat": 4,
  "nbformat_minor": 0,
  "metadata": {
    "kernelspec": {
      "display_name": "Python 3",
      "language": "python",
      "name": "python3"
    },
    "language_info": {
      "codemirror_mode": {
        "name": "ipython",
        "version": 3
      },
      "file_extension": ".py",
      "mimetype": "text/x-python",
      "name": "python",
      "nbconvert_exporter": "python",
      "pygments_lexer": "ipython3",
      "version": "3.8.5"
    },
    "colab": {
      "name": "Machine Learning Course.ipynb",
      "provenance": [],
      "collapsed_sections": [],
      "toc_visible": true,
      "include_colab_link": true
    }
  },
  "cells": [
    {
      "cell_type": "markdown",
      "metadata": {
        "id": "view-in-github",
        "colab_type": "text"
      },
      "source": [
        "<a href=\"https://colab.research.google.com/github/EnricoHuber/SoloLearn/blob/main/Machine_Learning_Course.ipynb\" target=\"_parent\"><img src=\"https://colab.research.google.com/assets/colab-badge.svg\" alt=\"Open In Colab\"/></a>"
      ]
    },
    {
      "cell_type": "markdown",
      "metadata": {
        "id": "mF8wR1b9lF8o"
      },
      "source": [
        "# Machine Learning with Solo Learn\r\n",
        "In this notebook we are going to cover some algorithms for classification in Python using some famous libraries."
      ]
    },
    {
      "cell_type": "markdown",
      "metadata": {
        "id": "QhQ6nMInp4Mq"
      },
      "source": [
        "## Statistics Review with Python"
      ]
    },
    {
      "cell_type": "markdown",
      "metadata": {
        "id": "KOOxmDOVq9Ss"
      },
      "source": [
        "Some known statistics can be computed with Numpy. See Numpy [documentation](https://numpy.org/doc/) here."
      ]
    },
    {
      "cell_type": "code",
      "metadata": {
        "id": "OqStKHsCp8Xb",
        "colab": {
          "base_uri": "https://localhost:8080/"
        },
        "outputId": "9a226e57-16a5-424a-a0f1-a715ea8cf663"
      },
      "source": [
        "import numpy as np\r\n",
        "\r\n",
        "data = [15, 16, 18, 19, 22, 24, 29, 30, 34]\r\n",
        "\r\n",
        "print(\"mean:\", np.mean(data))\r\n",
        "print(\"median:\", np.median(data))\r\n",
        "print(\"50th percentile (median):\", np.percentile(data, 50))\r\n",
        "print(\"25th percentile:\", np.percentile(data, 25))\r\n",
        "print(\"75th percentile:\", np.percentile(data, 75))\r\n",
        "print(\"standard deviation:\", np.std(data))\r\n",
        "print(\"variance:\", np.var(data))"
      ],
      "execution_count": 1,
      "outputs": [
        {
          "output_type": "stream",
          "text": [
            "mean: 23.0\n",
            "median: 22.0\n",
            "50th percentile (median): 22.0\n",
            "25th percentile: 18.0\n",
            "75th percentile: 29.0\n",
            "standard deviation: 6.342099196813483\n",
            "variance: 40.22222222222222\n"
          ],
          "name": "stdout"
        }
      ]
    },
    {
      "cell_type": "markdown",
      "metadata": {
        "id": "jhTDR7Ao0ruL"
      },
      "source": [
        "Data manipulation is down via Pandas. See Pandas [documentation](https://pandas.pydata.org/pandas-docs/stable/) here."
      ]
    },
    {
      "cell_type": "code",
      "metadata": {
        "colab": {
          "base_uri": "https://localhost:8080/"
        },
        "id": "YuPFQVmvrYl5",
        "outputId": "0617e102-05ce-4ced-d832-bd8dc0b6b245"
      },
      "source": [
        "import pandas as pd\r\n",
        "df = pd.read_csv('https://sololearn.com/uploads/files/titanic.csv')\r\n",
        "print(df.head())\r\n",
        "print(df.describe())"
      ],
      "execution_count": 2,
      "outputs": [
        {
          "output_type": "stream",
          "text": [
            "   Survived  Pclass     Sex   Age  Siblings/Spouses  Parents/Children     Fare\n",
            "0         0       3    male  22.0                 1                 0   7.2500\n",
            "1         1       1  female  38.0                 1                 0  71.2833\n",
            "2         1       3  female  26.0                 0                 0   7.9250\n",
            "3         1       1  female  35.0                 1                 0  53.1000\n",
            "4         0       3    male  35.0                 0                 0   8.0500\n",
            "         Survived      Pclass  ...  Parents/Children       Fare\n",
            "count  887.000000  887.000000  ...        887.000000  887.00000\n",
            "mean     0.385569    2.305524  ...          0.383315   32.30542\n",
            "std      0.487004    0.836662  ...          0.807466   49.78204\n",
            "min      0.000000    1.000000  ...          0.000000    0.00000\n",
            "25%      0.000000    2.000000  ...          0.000000    7.92500\n",
            "50%      0.000000    3.000000  ...          0.000000   14.45420\n",
            "75%      1.000000    3.000000  ...          0.000000   31.13750\n",
            "max      1.000000    3.000000  ...          6.000000  512.32920\n",
            "\n",
            "[8 rows x 6 columns]\n"
          ],
          "name": "stdout"
        }
      ]
    },
    {
      "cell_type": "code",
      "metadata": {
        "colab": {
          "base_uri": "https://localhost:8080/"
        },
        "id": "v0bHsU1vsZzW",
        "outputId": "f07269b4-6af9-4fc4-b112-3c510cab69e0"
      },
      "source": [
        "col = df['Fare']\r\n",
        "print(col)"
      ],
      "execution_count": 3,
      "outputs": [
        {
          "output_type": "stream",
          "text": [
            "0       7.2500\n",
            "1      71.2833\n",
            "2       7.9250\n",
            "3      53.1000\n",
            "4       8.0500\n",
            "        ...   \n",
            "882    13.0000\n",
            "883    30.0000\n",
            "884    23.4500\n",
            "885    30.0000\n",
            "886     7.7500\n",
            "Name: Fare, Length: 887, dtype: float64\n"
          ],
          "name": "stdout"
        }
      ]
    },
    {
      "cell_type": "code",
      "metadata": {
        "colab": {
          "base_uri": "https://localhost:8080/"
        },
        "id": "T5jUmLgDtMSS",
        "outputId": "974db6ce-f01e-4de7-98e3-91b1e0d47c14"
      },
      "source": [
        "# You can create a small subdataframe\r\n",
        "small_df = df[['Age', 'Sex', 'Survived']]\r\n",
        "print(small_df.head())\r\n",
        "\r\n",
        "# We create a new column with boolean values as regarding to sex\r\n",
        "df['male'] = df['Sex'] == 'male'\r\n",
        "print(df.head())"
      ],
      "execution_count": 4,
      "outputs": [
        {
          "output_type": "stream",
          "text": [
            "    Age     Sex  Survived\n",
            "0  22.0    male         0\n",
            "1  38.0  female         1\n",
            "2  26.0  female         1\n",
            "3  35.0  female         1\n",
            "4  35.0    male         0\n",
            "   Survived  Pclass     Sex  ...  Parents/Children     Fare   male\n",
            "0         0       3    male  ...                 0   7.2500   True\n",
            "1         1       1  female  ...                 0  71.2833  False\n",
            "2         1       3  female  ...                 0   7.9250  False\n",
            "3         1       1  female  ...                 0  53.1000  False\n",
            "4         0       3    male  ...                 0   8.0500   True\n",
            "\n",
            "[5 rows x 8 columns]\n"
          ],
          "name": "stdout"
        }
      ]
    },
    {
      "cell_type": "code",
      "metadata": {
        "id": "aHZ0gIEqusFU",
        "colab": {
          "base_uri": "https://localhost:8080/"
        },
        "outputId": "00e454ff-9582-41b4-a0d6-cc25403a9eb1"
      },
      "source": [
        "# One can convert Pandas Dataframe into a Pandas Series and then into a Numpy Array\r\n",
        "print(df['Fare'].values)\r\n",
        "print(df[['Pclass', 'Fare', 'Age']].values)\r\n",
        "arr = df[['Pclass', 'Fare', 'Age']].values\r\n",
        "print(arr.shape)"
      ],
      "execution_count": 5,
      "outputs": [
        {
          "output_type": "stream",
          "text": [
            "[  7.25    71.2833   7.925   53.1      8.05     8.4583  51.8625  21.075\n",
            "  11.1333  30.0708  16.7     26.55     8.05    31.275    7.8542  16.\n",
            "  29.125   13.      18.       7.225   26.      13.       8.0292  35.5\n",
            "  21.075   31.3875   7.225  263.       7.8792   7.8958  27.7208 146.5208\n",
            "   7.75    10.5     82.1708  52.       7.2292   8.05    18.      11.2417\n",
            "   9.475   21.      41.5792   7.8792   8.05    15.5      7.75    21.6792\n",
            "  17.8     39.6875   7.8     76.7292  26.      61.9792  35.5     10.5\n",
            "   7.2292  27.75    46.9      7.2292  80.      83.475   27.9     27.7208\n",
            "  15.2458  10.5      8.1583   7.925    8.6625  10.5     46.9     73.5\n",
            "  14.4542  56.4958   7.65     7.8958   8.05    29.      12.475    9.\n",
            "   9.5      7.7875  47.1     10.5     15.85    34.375    8.05   263.\n",
            "   8.05     8.05     7.8542  61.175   20.575    7.25     8.05    34.6542\n",
            "  63.3583  23.      26.       7.8958   7.8958  77.2875   8.6542   7.925\n",
            "   7.8958   7.65     7.775    7.8958  24.15    52.      14.4542   8.05\n",
            "   9.825   14.4583   7.925    7.75    21.     247.5208  31.275   73.5\n",
            "   8.05    30.0708  13.      77.2875  11.2417   7.75     7.1417  22.3583\n",
            "   6.975    7.8958   7.05    14.5     26.      13.      15.0458  26.2833\n",
            "  53.1      9.2167  79.2     15.2458   7.75    15.85     6.75    11.5\n",
            "  36.75     7.7958  34.375   26.      13.      12.525   66.6      8.05\n",
            "  14.5      7.3125  61.3792   7.7333   8.05     8.6625  69.55    16.1\n",
            "  15.75     7.775    8.6625  39.6875  20.525   55.      27.9     25.925\n",
            "  56.4958  33.5     29.125   11.1333   7.925   30.6958   7.8542  25.4667\n",
            "  28.7125  13.       0.      69.55    15.05    31.3875  39.      22.025\n",
            "  50.      15.5     26.55    15.5      7.8958  13.      13.       7.8542\n",
            "  26.      27.7208 146.5208   7.75     8.4042   7.75    13.       9.5\n",
            "  69.55     6.4958   7.225    8.05    10.4625  15.85    18.7875   7.75\n",
            "  31.       7.05    21.       7.25    13.       7.75   113.275    7.925\n",
            "  27.      76.2917  10.5      8.05    13.       8.05     7.8958  90.\n",
            "   9.35    10.5      7.25    13.      25.4667  83.475    7.775   13.5\n",
            "  31.3875  10.5      7.55    26.      26.25    10.5     12.275   14.4542\n",
            "  15.5     10.5      7.125    7.225   90.       7.775   14.5     52.5542\n",
            "  26.       7.25    10.4625  26.55    16.1     20.2125  15.2458  79.2\n",
            "  86.5    512.3292  26.      31.3875  79.65     0.       7.75    10.5\n",
            "  39.6875   7.775  153.4625 135.6333  31.       0.      19.5     29.7\n",
            "   7.75    77.9583   7.75     0.      29.125   20.25     7.75     7.8542\n",
            "   9.5      8.05    26.       8.6625   9.5      7.8958  13.       7.75\n",
            "  78.85    91.0792  12.875    8.85     7.8958  27.7208   7.2292 151.55\n",
            "  30.5    247.5208   7.75    23.25     0.      12.35     8.05   151.55\n",
            " 110.8833 108.9     24.      56.9292  83.1583 262.375   26.       7.8958\n",
            "  26.25     7.8542  26.      14.     164.8667 134.5      7.25     7.8958\n",
            "  12.35    29.      69.55   135.6333   6.2375  13.      20.525   57.9792\n",
            "  23.25    28.5    153.4625  18.     133.65     7.8958  66.6    134.5\n",
            "   8.05    35.5     26.     263.      13.      13.      13.      13.\n",
            "  13.      16.1     15.9      8.6625   9.225   35.       7.2292  17.8\n",
            "   7.225    9.5     55.      13.       7.8792   7.8792  27.9     27.7208\n",
            "  14.4542   7.05    15.5      7.25    75.25     7.2292   7.75    69.3\n",
            "  55.4417   6.4958   8.05   135.6333  21.075   82.1708   7.25   211.5\n",
            "   4.0125   7.775  227.525   15.7417   7.925   52.       7.8958  73.5\n",
            "  46.9     13.       7.7292  12.     120.       7.7958   7.925  113.275\n",
            "  16.7      7.7958   7.8542  26.      10.5     12.65     7.925    8.05\n",
            "   9.825   15.85     8.6625  21.       7.75    18.75     7.775   25.4667\n",
            "   7.8958   6.8583  90.       0.       7.925    8.05    32.5     13.\n",
            "  13.      24.15     7.7333   7.875   14.4     20.2125   7.25    26.\n",
            "  26.       7.75     8.05    26.55    16.1     26.       7.125   55.9\n",
            " 120.      34.375   18.75   263.      10.5     26.25     9.5      7.775\n",
            "  13.       8.1125  81.8583  19.5     26.55    19.2583  30.5     27.75\n",
            "  19.9667  27.75    89.1042   8.05     7.8958  26.55    51.8625  10.5\n",
            "   7.75    26.55     8.05    38.5     13.       8.05     7.05     0.\n",
            "  26.55     7.725   19.2583   7.25     8.6625  27.75    13.7917   9.8375\n",
            "  52.      21.       7.0458   7.5208  12.2875  46.9      0.       8.05\n",
            "   9.5875  91.0792  25.4667  90.      29.7      8.05    15.9     19.9667\n",
            "   7.25    30.5     49.5042   8.05    14.4583  78.2667  15.1    151.55\n",
            "   7.7958   8.6625   7.75     7.6292   9.5875  86.5    108.9     26.\n",
            "  26.55    22.525   56.4958   7.75     8.05    26.2875  59.4      7.4958\n",
            "  34.0208  10.5     24.15    26.       7.8958  93.5      7.8958   7.225\n",
            "  57.9792   7.2292   7.75    10.5    221.7792   7.925   11.5     26.\n",
            "   7.2292   7.2292  22.3583   8.6625  26.25    26.55   106.425   14.5\n",
            "  49.5     71.      31.275   31.275   26.     106.425   26.      26.\n",
            "  13.8625  20.525   36.75   110.8833  26.       7.8292   7.225    7.775\n",
            "  26.55    39.6    227.525   79.65    17.4      7.75     7.8958  13.5\n",
            "   8.05     8.05    24.15     7.8958  21.075    7.2292   7.8542  10.5\n",
            "  51.4792  26.3875   7.75     8.05    14.5     13.      55.9     14.4583\n",
            "   7.925   30.     110.8833  26.      40.125    8.7125  79.65    15.\n",
            "  79.2      8.05     8.05     7.125   78.2667   7.25     7.75    26.\n",
            "  24.15    33.       0.       7.225   56.9292  27.       7.8958  42.4\n",
            "   8.05    26.55    15.55     7.8958  30.5     41.5792 153.4625  31.275\n",
            "   7.05    15.5      7.75     8.05    65.      14.4     16.1     39.\n",
            "  10.5     14.4542  52.5542  15.7417   7.8542  16.1     32.3208  12.35\n",
            "  77.9583   7.8958   7.7333  30.       7.0542  30.5      0.      27.9\n",
            "  13.       7.925   26.25    39.6875  16.1      7.8542  69.3     27.9\n",
            "  56.4958  19.2583  76.7292   7.8958  35.5      7.55     7.55     7.8958\n",
            "  23.       8.4333   7.8292   6.75    73.5      7.8958  15.5     13.\n",
            " 113.275  133.65     7.225   25.5875   7.4958   7.925   73.5     13.\n",
            "   7.775    8.05    52.      39.      52.      10.5     13.       0.\n",
            "   7.775    8.05     9.8417  46.9    512.3292   8.1375  76.7292   9.225\n",
            "  46.9     39.      41.5792  39.6875  10.1708   7.7958 211.3375  57.\n",
            "  13.4167  56.4958   7.225   26.55    13.5      8.05     7.7333 110.8833\n",
            "   7.65   227.525   26.2875  14.4542   7.7417   7.8542  26.      13.5\n",
            "  26.2875 151.55    15.2458  49.5042  26.55    52.       9.4833  13.\n",
            "   7.65   227.525   10.5      7.775   33.       7.0542  13.      13.\n",
            "  53.1      8.6625  21.       7.7375  26.       7.925  211.3375  18.7875\n",
            "   0.      13.      13.      16.1     34.375  512.3292   7.8958   7.8958\n",
            "  30.      78.85   262.375   16.1      7.925   71.      20.25    13.\n",
            "  53.1      7.75    23.      12.475    9.5      7.8958  65.      14.5\n",
            "   7.7958  11.5      8.05    86.5     14.5      7.125    7.2292 120.\n",
            "   7.775   77.9583  39.6      7.75    24.15     8.3625   9.5      7.8542\n",
            "  10.5      7.225   23.       7.75     7.75    12.475    7.7375 211.3375\n",
            "   7.2292  57.      30.      23.45     7.05     7.25     7.4958  29.125\n",
            "  20.575   79.2      7.75    26.      69.55    30.6958   7.8958  13.\n",
            "  25.9292   8.6833   7.2292  24.15    13.      26.25   120.       8.5167\n",
            "   6.975    7.775    0.       7.775   13.      53.1      7.8875  24.15\n",
            "  10.5     31.275    8.05     0.       7.925   37.0042   6.45    27.9\n",
            "  93.5      8.6625   0.      12.475   39.6875   6.95    56.4958  37.0042\n",
            "   7.75    80.      14.4542  18.75     7.2292   7.8542   8.3     83.1583\n",
            "   8.6625   8.05    56.4958  29.7      7.925   10.5     31.       6.4375\n",
            "   8.6625   7.55    69.55     7.8958  33.      89.1042  31.275    7.775\n",
            "  15.2458  39.4     26.       9.35   164.8667  26.55    19.2583   7.2292\n",
            "  14.1083  11.5     25.9292  69.55    13.      13.      13.8583  50.4958\n",
            "   9.5     11.1333   7.8958  52.5542   5.       9.      24.       7.225\n",
            "   9.8458   7.8958   7.8958  83.1583  26.       7.8958  10.5167  10.5\n",
            "   7.05    29.125   13.      30.      23.45    30.       7.75  ]\n",
            "[[ 3.      7.25   22.    ]\n",
            " [ 1.     71.2833 38.    ]\n",
            " [ 3.      7.925  26.    ]\n",
            " ...\n",
            " [ 3.     23.45    7.    ]\n",
            " [ 1.     30.     26.    ]\n",
            " [ 3.      7.75   32.    ]]\n",
            "(887, 3)\n"
          ],
          "name": "stdout"
        }
      ]
    },
    {
      "cell_type": "code",
      "metadata": {
        "colab": {
          "base_uri": "https://localhost:8080/"
        },
        "id": "d9x4gidAvVj1",
        "outputId": "4d630d28-b891-4c38-b6e7-30639ede00a3"
      },
      "source": [
        "# You can also select some elements\r\n",
        "print(arr[0, 1])\r\n",
        "print(arr[0])\r\n",
        "print(arr[:, 2])"
      ],
      "execution_count": 6,
      "outputs": [
        {
          "output_type": "stream",
          "text": [
            "7.25\n",
            "[ 3.    7.25 22.  ]\n",
            "[22.   38.   26.   35.   35.   27.   54.    2.   27.   14.    4.   58.\n",
            " 20.   39.   14.   55.    2.   23.   31.   22.   35.   34.   15.   28.\n",
            "  8.   38.   26.   19.   24.   23.   40.   48.   18.   66.   28.   42.\n",
            " 18.   21.   18.   14.   40.   27.    3.   19.   30.   20.   27.   16.\n",
            " 18.    7.   21.   49.   29.   65.   46.   21.   28.5   5.   11.   22.\n",
            " 38.   45.    4.   64.    7.   29.   19.   17.   26.   32.   16.   21.\n",
            " 26.   32.   25.   23.   28.    0.83 30.   22.   29.   31.   28.   17.\n",
            " 33.   16.   20.   23.   24.   29.   20.   46.   26.   59.   22.   71.\n",
            " 23.   34.   34.   28.   29.   21.   33.   37.   28.   21.   29.   38.\n",
            " 28.   47.   14.5  22.   20.   17.   21.   70.5  29.   24.    2.   21.\n",
            " 19.   32.5  32.5  54.   12.   19.   24.    2.   45.   33.   20.   47.\n",
            " 29.   25.   23.   19.   37.   16.   24.   40.   22.   24.   19.   18.\n",
            " 19.   27.    9.   36.5  42.   51.   22.   55.5  40.5  27.   51.   16.\n",
            " 30.   37.    5.   44.   40.   26.   17.    1.    9.   48.   45.   60.\n",
            " 28.   61.    4.    1.   21.   56.   18.    5.   50.   30.   36.    8.\n",
            " 39.    9.    1.    4.   39.   26.   45.   40.   36.   32.   19.   19.\n",
            "  3.   44.   58.   28.   42.   21.   24.   28.   17.   34.   45.5  18.\n",
            "  2.   32.   26.   16.   40.   24.   35.   22.   30.   22.   31.   27.\n",
            " 42.   32.   30.   16.   27.   51.   22.   38.   22.   19.   20.5  18.\n",
            " 12.   35.   29.   59.    5.   24.   21.   44.    8.   19.   33.   19.\n",
            " 18.   29.   22.   30.   44.   25.   24.   37.   54.   18.   29.   62.\n",
            " 30.   41.   29.   38.   30.   35.   50.    3.   52.   40.   21.   36.\n",
            " 16.   25.   58.   35.   28.   25.   41.   37.   33.   63.   45.   21.\n",
            "  7.   35.   65.   28.   16.   19.   57.   33.   30.   22.   42.   22.\n",
            " 26.   19.   36.   24.   24.   30.   23.5   2.   47.   50.   20.   24.\n",
            " 19.   46.   28.    0.92 42.   17.   30.   30.   24.   18.   26.   28.\n",
            " 43.   26.   24.   54.   31.   40.   22.   27.   30.   22.   20.   36.\n",
            " 61.   36.   31.   16.   28.   45.5  38.   16.   42.   30.   29.   41.\n",
            " 45.   45.    2.   24.   28.   25.   36.   24.   40.   34.    3.   42.\n",
            " 23.   43.   15.   25.   23.   28.   22.   38.   22.   23.   40.   29.\n",
            " 45.   35.   27.   30.   60.   35.   22.   24.   25.   18.   19.   22.\n",
            "  3.   25.   22.   27.   20.   19.   42.    1.   32.   35.   27.   18.\n",
            "  1.   36.   19.   17.   36.   21.   28.   23.   24.   22.   31.   46.\n",
            " 23.   28.   39.   26.   21.   28.   20.   34.   51.    3.   21.    3.\n",
            " 42.   27.   33.   22.   44.   32.   34.   18.   30.   10.   21.   29.\n",
            " 28.   18.   54.   28.   19.   28.   32.   28.   33.   42.   17.   50.\n",
            " 14.   21.   24.   64.   31.   45.   20.   25.   28.   29.    4.   13.\n",
            " 34.    5.   52.   36.   28.   30.   49.   24.   29.   65.   41.   50.\n",
            " 17.   48.   34.   47.   48.   34.   38.   21.   56.   22.    0.75 39.\n",
            " 38.   33.   23.   22.   40.   34.   29.   22.    2.    9.   37.   50.\n",
            " 63.   25.    8.   35.   58.   30.    9.   19.   21.   55.   71.   21.\n",
            " 26.   54.   55.   25.   24.   17.   21.   21.   37.   16.   18.   33.\n",
            " 37.   28.   26.   29.   66.   36.   54.   24.   47.   34.   30.   36.\n",
            " 32.   30.   22.   35.   44.   18.   40.5  50.   49.   39.   23.    2.\n",
            " 17.   17.   24.   30.    7.   45.   30.   69.   22.   36.    9.   11.\n",
            " 32.   50.   64.   19.   27.   33.    8.   17.   27.   21.   22.   22.\n",
            " 62.   48.   45.   39.   36.   30.   40.   28.   40.   62.   24.   19.\n",
            " 29.   28.   32.   62.   53.   36.   22.   16.   19.   34.   39.   18.\n",
            " 32.   25.   39.   54.   36.   16.   18.   47.   60.   22.   22.   35.\n",
            " 52.   47.   40.   37.   36.   31.   49.   18.   49.   24.   42.   37.\n",
            " 44.   35.   36.   30.   27.   22.   40.   39.   21.   18.   22.   35.\n",
            " 24.   34.   26.    4.   26.   27.   42.   20.   21.   21.   61.   57.\n",
            " 21.   26.   18.   80.   51.   32.   30.    9.   28.   32.   31.   41.\n",
            " 37.   20.   24.    2.   32.    0.75 48.   19.   56.   21.   23.   23.\n",
            " 18.   21.   16.   18.   24.   27.   32.   23.   58.   50.   40.   47.\n",
            " 36.   20.   32.   25.   49.   43.   48.   40.   31.   70.   31.   19.\n",
            " 18.   24.5  18.   43.   36.   28.   27.   20.   14.   60.   25.   14.\n",
            " 19.   18.   15.   31.    4.   37.   25.   60.   52.   44.   19.   49.\n",
            " 42.   18.   35.   18.   25.   26.   39.   45.   42.   22.    4.   24.\n",
            " 41.   48.   29.   52.   19.   38.   27.   33.    6.   17.   34.   50.\n",
            " 27.   20.   30.   28.   25.   25.   29.   11.   41.   23.   23.   28.5\n",
            " 48.   35.   20.   32.   45.   36.   21.   24.   31.   70.   16.   30.\n",
            " 19.   31.    4.    6.   33.   23.   48.    0.67 28.   18.   34.   33.\n",
            " 23.   41.   20.   36.   16.   51.   46.   30.5  28.   32.   24.   48.\n",
            " 57.   29.   54.   18.   20.    5.   22.   43.   13.   17.   29.   35.\n",
            " 25.   25.   18.    8.    1.   46.   20.   16.   21.   43.   25.   39.\n",
            " 49.   31.   30.   30.   34.   31.   11.    0.42 27.   31.   39.   18.\n",
            " 39.   33.   26.   39.   35.    6.   30.5  39.   23.   31.   43.   10.\n",
            " 52.   27.   38.   27.    2.   36.   23.    1.   19.   62.   15.    0.83\n",
            " 30.   23.   18.   39.   21.   20.   32.   29.   20.   16.   30.   34.5\n",
            " 17.   42.   18.   35.   28.   40.    4.   74.    9.   16.   44.   18.\n",
            " 45.   51.   24.   30.   41.   21.   48.   14.   24.   42.   27.   31.\n",
            " 23.    4.   26.   47.   33.   47.   28.   15.   20.   19.   23.   56.\n",
            " 25.   33.   22.   28.   25.   39.   27.   19.    7.   26.   32.  ]\n"
          ],
          "name": "stdout"
        }
      ]
    },
    {
      "cell_type": "code",
      "metadata": {
        "id": "Mqb-oZZJxX3_",
        "colab": {
          "base_uri": "https://localhost:8080/"
        },
        "outputId": "0760f2d8-8327-4932-d531-485ce48f9d4f"
      },
      "source": [
        "# Numpy gives the possibility to create a mask\r\n",
        "mask = arr[:, 2] < 18       # All people who have age less than 18\r\n",
        "print(mask)\r\n",
        "print(mask.sum())"
      ],
      "execution_count": 7,
      "outputs": [
        {
          "output_type": "stream",
          "text": [
            "[False False False False False False False  True False  True  True False\n",
            " False False  True False  True False False False False False  True False\n",
            "  True False False False False False False False False False False False\n",
            " False False False  True False False  True False False False False  True\n",
            " False  True False False False False False False False  True  True False\n",
            " False False  True False  True False False  True False False  True False\n",
            " False False False False False  True False False False False False  True\n",
            " False  True False False False False False False False False False False\n",
            " False False False False False False False False False False False False\n",
            " False False  True False False  True False False False False  True False\n",
            " False False False False  True False False  True False False False False\n",
            " False False False False False  True False False False False False False\n",
            " False False  True False False False False False False False False  True\n",
            " False False  True False False False  True  True  True False False False\n",
            " False False  True  True False False False  True False False False  True\n",
            " False  True  True  True False False False False False False False False\n",
            "  True False False False False False False False  True False False False\n",
            "  True False False  True False False False False False False False False\n",
            " False False False  True False False False False False False False False\n",
            "  True False False False  True False False False  True False False False\n",
            " False False False False False False False False False False False False\n",
            " False False False False False False False  True False False False False\n",
            "  True False False False False False False False False False False False\n",
            "  True False False False  True False False False False False False False\n",
            " False False False False False False False  True False False False False\n",
            " False False False  True False  True False False False False False False\n",
            " False False False False False False False False False False False False\n",
            " False False False  True False False False  True False False False False\n",
            " False False  True False False False False False False False  True False\n",
            " False False  True False False False False False False False False False\n",
            " False False False False False False False False False False False False\n",
            "  True False False False False False False  True False False False False\n",
            "  True False False  True False False False False False False False False\n",
            " False False False False False False False False False  True False  True\n",
            " False False False False False False False False False  True False False\n",
            " False False False False False False False False False False  True False\n",
            "  True False False False False False False False False False  True  True\n",
            " False  True False False False False False False False False False False\n",
            "  True False False False False False False False False False  True False\n",
            " False False False False False False False False  True  True False False\n",
            " False False  True False False False  True False False False False False\n",
            " False False False False False  True False False False  True False False\n",
            " False False False False False False False False False False False False\n",
            " False False False False False False False False False False False  True\n",
            "  True  True False False  True False False False False False  True  True\n",
            " False False False False False False  True  True False False False False\n",
            " False False False False False False False False False False False False\n",
            " False False False False False False False  True False False False False\n",
            " False False False False False  True False False False False False False\n",
            " False False False False False False False False False False False False\n",
            " False False False False False False False False False False False False\n",
            " False False False  True False False False False False False False False\n",
            " False False False False False False False  True False False False False\n",
            " False False False  True False  True False False False False False False\n",
            " False False  True False False False False False False False False False\n",
            " False False False False False False False False False False False False\n",
            " False False False False False False False False  True False False  True\n",
            " False False  True False  True False False False False False False False\n",
            " False False False False False False False False False False  True False\n",
            " False False False False False False False False  True  True False False\n",
            " False False False False False False False  True False False False False\n",
            " False False False False False False False False False False  True False\n",
            " False False  True  True False False False  True False False False False\n",
            " False False False False  True False False False False False False False\n",
            " False False False False False  True False False  True  True False False\n",
            " False False False  True  True False False  True False False False False\n",
            " False False False False False False  True  True False False False False\n",
            " False False False False False  True False False False False False  True\n",
            " False False False False  True False False  True False False  True  True\n",
            " False False False False False False False False False  True False False\n",
            "  True False False False False False  True False  True  True False False\n",
            " False False False False False False False  True False False False False\n",
            " False  True False False False False False  True False False False False\n",
            " False False False False False False False False  True False False]\n",
            "130\n"
          ],
          "name": "stdout"
        }
      ]
    },
    {
      "cell_type": "markdown",
      "metadata": {
        "id": "KUOUhBcZrDye"
      },
      "source": [
        "Plotting data is usually done with Matplotlib. See Matplotlib [documentation](https://matplotlib.org/3.1.3/contents.html) here."
      ]
    },
    {
      "cell_type": "code",
      "metadata": {
        "colab": {
          "base_uri": "https://localhost:8080/",
          "height": 513
        },
        "id": "UCpnzDW21L56",
        "outputId": "d621e4c9-e582-4f88-a7f6-6ed41b27782d"
      },
      "source": [
        "% matplotlib inline\r\n",
        "import matplotlib.pyplot as plt\r\n",
        "plt.scatter(df['Age'], df['Fare'])\r\n",
        "plt.plot([0, 80], [85, 5])\r\n",
        "plt.show()\r\n",
        "plt.scatter(df['Age'], df['Fare'], c = df['Pclass'])\r\n",
        "plt.plot([0, 80], [85, 5])\r\n",
        "plt.show()\r\n"
      ],
      "execution_count": 8,
      "outputs": [
        {
          "output_type": "display_data",
          "data": {
            "image/png": "[encoded data removed]",
            "text/plain": [
              "<Figure size 432x288 with 1 Axes>"
            ]
          },
          "metadata": {
            "tags": [],
            "needs_background": "light"
          }
        },
        {
          "output_type": "display_data",
          "data": {
            "image/png": "[encoded data removed]",
            "text/plain": [
              "<Figure size 432x288 with 1 Axes>"
            ]
          },
          "metadata": {
            "tags": [],
            "needs_background": "light"
          }
        }
      ]
    },
    {
      "cell_type": "markdown",
      "metadata": {
        "id": "UB3HUtoJ3AGi"
      },
      "source": [
        "## Logistic Regression"
      ]
    },
    {
      "cell_type": "markdown",
      "metadata": {
        "id": "KSuElBPRxpSz"
      },
      "source": [
        "We are going to use a classification model called **logistic regression**. Here we use:\r\n",
        "$$\\frac{1}{1+e^{-(a x+b y+c)}}$$ \r\n",
        "called **sigmoid** which ranges between 0 and 1."
      ]
    },
    {
      "cell_type": "markdown",
      "metadata": {
        "id": "-ZDnlchbyQDG"
      },
      "source": [
        "Our aim is to maximize the so called **likelihood** defined as:\r\n",
        "\r\n",
        "$$\r\n",
        "\\text { likelihood }=\\left\\{\\begin{array}{ll}\r\n",
        "p & \\text { if passenger survived } \\\\\r\n",
        "1-p & \\text { if passenger didn't survive }\r\n",
        "\\end{array}\\right.\r\n",
        "$$\r\n",
        "\r\n",
        "It will be the score we associate to a probability of a prediction as regarding to the real value we want to predict.\r\n",
        "\r\n",
        "As an example\r\n",
        "$$\r\n",
        "\\begin{array}{|l|l|l|}\r\n",
        "\\hline \\text { Survived or not? } & \\text { Predicted probability } & \\text { Score } \\\\\r\n",
        "\\hline \\text { Survived } & 0.25 & 0.25 \\\\\r\n",
        "\\hline \\text { Didn't survive } & 0.25 & 0.75 \\\\\r\n",
        "\\hline \\text { Survived } & 0.6 & 0.6 \\\\\r\n",
        "\\hline \\text { Didn't survive } & 0.2 & 0.8 \\\\\r\n",
        "\\hline\r\n",
        "\\end{array}\r\n",
        "$$\r\n",
        "\r\n",
        "Total score will be obtained by **multiplying** the scores all together."
      ]
    },
    {
      "cell_type": "markdown",
      "metadata": {
        "id": "5qbirQIKzDac"
      },
      "source": [
        "A machine learning model like Logistic Regression can be built via Scikit-Learn. See Scikit-Learn [documentation](https://scikit-learn.org/stable/index.html) here."
      ]
    },
    {
      "cell_type": "code",
      "metadata": {
        "id": "8gGd4S3Q0Wsq"
      },
      "source": [
        "# Now we build the Logistic Regression model (recall that this is a linear model)\r\n",
        "from sklearn.linear_model import LogisticRegression\r\n",
        "model = LogisticRegression()    # This object is a class"
      ],
      "execution_count": 9,
      "outputs": []
    },
    {
      "cell_type": "code",
      "metadata": {
        "id": "wy9YRQcl2vrw",
        "colab": {
          "base_uri": "https://localhost:8080/"
        },
        "outputId": "8997c8a9-898d-447e-f327-776fb4054585"
      },
      "source": [
        "# First we will deal only with two predictive features\r\n",
        "X = df[['Fare', 'Age']].values\r\n",
        "y = df['Survived'].values\r\n",
        "model.fit(X, y)\r\n",
        "print(model.coef_, model.intercept_)"
      ],
      "execution_count": 10,
      "outputs": [
        {
          "output_type": "stream",
          "text": [
            "[[ 0.01615949 -0.01549065]] [-0.51037152]\n"
          ],
          "name": "stdout"
        }
      ]
    },
    {
      "cell_type": "code",
      "metadata": {
        "colab": {
          "base_uri": "https://localhost:8080/",
          "height": 279
        },
        "id": "a3OjiiYR3iGl",
        "outputId": "18feddc9-b5c5-4210-fce3-f38176132c46"
      },
      "source": [
        "# Let's see how to plot the line for Logistic Regression\r\n",
        "\r\n",
        "coeff_1 = model.coef_[0,0]\r\n",
        "coeff_2 = model.coef_[0,1]\r\n",
        "intercept = model.intercept_\r\n",
        "var_1 = np.linspace(12, 120, 100)\r\n",
        "var_2 = (- coeff_1 * var_1 - intercept)/coeff_2\r\n",
        "plt.xlabel('Fare')\r\n",
        "plt.ylabel('Age')\r\n",
        "plt.plot(var_1, var_2, '-b', label=\"\")\r\n",
        "plt.scatter(df['Fare'], df['Age'], c = df['Survived'])\r\n",
        "\r\n",
        "plt.show()"
      ],
      "execution_count": 11,
      "outputs": [
        {
          "output_type": "display_data",
          "data": {
            "image/png": "[encoded data removed]",
            "text/plain": [
              "<Figure size 432x288 with 1 Axes>"
            ]
          },
          "metadata": {
            "tags": [],
            "needs_background": "light"
          }
        }
      ]
    },
    {
      "cell_type": "code",
      "metadata": {
        "colab": {
          "base_uri": "https://localhost:8080/"
        },
        "id": "E_G8z6uC9q0c",
        "outputId": "324f8ded-f7ab-4a0d-d01a-1a961f21efdb"
      },
      "source": [
        "# Now we make predictions with this model by using all the features. Here we cannot provide any representation as we did before\r\n",
        "X = df[['Pclass', 'male', 'Age', 'Siblings/Spouses', 'Parents/Children', 'Fare']].values\r\n",
        "\r\n",
        "model.fit(X, y)\r\n",
        "print(model.predict([[3, True, 22.0, 1, 0, 7.25]]))\r\n",
        "print(f'Predictions for the first 5 people are: {model.predict(X[:5])}')\r\n",
        "print(f'Actual value for the first 5 people are: {y[:5]}')"
      ],
      "execution_count": 12,
      "outputs": [
        {
          "output_type": "stream",
          "text": [
            "[0]\n",
            "Predictions for the first 5 people are: [0 1 1 1 0]\n",
            "Actual value for the first 5 people are: [0 1 1 1 0]\n"
          ],
          "name": "stdout"
        }
      ]
    },
    {
      "cell_type": "markdown",
      "metadata": {
        "id": "i9VVNG5e-12x"
      },
      "source": [
        "### Score the Model"
      ]
    },
    {
      "cell_type": "markdown",
      "metadata": {
        "id": "vQvJkE-UBS_v"
      },
      "source": [
        "We are going to see many ways to calculate scores. First idea is to see how much prediction we got correct."
      ]
    },
    {
      "cell_type": "code",
      "metadata": {
        "colab": {
          "base_uri": "https://localhost:8080/"
        },
        "id": "WbL8Uxh_B02N",
        "outputId": "e184e966-00c3-4393-9723-fe9e9de1b5c9"
      },
      "source": [
        "y_pred = model.predict(X)\r\n",
        "print(((y == y_pred).sum())/y.shape[0])"
      ],
      "execution_count": 13,
      "outputs": [
        {
          "output_type": "stream",
          "text": [
            "0.8049605411499436\n"
          ],
          "name": "stdout"
        }
      ]
    },
    {
      "cell_type": "code",
      "metadata": {
        "colab": {
          "base_uri": "https://localhost:8080/"
        },
        "id": "FgCi1OLJDm7z",
        "outputId": "0d4a3495-0efa-4658-ee26-a8a11e8ad74a"
      },
      "source": [
        "# More convinient to use a different method which give same result\r\n",
        "print(model.score(X, y))"
      ],
      "execution_count": 14,
      "outputs": [
        {
          "output_type": "stream",
          "text": [
            "0.8049605411499436\n"
          ],
          "name": "stdout"
        }
      ]
    },
    {
      "cell_type": "markdown",
      "metadata": {
        "id": "yVv9okflEDNj"
      },
      "source": [
        "### Logistic Regression with Breast Cancer Datasets"
      ]
    },
    {
      "cell_type": "code",
      "metadata": {
        "colab": {
          "base_uri": "https://localhost:8080/"
        },
        "id": "TPP0Svj_ERNp",
        "outputId": "093e01e9-64af-478e-d424-6d00f693b19a"
      },
      "source": [
        "# Let's see how to perform a Logistic Regression with a more consistent case study. Data are stored in a dictionary\r\n",
        "from sklearn.datasets import load_breast_cancer\r\n",
        "cancer_data = load_breast_cancer()\r\n",
        "print(cancer_data.keys())\r\n",
        "print(cancer_data['DESCR'])\r\n",
        "print(cancer_data['data'].shape)\r\n",
        "\r\n",
        "df = pd.DataFrame(cancer_data['data'], columns = cancer_data['feature_names'])\r\n",
        "print(df.head())"
      ],
      "execution_count": 15,
      "outputs": [
        {
          "output_type": "stream",
          "text": [
            "dict_keys(['data', 'target', 'target_names', 'DESCR', 'feature_names', 'filename'])\n",
            ".. _breast_cancer_dataset:\n",
            "\n",
            "Breast cancer wisconsin (diagnostic) dataset\n",
            "--------------------------------------------\n",
            "\n",
            "**Data Set Characteristics:**\n",
            "\n",
            "    :Number of Instances: 569\n",
            "\n",
            "    :Number of Attributes: 30 numeric, predictive attributes and the class\n",
            "\n",
            "    :Attribute Information:\n",
            "        - radius (mean of distances from center to points on the perimeter)\n",
            "        - texture (standard deviation of gray-scale values)\n",
            "        - perimeter\n",
            "        - area\n",
            "        - smoothness (local variation in radius lengths)\n",
            "        - compactness (perimeter^2 / area - 1.0)\n",
            "        - concavity (severity of concave portions of the contour)\n",
            "        - concave points (number of concave portions of the contour)\n",
            "        - symmetry \n",
            "        - fractal dimension (\"coastline approximation\" - 1)\n",
            "\n",
            "        The mean, standard error, and \"worst\" or largest (mean of the three\n",
            "        largest values) of these features were computed for each image,\n",
            "        resulting in 30 features.  For instance, field 3 is Mean Radius, field\n",
            "        13 is Radius SE, field 23 is Worst Radius.\n",
            "\n",
            "        - class:\n",
            "                - WDBC-Malignant\n",
            "                - WDBC-Benign\n",
            "\n",
            "    :Summary Statistics:\n",
            "\n",
            "    ===================================== ====== ======\n",
            "                                           Min    Max\n",
            "    ===================================== ====== ======\n",
            "    radius (mean):                        6.981  28.11\n",
            "    texture (mean):                       9.71   39.28\n",
            "    perimeter (mean):                     43.79  188.5\n",
            "    area (mean):                          143.5  2501.0\n",
            "    smoothness (mean):                    0.053  0.163\n",
            "    compactness (mean):                   0.019  0.345\n",
            "    concavity (mean):                     0.0    0.427\n",
            "    concave points (mean):                0.0    0.201\n",
            "    symmetry (mean):                      0.106  0.304\n",
            "    fractal dimension (mean):             0.05   0.097\n",
            "    radius (standard error):              0.112  2.873\n",
            "    texture (standard error):             0.36   4.885\n",
            "    perimeter (standard error):           0.757  21.98\n",
            "    area (standard error):                6.802  542.2\n",
            "    smoothness (standard error):          0.002  0.031\n",
            "    compactness (standard error):         0.002  0.135\n",
            "    concavity (standard error):           0.0    0.396\n",
            "    concave points (standard error):      0.0    0.053\n",
            "    symmetry (standard error):            0.008  0.079\n",
            "    fractal dimension (standard error):   0.001  0.03\n",
            "    radius (worst):                       7.93   36.04\n",
            "    texture (worst):                      12.02  49.54\n",
            "    perimeter (worst):                    50.41  251.2\n",
            "    area (worst):                         185.2  4254.0\n",
            "    smoothness (worst):                   0.071  0.223\n",
            "    compactness (worst):                  0.027  1.058\n",
            "    concavity (worst):                    0.0    1.252\n",
            "    concave points (worst):               0.0    0.291\n",
            "    symmetry (worst):                     0.156  0.664\n",
            "    fractal dimension (worst):            0.055  0.208\n",
            "    ===================================== ====== ======\n",
            "\n",
            "    :Missing Attribute Values: None\n",
            "\n",
            "    :Class Distribution: 212 - Malignant, 357 - Benign\n",
            "\n",
            "    :Creator:  Dr. William H. Wolberg, W. Nick Street, Olvi L. Mangasarian\n",
            "\n",
            "    :Donor: Nick Street\n",
            "\n",
            "    :Date: November, 1995\n",
            "\n",
            "This is a copy of UCI ML Breast Cancer Wisconsin (Diagnostic) datasets.\n",
            "https://goo.gl/U2Uwz2\n",
            "\n",
            "Features are computed from a digitized image of a fine needle\n",
            "aspirate (FNA) of a breast mass.  They describe\n",
            "characteristics of the cell nuclei present in the image.\n",
            "\n",
            "Separating plane described above was obtained using\n",
            "Multisurface Method-Tree (MSM-T) [K. P. Bennett, \"Decision Tree\n",
            "Construction Via Linear Programming.\" Proceedings of the 4th\n",
            "Midwest Artificial Intelligence and Cognitive Science Society,\n",
            "pp. 97-101, 1992], a classification method which uses linear\n",
            "programming to construct a decision tree.  Relevant features\n",
            "were selected using an exhaustive search in the space of 1-4\n",
            "features and 1-3 separating planes.\n",
            "\n",
            "The actual linear program used to obtain the separating plane\n",
            "in the 3-dimensional space is that described in:\n",
            "[K. P. Bennett and O. L. Mangasarian: \"Robust Linear\n",
            "Programming Discrimination of Two Linearly Inseparable Sets\",\n",
            "Optimization Methods and Software 1, 1992, 23-34].\n",
            "\n",
            "This database is also available through the UW CS ftp server:\n",
            "\n",
            "ftp ftp.cs.wisc.edu\n",
            "cd math-prog/cpo-dataset/machine-learn/WDBC/\n",
            "\n",
            ".. topic:: References\n",
            "\n",
            "   - W.N. Street, W.H. Wolberg and O.L. Mangasarian. Nuclear feature extraction \n",
            "     for breast tumor diagnosis. IS&T/SPIE 1993 International Symposium on \n",
            "     Electronic Imaging: Science and Technology, volume 1905, pages 861-870,\n",
            "     San Jose, CA, 1993.\n",
            "   - O.L. Mangasarian, W.N. Street and W.H. Wolberg. Breast cancer diagnosis and \n",
            "     prognosis via linear programming. Operations Research, 43(4), pages 570-577, \n",
            "     July-August 1995.\n",
            "   - W.H. Wolberg, W.N. Street, and O.L. Mangasarian. Machine learning techniques\n",
            "     to diagnose breast cancer from fine-needle aspirates. Cancer Letters 77 (1994) \n",
            "     163-171.\n",
            "(569, 30)\n",
            "   mean radius  mean texture  ...  worst symmetry  worst fractal dimension\n",
            "0        17.99         10.38  ...          0.4601                  0.11890\n",
            "1        20.57         17.77  ...          0.2750                  0.08902\n",
            "2        19.69         21.25  ...          0.3613                  0.08758\n",
            "3        11.42         20.38  ...          0.6638                  0.17300\n",
            "4        20.29         14.34  ...          0.2364                  0.07678\n",
            "\n",
            "[5 rows x 30 columns]\n"
          ],
          "name": "stdout"
        }
      ]
    },
    {
      "cell_type": "code",
      "metadata": {
        "colab": {
          "base_uri": "https://localhost:8080/"
        },
        "id": "4K1jR6ReGLk0",
        "outputId": "29f28001-bf6c-4d6c-ecf5-431c11b7fd1c"
      },
      "source": [
        "# Now let's create variables for fitting the model with\r\n",
        "X = df[cancer_data.feature_names].values\r\n",
        "df['target'] = cancer_data['target']\r\n",
        "y = df['target'].values\r\n",
        "model = LogisticRegression(solver='liblinear')    # See that we need to change the solver, otherwise we will get a convergence warning\r\n",
        "model.fit(X, y)\r\n",
        "for i in range(100):\r\n",
        "  print(f'For datapoint {i}: Actual value is {y[i]} / Prediction is {model.predict([X[i]])}')\r\n",
        "print(model.score(X, y))"
      ],
      "execution_count": 26,
      "outputs": [
        {
          "output_type": "stream",
          "text": [
            "For datapoint 0: Actual value is 0 / Prediction is [0]\n",
            "For datapoint 1: Actual value is 0 / Prediction is [0]\n",
            "For datapoint 2: Actual value is 0 / Prediction is [0]\n",
            "For datapoint 3: Actual value is 0 / Prediction is [1]\n",
            "For datapoint 4: Actual value is 0 / Prediction is [0]\n",
            "For datapoint 5: Actual value is 0 / Prediction is [0]\n",
            "For datapoint 6: Actual value is 0 / Prediction is [0]\n",
            "For datapoint 7: Actual value is 0 / Prediction is [0]\n",
            "For datapoint 8: Actual value is 0 / Prediction is [0]\n",
            "For datapoint 9: Actual value is 0 / Prediction is [0]\n",
            "For datapoint 10: Actual value is 0 / Prediction is [0]\n",
            "For datapoint 11: Actual value is 0 / Prediction is [0]\n",
            "For datapoint 12: Actual value is 0 / Prediction is [0]\n",
            "For datapoint 13: Actual value is 0 / Prediction is [1]\n",
            "For datapoint 14: Actual value is 0 / Prediction is [0]\n",
            "For datapoint 15: Actual value is 0 / Prediction is [0]\n",
            "For datapoint 16: Actual value is 0 / Prediction is [0]\n",
            "For datapoint 17: Actual value is 0 / Prediction is [0]\n",
            "For datapoint 18: Actual value is 0 / Prediction is [0]\n",
            "For datapoint 19: Actual value is 1 / Prediction is [1]\n",
            "For datapoint 20: Actual value is 1 / Prediction is [1]\n",
            "For datapoint 21: Actual value is 1 / Prediction is [1]\n",
            "For datapoint 22: Actual value is 0 / Prediction is [0]\n",
            "For datapoint 23: Actual value is 0 / Prediction is [0]\n",
            "For datapoint 24: Actual value is 0 / Prediction is [0]\n",
            "For datapoint 25: Actual value is 0 / Prediction is [0]\n",
            "For datapoint 26: Actual value is 0 / Prediction is [0]\n",
            "For datapoint 27: Actual value is 0 / Prediction is [0]\n",
            "For datapoint 28: Actual value is 0 / Prediction is [0]\n",
            "For datapoint 29: Actual value is 0 / Prediction is [0]\n",
            "For datapoint 30: Actual value is 0 / Prediction is [0]\n",
            "For datapoint 31: Actual value is 0 / Prediction is [0]\n",
            "For datapoint 32: Actual value is 0 / Prediction is [0]\n",
            "For datapoint 33: Actual value is 0 / Prediction is [0]\n",
            "For datapoint 34: Actual value is 0 / Prediction is [0]\n",
            "For datapoint 35: Actual value is 0 / Prediction is [0]\n",
            "For datapoint 36: Actual value is 0 / Prediction is [0]\n",
            "For datapoint 37: Actual value is 1 / Prediction is [1]\n",
            "For datapoint 38: Actual value is 0 / Prediction is [1]\n",
            "For datapoint 39: Actual value is 0 / Prediction is [1]\n",
            "For datapoint 40: Actual value is 0 / Prediction is [0]\n",
            "For datapoint 41: Actual value is 0 / Prediction is [0]\n",
            "For datapoint 42: Actual value is 0 / Prediction is [0]\n",
            "For datapoint 43: Actual value is 0 / Prediction is [0]\n",
            "For datapoint 44: Actual value is 0 / Prediction is [1]\n",
            "For datapoint 45: Actual value is 0 / Prediction is [0]\n",
            "For datapoint 46: Actual value is 1 / Prediction is [1]\n",
            "For datapoint 47: Actual value is 0 / Prediction is [0]\n",
            "For datapoint 48: Actual value is 1 / Prediction is [1]\n",
            "For datapoint 49: Actual value is 1 / Prediction is [1]\n",
            "For datapoint 50: Actual value is 1 / Prediction is [1]\n",
            "For datapoint 51: Actual value is 1 / Prediction is [1]\n",
            "For datapoint 52: Actual value is 1 / Prediction is [1]\n",
            "For datapoint 53: Actual value is 0 / Prediction is [0]\n",
            "For datapoint 54: Actual value is 0 / Prediction is [0]\n",
            "For datapoint 55: Actual value is 1 / Prediction is [1]\n",
            "For datapoint 56: Actual value is 0 / Prediction is [0]\n",
            "For datapoint 57: Actual value is 0 / Prediction is [0]\n",
            "For datapoint 58: Actual value is 1 / Prediction is [1]\n",
            "For datapoint 59: Actual value is 1 / Prediction is [1]\n",
            "For datapoint 60: Actual value is 1 / Prediction is [1]\n",
            "For datapoint 61: Actual value is 1 / Prediction is [1]\n",
            "For datapoint 62: Actual value is 0 / Prediction is [0]\n",
            "For datapoint 63: Actual value is 1 / Prediction is [1]\n",
            "For datapoint 64: Actual value is 0 / Prediction is [0]\n",
            "For datapoint 65: Actual value is 0 / Prediction is [0]\n",
            "For datapoint 66: Actual value is 1 / Prediction is [1]\n",
            "For datapoint 67: Actual value is 1 / Prediction is [1]\n",
            "For datapoint 68: Actual value is 1 / Prediction is [1]\n",
            "For datapoint 69: Actual value is 1 / Prediction is [1]\n",
            "For datapoint 70: Actual value is 0 / Prediction is [0]\n",
            "For datapoint 71: Actual value is 1 / Prediction is [1]\n",
            "For datapoint 72: Actual value is 0 / Prediction is [0]\n",
            "For datapoint 73: Actual value is 0 / Prediction is [1]\n",
            "For datapoint 74: Actual value is 1 / Prediction is [1]\n",
            "For datapoint 75: Actual value is 0 / Prediction is [0]\n",
            "For datapoint 76: Actual value is 1 / Prediction is [1]\n",
            "For datapoint 77: Actual value is 0 / Prediction is [0]\n",
            "For datapoint 78: Actual value is 0 / Prediction is [0]\n",
            "For datapoint 79: Actual value is 1 / Prediction is [1]\n",
            "For datapoint 80: Actual value is 1 / Prediction is [1]\n",
            "For datapoint 81: Actual value is 1 / Prediction is [1]\n",
            "For datapoint 82: Actual value is 0 / Prediction is [0]\n",
            "For datapoint 83: Actual value is 0 / Prediction is [0]\n",
            "For datapoint 84: Actual value is 1 / Prediction is [1]\n",
            "For datapoint 85: Actual value is 0 / Prediction is [0]\n",
            "For datapoint 86: Actual value is 0 / Prediction is [1]\n",
            "For datapoint 87: Actual value is 0 / Prediction is [0]\n",
            "For datapoint 88: Actual value is 1 / Prediction is [1]\n",
            "For datapoint 89: Actual value is 1 / Prediction is [1]\n",
            "For datapoint 90: Actual value is 1 / Prediction is [1]\n",
            "For datapoint 91: Actual value is 0 / Prediction is [1]\n",
            "For datapoint 92: Actual value is 1 / Prediction is [1]\n",
            "For datapoint 93: Actual value is 1 / Prediction is [1]\n",
            "For datapoint 94: Actual value is 0 / Prediction is [0]\n",
            "For datapoint 95: Actual value is 0 / Prediction is [0]\n",
            "For datapoint 96: Actual value is 1 / Prediction is [1]\n",
            "For datapoint 97: Actual value is 1 / Prediction is [1]\n",
            "For datapoint 98: Actual value is 1 / Prediction is [1]\n",
            "For datapoint 99: Actual value is 0 / Prediction is [0]\n",
            "0.9595782073813708\n"
          ],
          "name": "stdout"
        }
      ]
    },
    {
      "cell_type": "markdown",
      "metadata": {
        "id": "H9Cgo0pKK9Jt"
      },
      "source": [
        "## Model Evaluation"
      ]
    },
    {
      "cell_type": "markdown",
      "metadata": {
        "id": "b4bsZY_-MGer"
      },
      "source": [
        ""
      ]
    },
    {
      "cell_type": "markdown",
      "metadata": {
        "id": "RvXk3SXYMGaN"
      },
      "source": [
        ""
      ]
    },
    {
      "cell_type": "markdown",
      "metadata": {
        "id": "K6G5_ZCPLDFO"
      },
      "source": [
        "We will see shortly that there are many ways for evaluating models."
      ]
    },
    {
      "cell_type": "markdown",
      "metadata": {
        "id": "6s_y-dIKLKgc"
      },
      "source": [
        "First one we already saw is the **accuracy**\r\n",
        "$$\r\n",
        "accuracy = \\frac{n\\_correctly\\_predicted}{n\\_predictions}\r\n",
        "$$"
      ]
    },
    {
      "cell_type": "markdown",
      "metadata": {
        "id": "_hNGsHrPLvCV"
      },
      "source": [
        "Another important concept we are going to deal with is the **confusion matrix**\r\n",
        "\r\n",
        "![confusion matrix.jpg](data:image/jpeg;base64,/9j/2wCEAAMCAgMCAgMDAwMEAwMEBQgFBQQEBQoHBwYIDAoMDAsKCwsNDhIQDQ4RDgsLEBYQERMUFRUVDA8XGBYUGBIUFRQBAwQEBQQFCQUFCRQNCw0UFBQUFBQUFBQUFBQUFBQUFBQUFBQUFBQUFBQUFBQUFBQUFBQUFBQUFBQUFBQUFBQUFP/AABEIAc0DegMBIgACEQEDEQH/xAGiAAABBQEBAQEBAQAAAAAAAAAAAQIDBAUGBwgJCgsQAAIBAwMCBAMFBQQEAAABfQECAwAEEQUSITFBBhNRYQcicRQygZGhCCNCscEVUtHwJDNicoIJChYXGBkaJSYnKCkqNDU2Nzg5OkNERUZHSElKU1RVVldYWVpjZGVmZ2hpanN0dXZ3eHl6g4SFhoeIiYqSk5SVlpeYmZqio6Slpqeoqaqys7S1tre4ubrCw8TFxsfIycrS09TV1tfY2drh4uPk5ebn6Onq8fLz9PX29/j5+gEAAwEBAQEBAQEBAQAAAAAAAAECAwQFBgcICQoLEQACAQIEBAMEBwUEBAABAncAAQIDEQQFITEGEkFRB2FxEyIygQgUQpGhscEJIzNS8BVictEKFiQ04SXxFxgZGiYnKCkqNTY3ODk6Q0RFRkdISUpTVFVWV1hZWmNkZWZnaGlqc3R1dnd4eXqCg4SFhoeIiYqSk5SVlpeYmZqio6Slpqeoqaqys7S1tre4ubrCw8TFxsfIycrS09TV1tfY2dri4+Tl5ufo6ery8/T19vf4+fr/2gAMAwEAAhEDEQA/AP1TooooAKKKKACiiigAooooAKKKKACiiigAooooAKKKKACiiigAooooAKKKKACiiigAooooAKKKKACiiigAooooAKKKKACiiigCC+vrbS7K4vLy4itLO3jaaa4ncJHEijLMzHgAAEkngAVwP/DSHwl/6Kj4L/8AChtP/jlL+0Z/yb38T/8AsV9U/wDSSWvw9/Yg/Yhk/bLuPF8Ufi9PCn/CPpasS2nm68/zjKP+eibceV75zQB+4P8Aw0h8Jf8AoqPgv/wobT/45R/w0h8Jf+io+C//AAobT/45X50/8ON7n/osEX/hPn/5Io/4cb3P/RYIv/CfP/yRQB+i3/DSHwl/6Kj4L/8AChtP/jlH/DSHwl/6Kj4L/wDChtP/AI5X50/8ON7n/osEX/hPn/5Io/4cb3P/AEWCL/wnz/8AJFAH6Lf8NIfCX/oqPgv/AMKG0/8AjlH/AA0h8Jf+io+C/wDwobT/AOOV+dP/AA43uf8AosEX/hPn/wCSKP8Ahxvc/wDRYIv/AAnz/wDJFAH6Lf8ADSHwl/6Kj4L/APChtP8A45R/w0h8Jf8AoqPgv/wobT/45X50/wDDje5/6LBF/wCE+f8A5Io/4cb3P/RYIv8Awnz/APJFAH6Lf8NIfCX/AKKj4L/8KG0/+OUf8NIfCX/oqPgv/wAKG0/+OV+dP/Dje5/6LBF/4T5/+SKP+HG9z/0WCL/wnz/8kUAfot/w0h8Jf+io+C//AAobT/45R/w0h8Jf+io+C/8AwobT/wCOV+dP/Dje5/6LBF/4T5/+SKP+HG9z/wBFgi/8J8//ACRQB+i3/DSHwl/6Kj4L/wDChtP/AI5R/wANIfCX/oqPgv8A8KG0/wDjlfnT/wAON7n/AKLBF/4T5/8Akij/AIcb3P8A0WCL/wAJ8/8AyRQB+i3/AA0h8Jf+io+C/wDwobT/AOOUf8NIfCX/AKKj4L/8KG0/+OV+dP8Aw43uf+iwRf8AhPn/AOSKP+HG9z/0WCL/AMJ8/wDyRQB+i3/DSHwl/wCio+C//ChtP/jlH/DSHwl/6Kj4L/8AChtP/jlfnT/w43uf+iwRf+E+f/kij/hxvc/9Fgi/8J8//JFAH6Lf8NIfCX/oqPgv/wAKG0/+OUf8NIfCX/oqPgv/AMKG0/8AjlfnT/w43uf+iwRf+E+f/kij/hxvc/8ARYIv/CfP/wAkUAfot/w0h8Jf+io+C/8AwobT/wCOUf8ADSHwl/6Kj4L/APChtP8A45X50/8ADje5/wCiwRf+E+f/AJIo/wCHG9z/ANFgi/8ACfP/AMkUAfot/wANIfCX/oqPgv8A8KG0/wDjlH/DSHwl/wCio+C//ChtP/jlfnT/AMON7n/osEX/AIT5/wDkij/hxvc/9Fgi/wDCfP8A8kUAfot/w0h8Jf8AoqPgv/wobT/45R/w0h8Jf+io+C//AAobT/45X50/8ON7n/osEX/hPn/5Io/4cb3P/RYIv/CfP/yRQB+i3/DSHwl/6Kj4L/8AChtP/jlH/DSHwl/6Kj4L/wDChtP/AI5X50/8ON7n/osEX/hPn/5Io/4cb3P/AEWCL/wnz/8AJFAH6Lf8NIfCX/oqPgv/AMKG0/8AjlH/AA0h8Jf+io+C/wDwobT/AOOV+dP/AA43uf8AosEX/hPn/wCSKP8Ahxvc/wDRYIv/AAnz/wDJFAH6Lf8ADSHwl/6Kj4L/APChtP8A45R/w0h8Jf8AoqPgv/wobT/45X50/wDDje5/6LBF/wCE+f8A5Io/4cb3P/RYIv8Awnz/APJFAH6Lf8NIfCX/AKKj4L/8KG0/+OUf8NIfCX/oqPgv/wAKG0/+OV+dP/Dje5/6LBF/4T5/+SKP+HG9z/0WCL/wnz/8kUAfot/w0h8Jf+io+C//AAobT/45R/w0h8Jf+io+C/8AwobT/wCOV+dP/Dje5/6LBF/4T5/+SKy9P/4IqXF/q+o2P/C2ok+x7fn/ALBJ3Z9vtHFAH6Vf8NIfCX/oqPgv/wAKG0/+OUf8NIfCX/oqPgv/AMKG0/8AjlfnT/w43uf+iwRf+E+f/kij/hxvc/8ARYIv/CfP/wAkUAfot/w0h8Jf+io+C/8AwobT/wCOUf8ADSHwl/6Kj4L/APChtP8A45X50/8ADje5/wCiwRf+E+f/AJIo/wCHG9z/ANFgi/8ACfP/AMkUAfot/wANIfCX/oqPgv8A8KG0/wDjlH/DSHwl/wCio+C//ChtP/jlfnT/AMON7n/osEX/AIT5/wDkij/hxvc/9Fgi/wDCfP8A8kUAfot/w0h8Jf8AoqPgv/wobT/45R/w0h8Jf+io+C//AAobT/45X50/8ON7n/osEX/hPn/5Io/4cb3P/RYIv/CfP/yRQB+i3/DSHwl/6Kj4L/8AChtP/jlH/DSHwl/6Kj4L/wDChtP/AI5X50/8ON7n/osEX/hPn/5Io/4cb3P/AEWCL/wnz/8AJFAH6Lf8NIfCX/oqPgv/AMKG0/8AjlH/AA0h8Jf+io+C/wDwobT/AOOV+dP/AA43uf8AosEX/hPn/wCSKP8Ahxvc/wDRYIv/AAnz/wDJFAH6Lf8ADSHwl/6Kj4L/APChtP8A45R/w0h8Jf8AoqPgv/wobT/45X50/wDDje5/6LBF/wCE+f8A5Io/4cb3P/RYIv8Awnz/APJFAH6Lf8NIfCX/AKKj4L/8KG0/+OUf8NIfCX/oqPgv/wAKG0/+OV+dP/Dje5/6LBF/4T5/+SKP+HG9z/0WCL/wnz/8kUAfot/w0h8Jf+io+C//AAobT/45R/w0h8Jf+io+C/8AwobT/wCOV+dP/Dje5/6LBF/4T5/+SKP+HG9z/wBFgi/8J8//ACRQB+i3/DSHwl/6Kj4L/wDChtP/AI5R/wANIfCX/oqPgv8A8KG0/wDjlfnT/wAON7n/AKLBF/4T5/8Akij/AIcb3P8A0WCL/wAJ8/8AyRQB+i3/AA0h8Jf+io+C/wDwobT/AOOUf8NIfCX/AKKj4L/8KG0/+OV+dP8Aw43uf+iwRf8AhPn/AOSKP+HG9z/0WCL/AMJ8/wDyRQB+i3/DSHwl/wCio+C//ChtP/jlH/DSHwl/6Kj4L/8AChtP/jlfnT/w43uf+iwRf+E+f/kij/hxvc/9Fgi/8J8//JFAH6Lf8NIfCX/oqPgv/wAKG0/+OUf8NIfCX/oqPgv/AMKG0/8AjlfnT/w43uf+iwRf+E+f/kij/hxvc/8ARYIv/CfP/wAkUAfot/w0h8Jf+io+C/8AwobT/wCOUf8ADSHwl/6Kj4L/APChtP8A45X50/8ADje5/wCiwRf+E+f/AJIo/wCHG9z/ANFgi/8ACfP/AMkUAfot/wANIfCX/oqPgv8A8KG0/wDjlH/DSHwl/wCio+C//ChtP/jlfnT/AMON7n/osEX/AIT5/wDkij/hxvc/9Fgi/wDCfP8A8kUAfot/w0h8Jf8AoqPgv/wobT/45R/w0h8Jf+io+C//AAobT/45X50/8ON7n/osEX/hPn/5Io/4cb3P/RYIv/CfP/yRQB+i3/DSHwl/6Kj4L/8AChtP/jlH/DSHwl/6Kj4L/wDChtP/AI5X50/8ON7n/osEX/hPn/5Io/4cb3P/AEWCL/wnz/8AJFAH6Lf8NIfCX/oqPgv/AMKG0/8Ajlb/AIR+J3g7x/LcxeF/Fmh+JJbZQ06aRqUN00QOQCwjY7QcHGfSvyx8a/8ABFq48H+Dde14/FiO6Gl2FxfGAaCV8zyo2fbn7QcZ24zg9ak/4Ief8jv8Vv8AsHWH/o2agD9cKKKKACiiigAooooAKKKKACiiigAooooAKKKKACiiigAooooAKKKKACiiigAooooAKKKKACiiigAooooAKKKKACiiigAooooAKKKKAPO/2jP+Te/if/2K+qf+kktfnN/wQ3/5CPxg/wCuWl/zuq/Rn9oz/k3v4n/9ivqn/pJLX5zf8EN/+Qj8YP8Arlpf87qgD9XaKKKACiiigAooooAKKKKACiiigAoorJ8U+LtC8DaHca14k1rTvD+j2+0Tahqt1HbW8W5gq7pHIUZYgDJ5JAoA1qK4fwf8c/hv8Q9SOneFfiD4V8TagF3G00fWra7lA9dkbk44Pau4oAKKKKACiuV+KHxQ8MfBjwLqfjLxlqY0bw3pnl/a70wSz+X5kqRJ8kSs5y8iDhT19M1yerftTfCzQ9V+HmnX3i2CC8+IMUE/hmM2s7f2gk2zyiCIyI9/mIB5hXJbHXNAHq1FFFABRRRQAUVleK/FGmeCPC2seI9buhY6NpFnNqF9clGfyYIkMkj7VBY4VScAEnHANZfwx+J3hn4yeBtL8Y+DtUXWfDepiRrS9WGSHzNkjRv8kiq64dHXBA6UAdTRRRQAUUUUAFFFFABRRRQAUUUUAFcr4d/5HDxF9Yv5GuqrlfDv/I4eIvrF/I0AdVRRRQAUUUUAFFFFABRRRQAUUUUAFFFFABRRRQAUUUUAFFFcXB8bPh3c+D7nxZD498MS+FbWf7NPriazbtYxS/L+7ecPsVvmX5Sc/MPUUAdpRUFjfW2qWNve2VxFd2dzGs0NxA4eOVGGVZWHBUgggjgg1PQAUUUUAFFFYXh3x54Z8X6jrGn6F4i0nWr/AEaf7Lqdrp19FcS2M2WHlzqjExvlHG1sHKn0NAG7RRRQAUUUUAFFFFABRRRQAUUUUAFfkf8A8EPP+R3+K3/YOsP/AEbNX64V+R//AAQ8/wCR3+K3/YOsP/Rs1AH64UUUUAFFFFABRRRQAUUUUAFFFFABRRRQAUUUUAFFFFABRRRQAUUUUAFFFFABRRRQAUUUUAFFFFABRRRQAUUUUAFFFFABRRRQAUUUUAed/tGf8m9/E/8A7FfVP/SSWvzm/wCCG/8AyEfjB/1y0v8AndV+jP7Rn/JvfxP/AOxX1T/0klr85v8Aghv/AMhH4wf9ctL/AJ3VAH6u0UUUAFFFFABRRRQAUUUUAFFFFABXyD/wVe/5Mk8Y/wDX5p3/AKWRV9fV84/8FBvhH4s+OP7LXiXwh4J0r+2vEV3c2UkFl9oig3rHcxu/zysqDCqTywzjjmgD89/2mLb4W6j8Pv2bbP4Dp4bPxwkk0/e/gryRcrL9nTcbo2/HmifYcyfOMSE4G6vqr45/tq/Grw1+1R4n+DHwu+HWi+NtTg021u9M+0GSJoS8aSSy3LmZEMY37QMx8suWPQ/Sf7PvwG8KfCTwH4XNn4G8PeG/FkejWltql3pmm20VxJOsKCXfNEuZCXDZOTk85NeOeG/gL450/wD4KVeK/itPogj8BX3hZNPt9W+1wHfcBLYFPKD+aOY35KAcdeRQByfxb/bx8aeFPGfg74YaZaeAvCPxJn8O2mseKNS+IOrGy0TSLmSFHe0QrJukfcxxtduCuN2GK7HwE/4KEJ4v8BfF+98d2Gi/258M7f7Xe3Pg6+F5purwlX2SWkhZsbmj24Zj99MkHcF5v9pr9k7xoP2rovjV4X+G/hj426NqOmJp2q+C/EkttCyOiqizQvcgxA4RCGIJHzjadwI7jwt+zvrvxJ+B/wAWPDOsfCLwJ8BpvFmnLY6fZ+GFgmuFYI5D3s1vGkcirIU2hBwPM9RQB8v/ALTvx7+Pnxq/YR8SeMPFHgXwlYfDLxU1n9jbSby4/tTTIk1CFoprhXzHKkjRrGNmxgZFYqBxXp0PxjbwA37CPhpPBvhPXj4j8PaZAdY1vTPtGoaYPs1mm6zm3DyWIkJJwc4HpXH+I/gf+1d4q/Y3b4AP8NfD+n2OjxRxNrf/AAkFvJJrUENws0ENvFuAhfcqFnlZQVU8KTivRPF37LXxM1Hxd+xVd2vh1ZrX4daZY23ieUX9sBYSRRWauMGQGXmKQZjDfd9xkA7TxF+1b8Wfil+0J4x+F/wI8M+Epl8Eqo1zXfG09wsEkxJHkwpbkMDuDKGOQSjZAGCfnP8A4KCav8bdU8a/s2XniHSPCPh3UJdahOnabHdXFw0OrCaASfaZE+U2xPklfL+cBnB5Ar2YfBr43/syftS/Ev4g/DXwLp3xX8LfEJlubiyk1yHSrnT7gMW+ZpuGQM8nChiQR90jm7+178CfjP8AGzwL8FfF9p4d0XUfiH4M1waxqPhjT9RENvKpkR1jiuJiFJUQxqxJAJZivAAIBq/H79sPx3+zj4U+HPhTxLbeBZ/jL4tmnSa6+3TWXhjTYUlIW4klnKybdjRgqWBLLJg8KGqfs5ft26x4t+Mut/DL4i3HgPVb610iTW7PxR8N9Ua+0qeKMbpIjuZ2WRV3NyQfkPy4Kk4P7Un7OXxT/aDHwi+LS/Dzw8/jTww841f4Y67qMF9aXVu02Uj+0lVhdtijcCAoMnBOz5u++Avwo1/WfEetS+IP2bfh78CtEudDudO+0aJJZXesTTylEwstrEqJD5fmllOSW8vsGoA8K8UftY/HP9o79mj4xeOPD/w+8LJ8HJNK1bR0gnvZ013yDbOkl4DkwssSuXZMKTtYKTjJ+gP+CXH/ACYn8Mv+4n/6dLuvnv4efAD9qH4U/s9+Ov2etI8EeG7/AELU/t8Nt47n1qNI3tLiMrLEtpzJ5rgsFZ9ioX5yBur6w/YN+Fnif4Kfsn+BfBnjHThpPiTTRfG7sxPHP5XmX1xMg3xsyHKSIeCeuKAPfqKKKACiiigAooooAKKKKACiiigArlfDv/I4eIvrF/I11Vcr4d/5HDxF9Yv5GgDqqKKKACiiigAooooAKKKKACiiigArM8TsU8NasykqwtJiCOCDsNadZ3iOGS58PapFEjSSyWsqIijJYlCABQB+LfwJ/Z++Gmq/8E8fHXxg1f7RofxG0XULxdI8R22qz28omjSFoIFQP5ZLs7Lwu75jgjGR9WeD/wBv3WfgH+yV+z/4k+Ivh7UfFup+LlvLW7vEufLu1ht5mWCYIyHz3kiMR5ZNxOS3Nc1/wTu/YA8Ca78HE8Q/GD4T3kXjeDWbhYofEqXlqxt1WPy91o7LGy5L8shzz1xXpv8AwUH+F/iLxN46/ZmXwj4T1LVdL0LxZE90NF06SWHTrdZbXa0nlqVijCo3JwoCn0oA6KH/AIKEjRfgiPG3jP4V+JfCPiTUPEJ8PaD4KuQ5v9XkaKKSKVPMij2xsJcFtpAK4BYkA7vww/bN13VPjVo/wr+Kvwo1D4T+K9etJLzRC+rwara3qorMyedEqhHwj/Lz0AOCyg8T/wAFP/2d/FHxt8G+Ada8NeG38aJ4U1drrUvDdvMYri/tJPL8xY2BDZ/d7Tt+bD5XJFcr+y18HvhLL8ZvDOteDP2UviB8OrvTBNPN4m8a3N5ZxWEnksAIoJrmT7RuLbAdo253fw0Aeh3v7f2o638SvGui/D34Pa98RfCngeYweI/Emm6hDC0DqWDi2tnGbkgo42q4Y7SQMYJ+L/2XPEXhDwn/AMEtviZq3jnwSvxC0C38er5mhNqcunea7Q6cisJ4gXQqWzwOcY6GvbPgHJ8V/wBjT4gfGfwdH8F/FXjy48Ta5JqvhrWtHhB0ucuX2C7uWIW3XaUJJJYHcCOjHyTwT+z98S9D/wCCW/xU8GXfgHxIniufxzHc2+jLpU7XdxCv9nqZYogm948xyfMoIwhOcCgD7T8c/tfeHvgX8O/g/wCHvCfgS88QeLPGGkWY8NeBdJuFjEEHkR7Ee4ZSEjQEIGKnO0nACsR5x+1Z+0r8af8AhlHx3d/8Kg8QfDHxDYyw21/qcPiWADTYHZGW6tbmIA3OW/dMsWCu/JPUVzfxl+E/xF8B+Nf2YPjXongfVvGVp4K8NWela74d0qEtqdv/AKOVZlgI3OwEzjaBkNGA2Acj1n4y6941/a6/ZL+LmkaT8LPE/gy4msok0az8VxpaX+pskiyyKLYEmLHlhV3N8xbtigDO/Z5/aw8SeCP2PYviF8aPC17oWhaJoenPp/iGXXIdUvPFLSqV8wRDDxSM3lcSsSfNJJARjU+j/t++ItF8Q+B/+FnfBLWPhx4P8bXUVnoniSXWYL4NJLgxC4gRFa33AgkMdwGTghSR5Ff+AvHn7Sn/AATpb4Uad8OPFfhHxj4LsdKiWDxZYDT4tYlg3eYloztlgFTO5woLOq56kcx8EfgT8K9W1fwNpr/sZfEbTPGUF5Ypq2r61eX1npFmyunn3aTSXO2ZUw8gjEY34CjqKAPqT4k/ttanpfx41D4T/DL4Wal8VfEWiWq3uvPa6pDp8VhGQrbVaVSssgV1+TK5LBQSQceHf8Er/Ei+Mvjv+1p4gSxvNMTVfEltfLY6hH5dzbiW61R/LlXJ2uu7DDPBBq9FY/ED9lD9uL4reNP+FV+LPiN4T8f2scmnXvhG0+1NBONhEc4JAiXfvUsxGBtYBskDY/4Jt+AviH4Z+MP7SviH4g+CdQ8GXnifW7PUoobmJvs7vJLfzSpBMRtmWMzopdCRyPWgD7yooooAKKKKACiiigAooooAKKKKACvyP/4Ief8AI7/Fb/sHWH/o2av1wr8j/wDgh5/yO/xW/wCwdYf+jZqAP1wooooAKKKKACiiigAooooAKKKKACiiigAooooAKKKKACiiigAooooAKKKKACiiigAooooAKKKKACiiigAooooAKKKKACiiigAooooA87/aM/5N7+J//Yr6p/6SS1+c3/BDf/kI/GD/AK5aX/O6r9Gf2jP+Te/if/2K+qf+kktfnN/wQ3/5CPxg/wCuWl/zuqAP1dooooAKKKKACiiigAooooAKKKKACiiigAooooAKKKKACiqGva/pnhbRrzV9Z1C20rS7KIzXN7eSrFDCg6szsQAB6mvjHxt/wWB+APhLVpLKxbxN4sSNipu9E0xBCSM5wbiWIkcdQMHtQB9u0V83fs//APBQb4MftHa1Dofh3Xp9K8Rz/wCo0bXoPstxPxkiMhmjdgAflVy3BOMc19I0AFFFFABRRRQAUUUUAFFFFABRRRQAUUUUAFFFFABXK+Hf+Rw8RfWL+Rrqq5Xw7/yOHiL6xfyNAHVUUUUAFFFFABRRRQAUUUUAFFFFABRRRQAUUUUAFFFFABRRWdr/AIi0rwnpFzq2t6nZ6Npdsu+e+1C4SCCJfVnchVHuTQBo0Vxvgj40fD74mX89j4P8d+GfFd7bxedNbaJrFveSRx5A3ssTsQuSBk8ZIrsqACiiigAooooAKKKKACiiigAooooAKKKKACiiigAr8j/+CHn/ACO/xW/7B1h/6Nmr9cK/I/8A4Ief8jv8Vv8AsHWH/o2agD9cKKKKACiiigAooooAKKKKACiiigAooooAKKKKACiiigAooooAKKKKACiiigAooooAKKKKACiiigAooooAKKKKACiiigAooooAKKKKAPO/2jP+Te/if/2K+qf+kktfnN/wQ3/5CPxg/wCuWl/zuq/Rn9oz/k3v4n/9ivqn/pJLX5zf8EN/+Qj8YP8Arlpf87qgD9XaKKKACiiigAooooAKKKKACiiigAooooAKKKKACiiigD8kf+Czf7Q+o3Xi3Q/g7pd20OkWlrHq+sJG2PtE7k+RE/PIRV346EyKeqjGT+xT/wAErNA+PHwYsfH/AMQvEOt6Sutb5NK07RGhiZIVcoJZWljkzvKkhVA+Xad3OB85f8FJNak139tj4nzPIziG7t7VQ3G0RWsMeAPTKn69e9fuF+y7pC6B+zT8KNPXafs/hXS0Zk6M32SPc34nJ/GgD8Gf2s/2eNV/Y++Pdz4Uh1ee6jgSHVdG1iPME7wMx8t/lPyyI6OuQeseRjIA/cz9jX4zXHx9/Zo8C+NL99+rXdkbfUG27d91A7QyvjtuaMvgdmFfnN/wW7s4Y/i18N7tUAuJdEnid8nlVnJUfgXb86+oP+CO13LcfsgmOR9yQeIr2OMYA2qVhbHvyzHn1oA+4qKKKACiiigAooooAKKKKACiiigAooooAKKKKACuV8O/8jh4i+sX8jXVVyvh3/kcPEX1i/kaAOqooooAKKKKACiiigAooooAKKKKACiiigAooooAKKKKAPMf2mPjfb/s4/A3xV8RbnTX1hNFhiZLBJfK86SWaOGNS+DtG+VcnBwM8Gvw5/aD+OHx2/a70HV/H3ia31AfDrRZowILGNoNHsXdxGiruOJZdzgEku4BPReB+/vi3whonjzw9eaD4j0q01zRbwKtzYX8KywzBWDAMjcHDKDz3Ar5O/4KlaVZaH+wn4o0/TbO30+wtrnTY4LW1iWKKJBdxYVVUAKB6CgD4e/4Iqf8nT+Kf+xMuv8A0usa/amvxW/4Iqf8nT+Kf+xMuv8A0usa/amgAooooAKKKKACiiigAooooAKKKKACiiigAooooAK/I/8A4Ief8jv8Vv8AsHWH/o2av1wr8j/+CHn/ACO/xW/7B1h/6NmoA/XCiiigAooooAKKKKACiiigAooooAKKKKACiiigAooooAKKKKACiiigAooooAKKKKACiiigAooooAKKKKACiiigAooooAKKKKACiiigDzv9oz/k3v4n/wDYr6p/6SS1+c3/AAQ3/wCQj8YP+uWl/wA7qv0Z/aM/5N7+J/8A2K+qf+kktfnN/wAEN/8AkI/GD/rlpf8AO6oA/V2iiigAooooAKKKKACiiigAooooAKKKKACiiigAooooA/nv/wCCk2ivoX7bXxPhaNoxNd210uedwltIZMg+mWP0xjtX7c/sna6vib9mD4TaisiytN4W00SMvTzFto1kH4OrD8K/PH/gsl+zPq7eJdK+M2h2Mt5pMlmmma6YU3fZZEYiCd8c7XVhGW6AxoP4hXj/AOyd/wAFTvE37NHwtg8B6j4PtvGuk2DSHTJn1JrOa1V2LmNj5cgkQMzEDCkbsZwAAAd7/wAFuNWtp/jJ8PNMSQNd22gy3Eqf3UkuGCH8TE/5V9Y/8Eg9Fn0r9jixupf9XqWt393Dx/AGWE/+PQtX5RePPF/xF/b3/aQ+2w6WL3xPr0sdpZ6dYoxgsrdMKoJ5KxoMs7nuWY4ziv35+BXwosfgb8H/AAl4D05xLb6HYR2rTBdvnS/ellx23yM74/2qAO7ooooAKKKKACiiigAooooAKKKKACiiigAooooAK5Xw7/yOHiL6xfyNdVXK+Hf+Rw8RfWL+RoA6qiiigAooooAKKKKACiiigAooooAKKKKACiiigAooooAK+Qf+Cr3/ACZJ4x/6/NO/9LIq93/aK+MUf7P/AMFfFXxBk0ptcXQ7ZZxp6z+QZy0iRhfM2ttGXBJ2ngdDX5J/tX/8FTf+Gn/gjrHw9/4Vj/wjX9ozW0v9o/2/9r8vyplkx5f2aPOduPvDGc89KALX/BFT/k6fxT/2Jl1/6XWNftTX8637FP7Vv/DH3xT1Xxl/wi3/AAlv27RZdI+xf2h9i2b54JfM3+VJnHkY27R97OeMH9jf2Hv21o/2zdC8V348Ht4Ql0G5ggaE6l9tWYSq7Bg3lR7SNhGMHtzQB9OUUUUAFFFFABRRRQAUUUUAFFFFABRRRQAUUUUAFfkf/wAEPP8Akd/it/2DrD/0bNX64V+R/wDwQ8/5Hf4rf9g6w/8ARs1AH64UUUUAFFFFABRRRQAUUUUAFFFFABRRRQAUUUUAFFFFABRRRQAUUUUAFFFFABRRRQAUUUUAFFFFABRRRQAUUUUAFFFFABRRRQAUUUUAed/tGf8AJvfxP/7FfVP/AEklr85v+CG//IR+MH/XLS/53Vfoz+0Z/wAm9/E//sV9U/8ASSWvzm/4Ib/8hH4wf9ctL/ndUAfq7RRRQAUUUUAFFFFABRRRQAUUUUAFFFFABRRRQAUUUUAQ3lnb6hazW11BHc20ymOSGZA6Op4IYHgg+hr5x8S/8E3/ANm7xXqL3178LNPgmclium3l3YRc+kcEyIPoBxX0pRQBwPwp+Anw7+B1lNa+A/B+leGUn4mlsoB50wHQPK2XcDsGY4rvqKKACiiigAooooAKKKKACiiigAooooAKKKKACiiigArlfDv/ACOHiL6xfyNdVXK+Hf8AkcPEX1i/kaAOqooooAKKKKACiiigAooooAKKKKACiiigAooooAKKKKAOd+IXw+8P/FbwXq3hPxVpy6t4e1WLyLyzaR4xKmQwG5GVlIIBBUggjrXzv/w64/Zi/wCiZf8Alf1T/wCSa+qqKAPlX/h1x+zF/wBEy/8AK/qn/wAk1678D/2bPhv+zhp2qWPw68Nr4dttUlSe8UXlxctK6AhSWmkcgAE8Agcn1r02igAooooAKKKKACiiigAooooAKKKKACiiigAooooAK/I//gh5/wAjv8Vv+wdYf+jZq/XCvyP/AOCHn/I7/Fb/ALB1h/6NmoA/XCiiigAooooAKKKKACiiigAooooAKKKKACiiigAooooAKKKKACiiigAooooAKKKKACiiigAooooAKKKKACiiigAooooAKKKKACiiigDzv9oz/k3v4n/9ivqn/pJLX5zf8EN/+Qj8YP8Arlpf87qv0Z/aM/5N7+J//Yr6p/6SS1+c3/BDf/kI/GD/AK5aX/O6oA/V2iiigAooooAKKKKACiiigAooooAKKKKACiiigAooooAKKKKACiiigAooooAKKKKACiiigAooooAKKKKACiiigAooooAK5Xw7/wAjh4i+sX8jXVVyvh3/AJHDxF9Yv5GgDqqKKKACiiigAooooAKKKKACiiigAooooAKKKKACiiigAooooAKKKKACiiigAooooAKKKKACiiigAooooAKKKKACiiigAr8j/wDgh5/yO/xW/wCwdYf+jZq/XCvyP/4Ief8AI7/Fb/sHWH/o2agD9cKKKKACiiigAooooAKKKKACiiigAooooAKKKKACiiigAooooAKKKKACiiigAooooAKKKKACiiigAooooAKKKKACiiigAooooAKKKKAPO/2jP+Te/if/ANivqn/pJLX5zf8ABDf/AJCPxg/65aX/ADuq/Rn9oz/k3v4n/wDYr6p/6SS1+c3/AAQ3/wCQj8YP+uWl/wA7qgD9XaKKKACiiigAooooAKKKKACiiigAooooAKKKKACiiigAooooAKKKKACiiigAooooAKKKKACiiigAooooAKKKKACiiigArlfDv/I4eIvrF/I11Vcr4d/5HDxF9Yv5GgDqqKKKACiiigAooooAKKKKACiiigAooooAKKKKACiiigAooooAKKKKACiiigAooooAKKKKACiiigAooooAKKKKACiiigAr8j/+CHn/ACO/xW/7B1h/6Nmr9Qvi/fXGmfCbxteWdxLaXdvol7LDcQOUkjdYHKsrDkEEAgjkEV+Xv/BDz/kd/it/2DrD/wBGzUAfrhRRRQAUV5n+05eT6f8As4/FG6tZ5La5h8MalJFNC5R42FtIQykcgg85Ffh9+zh8H/2gf2qI9efwH4u1KddEMIu/t/iKa3x5u/Ztyxz/AKtqAP6DaK/Fr/h3N+2F/wBDM/8A4Vsv+NH/AA7m/bC/6GZ//Ctl/wAaAP2lor8Wv+Hc37YX/QzP/wCFbL/jR/w7m/bC/wChmf8A8K2X/GgD9paK/Fr/AIdzfthf9DM//hWy/wCNH/Dub9sL/oZn/wDCtl/xoA/aWivxa/4dzfthf9DM/wD4Vsv+NH/Dub9sL/oZn/8ACtl/xoA/aWivxa/4dzfthf8AQzP/AOFbL/jR/wAO5v2wv+hmf/wrZf8AGgD9paK/Fr/h3N+2F/0Mz/8AhWy/40f8O5v2wv8AoZn/APCtl/xoA/aWivxa/wCHc37YX/QzP/4Vsv8AjR/w7m/bC/6GZ/8AwrZf8aAP2lor8Wv+Hc37YX/QzP8A+FbL/jR/w7m/bC/6GZ//AArZf8aAP2lor8Wv+Hc37YX/AEMz/wDhWy/40f8ADub9sL/oZn/8K2X/ABoA/aWivxa/4dzfthf9DM//AIVsv+NH/Dub9sL/AKGZ/wDwrZf8aAP2lor8Wv8Ah3N+2F/0Mz/+FbL/AI0f8O5v2wv+hmf/AMK2X/GgD9paK/Fr/h3N+2F/0Mz/APhWy/40f8O5v2wv+hmf/wAK2X/GgD9paK/Fr/h3N+2F/wBDM/8A4Vsv+NH/AA7m/bC/6GZ//Ctl/wAaAP2lor8Wv+Hc37YX/QzP/wCFbL/jR/w7m/bC/wChmf8A8K2X/GgD9paK/Fr/AIdzfthf9DM//hWy/wCNH/Dub9sL/oZn/wDCtl/xoA/aWivxa/4dzfthf9DM/wD4Vsv+NH/Dub9sL/oZn/8ACtl/xoA/aWivxa/4dzfthf8AQzP/AOFbL/jR/wAO5v2wv+hmf/wrZf8AGgD9Yf2jP+Te/if/ANivqn/pJLX5zf8ABDf/AJCPxg/65aX/ADuq8d8a/sBftX+GPBuvaxrfiJpdG0+wuLu+j/4SmSTdBHGzSDYT82VB479K+e/2dfhJ8TvipLrq/DjVZtMeyWE3pi1N7PeG37M7SN2Nr/TPvUTnGnHmm7IuEJVJcsFdn9IdFfhN/wAMiftP/wDQ13f/AIU8v/xVH/DIn7T/AP0Nd3/4U8v/AMVXP9bw/wDz8X3o6vqWJ/59v7j92aK/Cb/hkT9p/wD6Gu7/APCnl/8AiqP+GRP2n/8Aoa7v/wAKeX/4qj63h/8An4vvQfUsT/z7f3H7s0V+E3/DIn7T/wD0Nd3/AOFPL/8AFUf8MiftP/8AQ13f/hTy/wDxVH1vD/8APxfeg+pYn/n2/uP3Zor8Jv8AhkT9p/8A6Gu7/wDCnl/+Ko/4ZE/af/6Gu7/8KeX/AOKo+t4f/n4vvQfUsT/z7f3H7s0V+E3/AAyJ+0//ANDXd/8AhTy//FUf8MiftP8A/Q13f/hTy/8AxVH1vD/8/F96D6lif+fb+4/dmivwm/4ZE/af/wChru//AAp5f/iqP+GRP2n/APoa7v8A8KeX/wCKo+t4f/n4vvQfUsT/AM+39x+7NFfhN/wyJ+0//wBDXd/+FPL/APFUf8MiftP/APQ13f8A4U8v/wAVR9bw/wDz8X3oPqWJ/wCfb+4/dmivwm/4ZE/af/6Gu7/8KeX/AOKo/wCGRP2n/wDoa7v/AMKeX/4qj63h/wDn4vvQfUsT/wA+39x+7NFfhN/wyJ+0/wD9DXd/+FPL/wDFUf8ADIn7T/8A0Nd3/wCFPL/8VR9bw/8Az8X3oPqWJ/59v7j92aK/Cb/hkT9p/wD6Gu7/APCnl/8AiqP+GRP2n/8Aoa7v/wAKeX/4qj63h/8An4vvQfUsT/z7f3H7s0V+E3/DIn7T/wD0Nd3/AOFPL/8AFUf8MiftP/8AQ13f/hTy/wDxVH1vD/8APxfeg+pYn/n2/uP3Zor8Jv8AhkT9p/8A6Gu7/wDCnl/+Ko/4ZE/af/6Gu7/8KeX/AOKo+t4f/n4vvQfUsT/z7f3H7s0V+E3/AAyJ+0//ANDXd/8AhTy//FUf8MiftP8A/Q13f/hTy/8AxVH1vD/8/F96D6lif+fb+4/dmivwm/4ZE/af/wChru//AAp5f/iqP+GRP2n/APoa7v8A8KeX/wCKo+t4f/n4vvQfUsT/AM+39x+7NFfhN/wyJ+0//wBDXd/+FPL/APFUf8MiftP/APQ13f8A4U8v/wAVR9bw/wDz8X3oPqWJ/wCfb+4/dmivwm/4ZE/af/6Gu7/8KeX/AOKo/wCGRP2n/wDoa7v/AMKeX/4qj63h/wDn4vvQfUsT/wA+39x+7NFfhN/wyJ+0/wD9DXd/+FPL/wDFUf8ADIn7T/8A0Nd3/wCFPL/8VR9bw/8Az8X3oPqWJ/59v7j92a5Xw7/yOHiL6xfyNfih/wAMiftQf9DXd/8AhTy//FVvaZ+wH+1jqNql7beJZAk4zuPimVWOOOeapYqhLRTX3mc8NWpq84NfI/buivxP/wCHfX7XX/Qzyf8AhWS/40f8O+v2uv8AoZ5P/Csl/wAar29L+ZfeY8kux+2FFfif/wAO+v2uv+hnk/8ACsl/xo/4d9ftdf8AQzyf+FZL/jR7el/MvvDkl2P2wor8T/8Ah31+11/0M8n/AIVkv+NH/Dvr9rr/AKGeT/wrJf8AGj29L+ZfeHJLsfthRX4n/wDDvr9rr/oZ5P8AwrJf8aP+HfX7XX/Qzyf+FZL/AI0e3pfzL7w5Jdj9sKK/E/8A4d9ftdf9DPJ/4Vkv+NH/AA76/a6/6GeT/wAKyX/Gj29L+ZfeHJLsfthRX4n/APDvr9rr/oZ5P/Csl/xo/wCHfX7XX/Qzyf8AhWS/40e3pfzL7w5Jdj9sKK/E/wD4d9ftdf8AQzyf+FZL/jR/w76/a6/6GeT/AMKyX/Gj29L+ZfeHJLsfthRX4n/8O+v2uv8AoZ5P/Csl/wAaP+HfX7XX/Qzyf+FZL/jR7el/MvvDkl2P2wor8T/+HfX7XX/Qzyf+FZL/AI0f8O+v2uv+hnk/8KyX/Gj29L+ZfeHJLsfthRX4n/8ADvr9rr/oZ5P/AArJf8aP+HfX7XX/AEM8n/hWS/40e3pfzL7w5Jdj9sKK/E//AId9ftdf9DPJ/wCFZL/jR/w76/a6/wChnk/8KyX/ABo9vS/mX3hyS7H7YUV+J/8Aw76/a6/6GeT/AMKyX/Gj/h31+11/0M8n/hWS/wCNHt6X8y+8OSXY/bCivxP/AOHfX7XX/Qzyf+FZL/jR/wAO+v2uv+hnk/8ACsl/xo9vS/mX3hyS7H7YUV+J/wDw76/a6/6GeT/wrJf8aP8Ah31+11/0M8n/AIVkv+NHt6X8y+8OSXY/bCivxP8A+HfX7XX/AEM8n/hWS/40f8O+v2uv+hnk/wDCsl/xo9vS/mX3hyS7H7YUV+J//Dvr9rr/AKGeT/wrJf8AGj/h31+11/0M8n/hWS/40e3pfzL7w5Jdj9sKK/E//h31+11/0M8n/hWS/wCNH/Dvr9rr/oZ5P/Csl/xo9vS/mX3hyS7H6+fGz/kjPj3/ALAF/wD+k8lfmH/wQ8/5Hf4rf9g6w/8ARs1eWeKP2Dv2rND8NatqOqeJJJNMs7Sa4uk/4SiV90SIWcbc/N8oPHevU/8Agh5/yO/xW/7B1h/6NmrSM4z+F3E4uO6P1woooqyTy39qj/k2b4r/APYran/6SyV8B/8ABDf/AI8vjB/100v+V1X35+1R/wAmzfFf/sVtT/8ASWSvgP8A4Ib/APHl8YP+uml/yuqAP1OooooAKKKKACiiigAooooAKKKKACiiigAooooAKKKKACiiigAooooAKKKKACiiigAooooAKKKKACiiigAooooAKKKKAPO/2jP+Te/if/2K+qf+kktfkn/wSq/4/fiR/wBc7D+c9frZ+0Z/yb38T/8AsV9U/wDSSWvyT/4JVf8AH78SP+udh/OevMzL/dJ/L80erlf+9w+f5M/QWiiivhT9ACiiigAooooAKKKKACiiigAooooAKKKKACiiigAooooAKKKKACiiigAooooAKKKKACiiigAooooAKKKKACiiigAr2rwV/wAitp/+4f8A0I14rXtXgr/kVtP/ANw/+hGurD/Ezxs0/hR9f0Zt0UUV6B8wFFFFABRRRQAUUUUAFFFFABRRRQAUUUUAFFFFABRRRQAUUUUAFFFFABRRRQAUUUUAFFFFABRRRQAUUUUAFFFFAHH/ABl/5I/46/7AN/8A+k71+cv/AAQ8/wCR3+K3/YOsP/Rs1fo18Zf+SP8Ajr/sA3//AKTvX5y/8EPP+R3+K3/YOsP/AEbNXuZd8Mjkr7o/XCiiivXOU8t/ao/5Nm+K/wD2K2p/+kslfAf/AAQ3/wCPL4wf9dNL/ldV9+ftUf8AJs3xX/7FbU//AElkr4D/AOCG/wDx5fGD/rppf8rqgD9TqKKKACiiigAooooAKKKKACiiigArkfi78RrH4RfC7xV401Ir9k0LTZ79kZseYyISsY92bao92FddXwf/AMFYfGer6t4B8DfBfwrayan4m+IesxxDT4JVjea3gdGCF2IVN0zQnc52gIxPAJAByf7D37W3xk1z47eH/B3xs1yHUbTx94WHiLwwFsLe28v55GVAYokLB4opW+cnGxcdTn7T+NH7R3w2/Z5020vfiF4ss/DcV4SLaKRJJp5sY3FIYlaRgMjJC4GRk81+bX7Y+u/GHwnP8IfitqXwBf4U2HwwvILaG+t/FtlqiT2xaIRWrxwqrKn7tkzyMSsD1Fei+PfiH4T0n/gpz8OPiJ40vraw8B614LiuPDmu6xhLFHeN2RhK3yRkeY2ST8plUkjcDQB6j+1N/wAFKvBvw5+BmmeLvhV4i0PxXr+sXZh0y1v7K7eCRImj+0iQL5ZjdFljO2RkJ3ggEV6n4T/bs+D2u/A+T4nXXi5IfDthcQabqt4mmXu22vnjRjCI/J8xgC4+ZQy+/Wvnz/gol4z8BfE39h/xzq3wzu9K1rTLbxVaJqt/oUQ8iS7Hlb3aRVCynbJADICwPyjdkYFX9ubxnoPxT/4JtJd+DtasPFNtpLaNHqEukXKXIs3Cx7ll2E7GHmJkNgjcM4oA+zfiL+0L8PvhPp/ha+8VeIV0u08UXUdnpEotZ5xdSyAFAPLRtoIYHc2Bzya5v4x/tmfBj4A68uieO/HVno2sFFc2EdtcXc8asMqXSCNygI5G4DPFfBX7aPx48BfE7wr+y/ofhLxPY+I9QsdW025vU02TzRZgpEgSYjiOQsG/dthvkbIGK7v4uftE+ItS/a5+KHguH4meD/2ctI0CxhefXtT8P2l/f6+PKjOGNwQJflYbUU7tqqAG5wAe+ftY/HTTvFf7C3j74gfC7xi0sQs4zZ65oV28M0L/AGmJWAZSrxuAxBBwwzyOa9L/AGRtc1HxN+y/8LNW1i/udV1S88O2U1ze3szTTTyGJSzu7ElmJ5JJJNfmJ+z9dvJ/wSu/aSthOJrWLxDviIhEQO42IJCD7uQq/L0Ffpd+xX/yaR8If+xYsP8A0StAHtNFFFABRRRQAUUUUAFFFFABRRRQAUUUUAFFFFAHnf7Rn/JvfxP/AOxX1T/0klr8k/8AglV/x+/Ej/rnYfznr9bP2jP+Te/if/2K+qf+kktfkn/wSq/4/fiR/wBc7D+c9eZmX+6T+X5o9XK/97h8/wAmfoLRRRXwp+gBRRRQAUUUUAFFFFABRRRQAUUUUAFFFFABRRRQAUUUUAFFFFABRRRQAUUUUAFFFFABRRRQAUUUUAFFFFABRRRQAV7V4K/5FbT/APcP/oRrxWvavBX/ACK2n/7h/wDQjXVh/iZ42afwo+v6M26KKK9A+YCiiigAooooAKKKKACiiigAooooAKKKKACiiigAooooAKKKKACiiigAooooAKKKKACiiigAooooAKKKKACiiigDj/jL/wAkf8df9gG//wDSd6/OX/gh5/yO/wAVv+wdYf8Ao2av0a+Mv/JH/HX/AGAb/wD9J3r85f8Agh5/yO/xW/7B1h/6Nmr3Mu+GRyV90frhRRRXrnKeW/tUf8mzfFf/ALFbU/8A0lkr4D/4Ib/8eXxg/wCuml/yuq+/P2qP+TZviv8A9itqf/pLJXwH/wAEN/8Ajy+MH/XTS/5XVAH6nUUUUAFFFFABRRRQAUUUUAFFFFABWDqfgHwxrXijTPEuoeHNIv8AxHpaslhq9zYxSXdorZDCKZlLoDubIUjOT61vUUAZXijwponjfQrrRPEWj2Gv6NdbRcadqlqlzbzbWDrvjcFWwyqwyOCAe1ZGs/CXwN4i8LWPhnVfBnh7U/DdgqR2mj3mlwTWduqABBHCyFEAAAAAGMV1lFAGDaeAfDFh4VbwxbeHNJtvDTRmE6NDYxLZmM9VMIXZtPpjFV/DXwx8HeDPDt1oHh/wnoehaFdF2uNL03TYbe1mLAKxeJFCtkAA5HIFdNRQBwll8BvhnpujQaTafDvwna6VBepqUVjBolskEd0gISdUCbRKoZgHA3DJweav+KfhJ4G8dataap4k8GeHvEOp2gxb3uq6VBczQjOfkd0JX8DXWUUAcnH8JfA0Wg61oaeDPDyaLrdw13qmmrpcAtr+ZiC0s8ezbK5KqSzAk7R6Vv6Loun+G9Js9K0mwttL0uziWC2srKFYYYI1GFREUBVUAYAAAFXaKACiiigAooooAKKKKACiiigAooooAKKKKACiiigDzv8AaM/5N7+J/wD2K+qf+kktfkn/AMEqv+P34kf9c7D+c9frZ+0Z/wAm9/E//sV9U/8ASSWvyT/4JVf8fvxI/wCudh/OevMzL/dJ/L80erlf+9w+f5M/QWiiivhT9ACiiigAooooAKKKKACiiigAooooAKKKgv8AULfSrOa7vJ47a2hUvJLKwVUA6kk9KBk9Feef8NCfDb/odtD/APA6P/Gj/hoX4bf9Dtof/gdH/jWvsan8r+4x9tT/AJl956HRXnv/AA0J8NT/AMzvof8A4HR/4102seOfD/h7RItY1LWbGx0uXHl3c86pG+emGJwc1LpzW6Y1UhLaSNyisHwr488O+OI5ZPD+t2GsLEcSfYrhJdn12k4reqXFxdmi4yUldO4UVy+sfFDwl4f8QQ6HqXiLTrLVpSoSznuUSQlvujaTnnIxXUZzQ4tJNrcFJNtJ6oKKKKQwooooAKKKKACiiigAooooAKKKKACvavBX/Iraf/uH/wBCNeK17V4K/wCRW0//AHD/AOhGurD/ABM8bNP4UfX9GbdFFFegfMBRRRQAUUUUAFFFFABRRRQAUUUUAFFFFABRQSB1IH1pvmJ/eX86AHUUgdTwGBP1pSQBknH1oAKKb5if3l/OnAg9OaACiiigAooooAKKKKACiiigAooooAKKKKACiiigDj/jL/yR/wAdf9gG/wD/AEnevzl/4Ief8jv8Vv8AsHWH/o2av0a+Mv8AyR/x1/2Ab/8A9J3r85f+CHn/ACO/xW/7B1h/6Nmr3Mu+GRyV90frhRRRXrnKeW/tUf8AJs3xX/7FbU//AElkr4D/AOCG/wDx5fGD/rppf8rqvvz9qj/k2b4r/wDYran/AOkslfAf/BDf/jy+MH/XTS/5XVAH6nUUUUAFFFFABRRRQAUUUUAFFFFABRRRQAUUUUAFFfEn/BRT9v2X9lmysPCXg2K0vviDqsBuTLdDzItMtySqysn8UjEHap4+UscjAb8yYPjt+1t8Xbe98UaT4o+Kes6dbsftN74bN7HZQkDJDC1CxJgdsCgD+hGivxW/ZA/4KqePvAnjXTNC+K+syeL/AATeyrbzajeKpvtN3EATeYADKgzllfLY5U5G1v2njkSaNZI2DowDKynII7EGgB1FFFABRRRQAUUUUAFFFFABRRRQAUUUUAFFFFABRRRQB53+0Z/yb38T/wDsV9U/9JJa/JP/AIJVf8fvxI/652H856/Wz9oz/k3v4n/9ivqn/pJLX5J/8Eqv+P34kf8AXOw/nPXmZl/uk/l+aPVyv/e4fP8AJn6C0UUV8KfoAUUUUAFFFFABRRRQAUUUUAFFFFABWR4u8M23jLwzqWiXjyR2t9C0EjREBwp64JBrXopbjvY+Pv8Ah2P8Nv8AoMa//wCBEX/xuvjyP4DaLJ+1i3wxF3djRF1NLTz9y+eUKKTzjGefSv2EzivzGtv+Ujsv/Ydi/wDRaV9LluKrVa0ozldcrf5Hy2aYWhRpQlTik3JL5anvH/Dsf4bf9BjX/wDwIi/+N1Q/4KGaFB4X/Z08N6RavI9vZXcUCNIcsVUADOMc19oV8g/8FMv+SKaX/wBhJf5V5tLEVa1emqkrrmX5nqVsLRoUKsqcbPlf5Hxx+zb8S9X/AGcfin4e1TUFlg0XWYkF1G+QklvIBtkH0yrfhiv1+sL6DU7G3vLaQS288ayxuvRlIyDX55fE74Dv8Rf2M/AXi3S4DLrOg6VEZFXrJblV3j/gP3vopr1f/gnr8eh488BP4M1S5La1oY/cmRstNbnpyepU7gfQYr08dFYqnKrH4qbafpfR/wBefY8rL5vCThTm/dqJNettV/Xl3PB/2v8A/k93QP8Ar70z/wBCjr9MoP8AUR/7o/lX5m/tf/8AJ7vh/wD6+9M/9Cjr9MoP9RH/ALo/lXJi/wDcsN6P9D1MP/vtf/t38h9FFFeKeqFFFFABRRRQAUUUUAFFFFABRRRQAV7V4K/5FbT/APcP/oRrxWvavBX/ACK2n/7h/wDQjXVh/iZ42afwo+v6M26KKK9A+YCiiigAooooAKKKKACiiigAooooAKKKKAPz0/4K1/FPxf8ADnRfBK+F/Eeo6B9onk846fcNEZMKcbtp5ryvwR+yN+1h478JaT4hsvjEYbTUoFuIo59Yug6qegOEIz9DXV/8Fn/+QP4B/wCu8v8A6Ca+6P2b7mEfAjwODNGD/ZkXG4elerSl7LB88VrzW/P/ACOerrXjDpy3/L/M+TP2ff2Sv2lPAPxb0DXPGPxRXWfDtrKWu7EapcyeauCMbWQA/jXR/wDBVn4j+KPhz8GdAuPC+vX2g3E+qBJZrCZonddp4JHb2r7ZSeKQ4SRGPorA18Bf8Fjf+SIeGf8AsLD/ANANcrrSrVKakluvzRvTpqPM12f5M8R+FP7MX7VPxa+HmkeMtH+MckFjqUXnQwXOr3QlA98IRn8a5W4/aX/aX/Yl+JVto/xC1K/17THcSGHVZzcxXcIOCYZCTtP5EcZAzX6QfsL/APJq3gD/AK8B/M18yf8ABZHWNBT4YeEtMmMDeIn1BprcHHmLCFAkx7ElPyr0KlfkxTpcqcb2tbzOWhBVKCnJ62ufdXwt+Iul/Fr4faF4t0d91hqtrHcqhI3RllBZGxxuU5U+4rqa+Yv+CbenXum/sieDo74sZHa5lTcu3CNO7L+hFfT1efi6caOInThsm0a0JupTjJ9RKKKK5DYKKKKACiiigAooooAKKKKACiiigDj/AIy/8kf8df8AYBv/AP0nevzl/wCCHn/I7/Fb/sHWH/o2av0a+Mv/ACR/x1/2Ab//ANJ3r85f+CHn/I7/ABW/7B1h/wCjZq9zLvhkclfdH64UUUV65ynlv7VH/Js3xX/7FbU//SWSvgP/AIIb/wDHl8YP+uml/wArqvvz9qj/AJNm+K//AGK2p/8ApLJXwH/wQ3/48vjB/wBdNL/ldUAfqdRRRQAUUUUAFFFFABRRRQAUUUUAFFFFABRRRQB/OV+3H49n+JH7W3xS1aaZpkh1ufTbct0ENs32ePA7DbED+JPU1/QH8G/htpvwg+FnhbwZpVvHbWejafDaYjUDe6oPMkbHVnfcxPcsTX85/wASJDa/tE+KZNTO0x+Krprozc4xdtv3frmv6YqAP5+P+Clvw3svhn+2N44tdMt0tNO1RoNYihjACq08StLgDpmbzTjjr0xX7N/sU+MJvHf7J3wr1i5ma4uX0G3tpZXJLO8I8lmJIGSTGST/AD61+TX/AAV9/wCTx73/ALAlj/6C9fp9/wAE4v8Akyf4Wf8AXjP/AOlU1AH0nRRRQAUUUUAFFFFABRRRQAUUUUAFFFFABRRRQAUUUUAed/tGf8m9/E//ALFfVP8A0klr8k/+CVX/AB+/Ej/rnYfznr9bP2jP+Te/if8A9ivqn/pJLX5J/wDBKr/j9+JH/XOw/nPXmZl/uk/l+aPVyv8A3uHz/Jn6C0UUV8KfoAUUUUAFFFFABRRRQAUUUUAFFFFABRRRQAV+Y1t/ykdl/wCw7F/6LSv05r8xrb/lI7L/ANh2L/0Wle1lP8ef+CX6HhZx/Bh/iX6n6c18g/8ABTL/AJIppf8A2El/lX19XyD/AMFMv+SKaX/2El/lXnYX/eKfqvzPTxf+71P8L/I9Z/ZTtIb/APZp8F21xGssE2kxxyRsMhlKAEH8K+DviJo+q/sZftSQ6xp6OdFnn+0wDOFmtnPzxk47EH6DFfe/7I//ACbp4F/7BkP/AKAK579tD4Gr8ZvhPctaQeZr2kBrqyKgbn4G6Mf72B+VelDELD42bl8LbT9L/wBfK55jw31nL6cY/EkmvX/g/wCR8b/tMeI7Dxf+154P1rS51udPv5dJuIJV6MjGMg/rX6iwf6mP/dH8q/Dr4cXl3c/FDwbDdyTSPb6rZxIsrEmNRMgCgHoB6V+4sH+pj/3R/KujNKSo0aNOOy5v0M8srPEVqtSW75fysPooor5w+hCiiigAooooAKKKKACiiigAooooAK9q8Ff8itp/+4f/AEI14rXtXgr/AJFbT/8AcP8A6Ea6sP8AEzxs0/hR9f0Zt0UUV6B8wFFFFABRRRQAUUUUAFFFFABRRRQAUUUUAfmX/wAFn/8AkD+Af+u8v/oJrj/hb/wTb+LPir4eaBq+n/FS202yvbVZorRJ7gCJT0XhK7D/AILPjGj+Af8ArvL/AOgmvuz9m7/kg/gf/sFxfyr1qVSVLBc0d+b/ADOerrXjF/y/5HzN+y9+wr8SPgl8YNN8WeIviUuvaXaxTI9hFLMxlLxsoyGUDAJB/CsD/gsb/wAkQ8M/9hYf+gGv0Br8/v8Agsb/AMkQ8M/9hYf+gGuR1p1qtNz6NL8TopwUVK3Z/kfPPwQ+KP7ZemfCrQbDwH4bF14Tjg2WE/2W2JaPPXczg/mK3vAf/BP343ftK/ElPF3xxvpNHtA481LydZ7mSMHISNULKqdeCwxnpX3f+wv/AMmr+AP+vAfzNe9YzXdiMS6NeajFXTettdziow9pRjd2TS0RmeGfDmn+D/D2naHpNutppun28dtbwoOEjRQqj8gK0qWjtXkOTk7vc7ElFWQlFFFSMKKKKACiiigAooooAKKKKACiiigDj/jL/wAkf8df9gG//wDSd6/OX/gh5/yO/wAVv+wdYf8Ao2av0a+Mv/JH/HX/AGAb/wD9J3r85f8Agh5/yO/xW/7B1h/6Nmr3Mu+GRyV90frhRRRXrnKeW/tUf8mzfFf/ALFbU/8A0lkr4D/4Ib/8eXxg/wCuml/yuq+/P2qP+TZviv8A9itqf/pLJXwH/wAEN/8Ajy+MH/XTS/5XVAH6nUUUUAFFFFABRRRQAUUUUAFFFFABRRRQAUUUUAfzl/ty+A7j4c/tbfFLSp4WhSbXLjUoARwYblvtEe31AWUD8Mdq/d/9n/49+GPjR8EvD/jiy1uyaGTToZNTL3CA2NwEHmxzZPyFXDD5uo5GQQa8S/b2/wCCf+n/ALW9lZeINCv7fw/8QtMgNtDd3Sn7NfQAsywzbQWXDMSsgBI3MCrZGPzS1D/glP8AtK2ep/ZYfA9pfwbgv2231yxEOM4zh5VfHf7ufbPFAHHft7fF6y+Pv7WPjHX/AA/ONT0YTQ6XpktvlxPHDGsW9P7yvIHZcdQwr91v2a/h3P8ACb4AfD3whdoEvtI0S1t7tR0Fx5YM2P8AtoWr4a/Yo/4JQXfww8a6V4++LN/YX+p6XKt1p3h3Tz50Mcy8pJcSMAGKHDBEBGQpLHGK/S+gAooooAKKKKACiiigAooooAKKKKACiiigAooooAKKKKAPO/2jP+Te/if/ANivqn/pJLX5J/8ABKr/AI/fiR/1zsP5z1+tn7Rn/JvfxP8A+xX1T/0klr8k/wDglV/x+/Ej/rnYfznrzMy/3Sfy/NHq5X/vcPn+TP0Fooor4U/QAooooAKKKKACiiigAooooAKKKKACiiigArz5fgB8P08fN41Hhq2Hicyic6jvffvAADY3YzgDtXoNFVGcoO8HYicIVFaaT9Re/Nct8Qfhl4Z+KejppfirSYtYsEkEqwysygMO/wApBrqKKSbi7oppSVnsZfhnwxpng3QrLRtGtEsdMs4xFBboSQigYAGSTWmwDqVIyDwQaWihtyd2CSirRVkea/8ADNvwyHi9fFA8H2C66s32gXa7xiT+9t3bc/hXpXT2ooqpTlJJSd7ExhGLbirN7hRRRUFhRRRQAUUUUAFFFFABRRRQAUUUUAFe1eCv+RW0/wD3D/6Ea8Vr2rwV/wAitp/+4f8A0I11Yf4meNmn8KPr+jNuiiivQPmAooooAKKKKACiiigAooooAKKKKACiiigD5y/bA/Yz0/8Aa3stCgvfE1z4dOlSM6tb2qzeZkEYOWGOte2/D7wfF8P/AATovhyG5a7i022W2Wd12lwvcjtXQUuOK09pLk9nfS9yXFOXO99grwr9rf8AZWsf2rvBOneHr3X5/D62d2LpbiC3ExbgjbgsPWvdeKKhOzTXQtOxxHwV+GEHwZ+GOg+Dra/k1KHSoBAt1LGEaT3KgnFdvRRVTnKpJzluyIxUIqMdkJRRRUFBRRRQAUUUUAFFFFABRRRQAUUUUAFFFFAHH/GX/kj/AI6/7AN//wCk71+cv/BDz/kd/it/2DrD/wBGzV+jXxl/5I/46/7AN/8A+k71+cv/AAQ8/wCR3+K3/YOsP/Rs1e5l3wyOSvuj9cKKKK9c5Ty39qj/AJNm+K//AGK2p/8ApLJXwH/wQ3/48vjB/wBdNL/ldV9+ftUf8mzfFf8A7FbU/wD0lkr4D/4Ib/8AHl8YP+uml/yuqAP1OooooAKKKKACiiigAooooAKKKKACiiigAooooAKKKKACiiigAooooAKKKKACiiigAooooAKKKKACiiigAooooAKKKKAPO/2jP+Te/if/ANivqn/pJLX5J/8ABKr/AI/fiR/1zsP5z1+tn7Rn/JvfxP8A+xX1T/0klr8k/wDglV/x+/Ej/rnYfznrzMy/3Sfy/NHq5X/vcPn+TP0Fooor4U/QAooooAKKKKACiiigAooooAKKKKACiiigAooooAKKKKACiiigAooooAKKKKACiiigAooooAKKKKACiiigAooooAK9q8Ff8itp/wDuH/0I14rXtXgr/kVtP/3D/wChGurD/Ezxs0/hR9f0Zt0UUV6B8wFFFFABRRRQAUUUUAFFFFABRRRQAUUUUAFFFFABRRRQAUUUUAFFFFABRRRQAUUUUAFFFFABRRRQAUUUUAFFFFAHH/GX/kj/AI6/7AN//wCk71+cv/BDz/kd/it/2DrD/wBGzV+jXxl/5I/46/7AN/8A+k71+cv/AAQ8/wCR3+K3/YOsP/Rs1e5l3wyOSvuj9cKKKK9c5Ty39qj/AJNm+K//AGK2p/8ApLJXwH/wQ3/48vjB/wBdNL/ldV9+ftUf8mzfFf8A7FbU/wD0lkr4D/4Ib/8AHl8YP+uml/yuqAP1OooooAKKKKACiiigAooooAKKKKACiiigAooooAKKKKACiiigAooooAKKKKACiiigAooooAKKKKACiiigAooooAKKKKAPO/2jP+Te/if/ANivqn/pJLX5J/8ABKr/AI/fiR/1zsP5z1+tn7Rn/JvfxP8A+xX1T/0klr8k/wDglV/x+/Ej/rnYfznrzMy/3Sfy/NHq5X/vcPn+TP0Fooor4U/QAooooAKKKKACiiigAooooAKKKKACiiigAooooAKKKKACiiigAooooAKKKKACiiigAooooAKKKKACiiigAooooAK9q8Ff8itp/wDuH/0I14rXtXgr/kVtP/3D/wChGurD/Ezxs0/hR9f0Zt0UUV6B8wFFFFABRRRQAUUUUAFFFFABRRRQAUUUUAFFFFABRRRQAUUUUAFFFFABRRRQAUUUUAFFFFABRRRQAUUUUAFFFFAHH/GX/kj/AI6/7AN//wCk71+cv/BDz/kd/it/2DrD/wBGzV+jXxl/5I/46/7AN/8A+k71+cv/AAQ8/wCR3+K3/YOsP/Rs1e5l3wyOSvuj9cKKKK9c5Ty39qj/AJNm+K//AGK2p/8ApLJXwH/wQ3/48vjB/wBdNL/ldV9+ftUf8mzfFf8A7FbU/wD0lkr88f8Agidqs+nW3xYSDT574yy6YMxcBOLnqTwOtAH6wUVjf2vqn/QCm/8AAmL/AOKo/tfVP+gFN/4Exf8AxVAGzRWN/a+qf9AKb/wJi/8AiqP7X1T/AKAU3/gTF/8AFUAbNFY39r6p/wBAKb/wJi/+Ko/tfVP+gFN/4Exf/FUAbNFY39r6p/0Apv8AwJi/+Ko/tfVP+gFN/wCBMX/xVAGzRWN/a+qf9AKb/wACYv8A4qj+19U/6AU3/gTF/wDFUAbNFY39r6p/0Apv/AmL/wCKo/tfVP8AoBTf+BMX/wAVQBs0Vjf2vqn/AEApv/AmL/4qj+19U/6AU3/gTF/8VQBs0Vjf2vqn/QCm/wDAmL/4qj+19U/6AU3/AIExf/FUAbNFY39r6p/0Apv/AAJi/wDiqP7X1T/oBTf+BMX/AMVQBs0Vjf2vqn/QCm/8CYv/AIqj+19U/wCgFN/4Exf/ABVAGzRWN/a+qf8AQCm/8CYv/iqP7X1T/oBTf+BMX/xVAGzRWN/a+qf9AKb/AMCYv/iqP7X1T/oBTf8AgTF/8VQBs0Vjf2vqn/QCm/8AAmL/AOKo/tfVP+gFN/4Exf8AxVAGzRWN/a+qf9AKb/wJi/8AiqP7X1T/AKAU3/gTF/8AFUAbNFY39r6p/wBAKb/wJi/+Ko/tfVP+gFN/4Exf/FUAbNFY39r6p/0Apv8AwJi/+Ko/tfVP+gFN/wCBMX/xVAGzRWN/a+qf9AKb/wACYv8A4qj+19U/6AU3/gTF/wDFUAcp+0Z/yb38T/8AsV9U/wDSSWvyT/4JVf8AH78SP+udh/Oev1Q/aO1+/i+AfxIjl0O5RZfDOprvV1cKPssnJ25x171+Zn/BILwpL4nv/igIp0h8mLTs7wTnJuP8K87MU5YWaXl+aPRy6caeJhKbslf8mfdFFd3/AMKouv8An/h/74NH/CqLr/n/AIf++DXxPsZ9j7b69h/5/wAzhKK7v/hVF1/z/wAP/fBo/wCFUXX/AD/w/wDfBo9jPsH17D/z/mcJRXd/8Kouv+f+H/vg0f8ACqLr/n/h/wC+DR7GfYPr2H/n/M4Siu7/AOFUXX/P/D/3waP+FUXX/P8Aw/8AfBo9jPsH17D/AM/5nCUV3f8Awqi6/wCf+H/vg0f8Kouv+f8Ah/74NHsZ9g+vYf8An/M4Siu7/wCFUXX/AD/w/wDfBo/4VRdf8/8AD/3waPYz7B9ew/8AP+ZwlFd3/wAKouv+f+H/AL4NH/CqLr/n/h/74NHsZ9g+vYf+f8zhKK7v/hVF1/z/AMP/AHwaP+FUXX/P/D/3waPYz7B9ew/8/wCZwlFd3/wqi6/5/wCH/vg0f8Kouv8An/h/74NHsZ9g+vYf+f8AM4Siu7/4VRdf8/8AD/3waP8AhVF1/wA/8P8A3waPYz7B9ew/8/5nCUV3f/CqLr/n/h/74NH/AAqi6/5/4f8Avg0exn2D69h/5/zOEoru/wDhVF1/z/w/98Gj/hVF1/z/AMP/AHwaPYz7B9ew/wDP+ZwlFd3/AMKouv8An/h/74NH/CqLr/n/AIf++DR7GfYPr2H/AJ/zOEoru/8AhVF1/wA/8P8A3waP+FUXX/P/AA/98Gj2M+wfXsP/AD/mcJRXd/8ACqLr/n/h/wC+DR/wqi6/5/4f++DR7GfYPr2H/n/M4Siu7/4VRdf8/wDD/wB8Gj/hVF1/z/w/98Gj2M+wfXsP/P8AmcJRXd/8Kouv+f8Ah/74NH/CqLr/AJ/4f++DR7GfYPr2H/n/ADOEr2rwT/yK2n/7h/8AQjXIf8Kouv8An/h/74NXIfGcPhCJdHltpLiS0GxpUYANnngH61rSTpO89Dhxc44yChQd2nf+rnfUVwv/AAte0/58Jv8AvsUf8LXtf+fCb/vsV1e2h3PK+o4j+T8juqK4X/ha9p/z4Tf99ij/AIWva/8APhN/32KPbQ7h9RxH8n5HdUVwv/C17T/nwm/77FH/AAte1/58Jv8AvsUe2h3D6jiP5PyO6orhf+Fr2n/PhN/32KP+Fr2v/PhN/wB9ij20O4fUcR/J+R3VFcL/AMLXtP8Anwm/77FH/C17X/nwm/77FHtodw+o4j+T8juqK4X/AIWvaf8APhN/32KP+Fr2v/PhN/32KPbQ7h9RxH8n5HdUVwv/AAte0/58Jv8AvsUf8LXtf+fCb/vsUe2h3D6jiP5PyO6orhf+Fr2n/PhN/wB9ij/ha9r/AM+E3/fYo9tDuH1HEfyfkd1RXC/8LXtP+fCb/vsUf8LXtf8Anwm/77FHtodw+o4j+T8juqK4X/ha9p/z4Tf99ij/AIWva/8APhN/32KPbQ7h9RxH8n5HdUVwv/C17T/nwm/77FH/AAte1/58Jv8AvsUe2h3D6jiP5PyO6orhf+Fr2n/PhN/32KP+Fr2v/PhN/wB9ij20O4fUcR/J+R3VFcL/AMLXtP8Anwm/77FH/C17X/nwm/77FHtodw+o4j+T8juqK4X/AIWvaf8APhN/32KP+Fr2v/PhN/32KPbQ7h9RxH8n5HdUVwv/AAte0/58Jv8AvsUf8LXtf+fCb/vsUe2h3D6jiP5PyO6orhf+Fr2n/PhN/wB9ij/ha9r/AM+E3/fYo9tDuH1HEfyfkd1RXC/8LXtP+fCb/vsUf8LXtf8Anwm/77FHtodw+o4j+T8i18Zv+SP+Ov8AsA3/AP6TvX5y/wDBDz/kd/it/wBg6w/9GzV9yfF34o2tz8KPGsIsZgZNEvUBLjjMDivhv/gh5/yO/wAVv+wdYf8Ao2aveyycZRly+R5eMo1KLiqitc/XCiiivaPPPLf2qP8Ak2b4r/8AYran/wCkslfAf/BDf/jy+MH/AF00v+V1X35+1R/ybN8V/wDsVtT/APSWSvgP/ghv/wAeXxg/66aX/K6oA/U6iiigAooooAKKKKACiiigAooooAKKKKACiuUufiz4Hs/G0Xg248ZeH4PF8uPL8PyapAt++U3jFuW8w5X5vu9OeldXQAUUUUAFFFFABRRXA/CD47+Bfj1peraj4E10a7Z6VfPpt5KLWe38q4VVZkxKiFuGB3KCOetAHfUUUUAFFFFABRRRQAUUUUAFFFFABRRRQAUUUUAed/tGf8m9/E//ALFfVP8A0klr81P+CKH/AB//ABb/AOuWmfzua/Sv9oz/AJN7+J//AGK+qf8ApJLX5qf8EUP+P/4t/wDXLTP53NceM/gS+X5mtL40fqTRRRXzB6AUUUUAFFFFABRRRQAUUUUAFFFFABRRRQAUUUUAFFFFABRRRQAUUUUAFFFFABRRRQAUUUUAFFFFABRRRQAUUUUAFeLeNv8AkadQ/wB8f+givaa8W8bf8jTqH++P/QRXLifhR7OV/wAaXp+qMOiiivPPpwooooAKKKKACiiigAooooAKKKKACiiigAooooAKKKKACiiigAooooAKKKKACiiigAooooAKKKKACiiigAooooA5j4o/8kz8Xf8AYIvP/RL18w/8EPP+R3+K3/YOsP8A0bNX098Uf+SZ+Lv+wRef+iXr5h/4Ief8jv8AFb/sHWH/AKNmr6nJfhn8j5HPPjp+jP1wooor6Q+YPLf2qP8Ak2b4r/8AYran/wCkslfAf/BDf/jy+MH/AF00v+V1X35+1R/ybN8V/wDsVtT/APSWSvgP/ghv/wAeXxg/66aX/K6oA/U6iiigAooooAKKKKACiiigAooooAKq6pqdro2mXeoX0y21laQvPPM/3Y41UszH2ABNWq8K/bc8OfEDxr+zT4v8MfDPRjrXijXYk00Qi6httltI4Fw2+V0XmLeuM5y44OKAPzA8VeHvEfif4W69+2rZwzw+I0+JMWpafHI5Kx6TE/kxK2Owm8qE+qofWv0b/aR/bV034N/Anwd468M6QfFmp+N3tYfDmnmTy45Xnj8xWlbqFUEAgcliB8vJHl2kf8EurNfgna+Drv4y/FOANpSxXGgweI0Ghi6K73UWvkEeT5xLbck47k815dYfsYfHXxv+xh4J8Jaxptr4e+Ivw28TPqGhWepX1vcQajZcSKplhkcIwd2ChyOIwDgMCAD6C1/XP2spfhj44s/E3hz4XW17JoMl1Z6tp15fG0hIKie2miYmUymFpmR0JjDxgEkGvFv+CWmufFPw9+zHf6qR4Rl+GWnW+q3Nkh+1HWTfowfEnIh8jh/u4bke9fT/AMNvEfxz+Ldvrul/Ej4ZaP8AC7QbjRJ7NSmux6reXF7IFVZFEPyRwhTKSrEtnZg4znyL9hb4O/GH4RfDTXfgr478B2mj+GBFqLweNbXXILkXLzlVVEtF+cDDSNucr0AwD1ANL4Y/tpeM/Gv7Afij44Xuk6FD4t0mO9MVnBDMLB2ikCpuQyl8YPIEnJHBHStwftK/FLxD+zD8NfiBoGmeAtN1TxHZfadX1nxbqrabomknjb8pcyuHO7ADEjYcnkV85eD/ANm79p3wd+y144/Z5tPAXh06XO15NB4xk16IrfxNiT7PDbfeWSRkCCSXy1UPyON1afxC/Y1+LF78Jf2ZpU8F2HjiX4fWbR698OtS1aCCG6kZlPEhYwtwCrEsRwuAwLCgD2T9kf8AbV8SfF/44+K/hP41HgfVNY0rTf7Ws/Enw91JrrSb2INCrRoXd2Ljz1zyD8jgqMZPF/8ABH3/AJJd8Vf+x1uf/RENRfssfsyfEzwb+2rq/wAT9f8Ahf4c+Gfg/U/DcttBpPhi7tWtrCYyQqsDJFtLSlYmkaRUCEt1zxXov/BN/wCAvjn4BeA/iBp3jvRBol5qnimfULOMXcFx5tu0UarJmJ3AyVPDEHjpQB9eUUUUAFFFFABRRRQAUUUUAFFFFABRRRQAUUUUAed/tGf8m9/E/wD7FfVP/SSWvzU/4Iof8f8A8W/+uWmfzua/Sv8AaM/5N7+J/wD2K+qf+kktfmp/wRQ/4/8A4t/9ctM/nc1x4z+BL5fma0vjR+pNFFFfMHoBRRRQAUUUUAFFFFABRRRQAUUUUAFFFFABRRRQAUUUUAFFFFABRRRQAUUUUAFFFFABRRRQAUUUUAFFFFABRRRQAV4t42/5GnUP98f+givaa8W8bf8AI06h/vj/ANBFcuJ+FHs5X/Gl6fqjDooorzz6cKKKKACiiigAooooAKKKKACiiigAooooAKKKKACiiigAooooAKKKKACiiigAooooAKKKKACiiigAooooAKKKKAOY+KP/ACTPxd/2CLz/ANEvXzD/AMEPP+R3+K3/AGDrD/0bNX098Uf+SZ+Lv+wRef8Aol6+Yf8Agh5/yO/xW/7B1h/6Nmr6nJfhn8j5HPPjp+jP1wooor6Q+YPLf2qP+TZviv8A9itqf/pLJXwH/wAEN/8Ajy+MH/XTS/5XVffn7VH/ACbN8V/+xW1P/wBJZK+A/wDghv8A8eXxg/66aX/K6oA/U6iiigAooooAKKKKACiiigAooooAKKKKACiiigAooooAKKKKACiiigAooooAKKKKACiiigAooooAKKKKACiiigAooooA87/aM/5N7+J//Yr6p/6SS1+an/BFD/j/APi3/wBctM/nc1+lf7Rn/JvfxP8A+xX1T/0klr81P+CKH/H/APFv/rlpn87muPGfwJfL8zWl8aP1Jooor5g9AKKKKACiiigAooooAKKKKACiiigAooooAKKKKACiiigAooooAKKKKACiiigAooooAKKKKACiiigAooooAKKKKACvFvG3/I06h/vj/wBBFe014t42/wCRp1D/AHx/6CK5cT8KPZyv+NL0/VGHRRRXnn04UUUUAFFFFABRRRQAUUUUAFFFFABRRRQAUUUUAFFFFABRRRQAUUUUAFFFFABRRRQAUUUUAFFFFABRRRQAUUUUAcx8Uf8Akmfi7/sEXn/ol6+Yf+CHn/I7/Fb/ALB1h/6Nmr6e+KP/ACTPxd/2CLz/ANEvXzD/AMEPP+R3+K3/AGDrD/0bNX1OS/DP5HyOefHT9GfrhRRRX0h8weW/tUf8mzfFf/sVtT/9JZK+A/8Aghv/AMeXxg/66aX/ACuq+/P2qP8Ak2b4r/8AYran/wCkslfAf/BDf/jy+MH/AF00v+V1QB+p1FFFABRRRQAUUUUAFFFFABRRRQAUUUUAFFFFAHP+PPiB4b+F/he98R+LNas/D+h2a7pr2+lEaL6KO7MegUZJPABNfnf8Qf8Agtx4X0PxRd2XhD4a3virRYWKRare6uNOafB+8sP2eUhT1G4hvVR0qH9sT9iH45/tc/tY6vnVY9H+FNjFaLpV9qV3vt4AbePz/JtUO5pTL5uSQoI2gvgAV+cX7UvwdsfgD8evFfw/07ULjVbTRJIIVvLpVWSZmt4pGYqvAG52wOcDAyepAP6K/hb45j+J3wy8I+MYrRtPi8Q6PZ6ulo772gE8KShCwA3Fd+M4GcdK6ivKv2Tv+TWPg3/2Jmjf+kMNeq0AFFFFABRRRQAUUUUAFFFFABRRRQAUUUUAFFFFABRRRQB53+0Z/wAm9/E//sV9U/8ASSWvzU/4Iof8f/xb/wCuWmfzua/Sv9oz/k3v4n/9ivqn/pJLX5qf8EUP+P8A+Lf/AFy0z+dzXHjP4Evl+ZrS+NH6k0UUV8wegFFFFABRRRQAUUUUAFFFFABRRRQAUUUUAfm/+0B/wU28c/DL46eIPAXh3wNZ60unTrBDiSRppiUVvuKp7ntXK/8ADz346/8ARFbj/wABLr/41XHaYiyf8FY5VdQ6nWEyGGR/qkr9dfsVt/z7xf8AfAr017Klh6U5Qu5JP8EYzu69SCdkn/mfNX7FX7S3jf8AaK03xBP4y8Gv4Sl0+VUhV4pU80EA/wAaL69q8Q/a6/4KVeJ/2efjTfeDdJ8J6fqVnaQxyGe6uGV3LZzwFOBxX6ERwRw5Ecax567QBmvxy/a78BWvxQ/4KL23hW9d4rbVPLgZ06qfLkKn8wKij7OtiPhsrbfcEr06UpNn6V/sqftIaV+078KrLxVYxLY34YwX+n79xt5lPIz3BGGB9COleo+KtYfw/wCGNW1ONFlks7SW4WNjgMVQsAT+Ffjx+xt8UdU/Y3/az1b4e+K3lttF1K+OmXImXaFctiG4A6ANlCT/AHTX66/EZxL8OPEroQyNplwQR0I8pqjG0lT/AHlP4ZK6Kw7bm6VTdOx8q/sMftx+If2pvG/ijQ9a0Cx0mLSrVLmKW0lZy259u0ggfnX2hX5M/wDBHT/ksXxD/wCwZF/6NNfrNWmOpQpVIqCtomEG3KafRsSiiivONAooooAKKKKACiiigAooooAKKKKACvFvG3/I06h/vj/0EV7TXi3jb/kadQ/3x/6CK5cT8KPZyv8AjS9P1Rh0UUV559OFFFFABRRRQAUUUUAFFFFABRRRQAVgePbPVtQ8GaxbaFL5GsS2zray7tu2THBzg4/Kt+ik9Rp2dz89f+FKftcHH/FXr/4Gr/8AG68dPxA+P4+LH/Cuh4zvT4k+0rabBKnl72AI+bZ0wRziv1sr8x1/5SPv/wBh2H/0UlfT4DE/WakoThGyi3t2sfKZhhvqtOM4TlrJLf1Ou/4Up+1x/wBDev8A4Gr/APG69W/bF8c+NvhV+zp4cmtNZm0/xEZYYL27gYMztgbuSMcn2r60r5D/AOCmH/JEtO/7CKf0rzo4l4mrThKKS5lsvM9OWFWGpVJxm2+V7vyPEPh54Q/aj+JvhCx8S6J4yZ9OvF3xeddqrke48s1QX9pr48fs1eNoNN+IBl1ezZld4dQQYlizyYZFA9+SD06V9j/sUf8AJt3hH/rhXlX/AAU2bSv+FTaKLgRHVvt3+i5xvCceZjvj7teg8TH628PKnFxvbbU86OGf1NYmNSSla++h9S/Dzx1pvxL8GaV4l0h2aw1GBZ4w/wB5MjO1vQjvXR184/8ABP8AiuYf2bdF+0H71xO0fy4+UvxX0dXiYulGhXnTjsme7hKsq9CFSW7QUUUVynWFFFFABRRRQAUUUUAFFFFABRRRQBzHxR/5Jn4u/wCwRef+iXr5h/4Ief8AI7/Fb/sHWH/o2avp74o/8kz8Xf8AYIvP/RL18w/8EPP+R3+K3/YOsP8A0bNX1OS/DP5HyOefHT9GfrhRRRX0h8weW/tUf8mzfFf/ALFbU/8A0lkr4D/4Ib/8eXxg/wCuml/yuq+/P2qP+TZviv8A9itqf/pLJXwH/wAEN/8Ajy+MH/XTS/5XVAH6nUUUUAFFFFABRRRQAUUUUAFFFFABRRRQAUUUUAFfz2/8FJP+T2/il/1+W3/pHBX9CVfz2/8ABST/AJPb+KX/AF+W3/pHBQB+3v7J3/JrHwb/AOxM0b/0hhr1WvKv2Tv+TWPg3/2Jmjf+kMNeq0AFFFFABRRRQAUUUUAFFFFABRRRQAUUUUAFFFFABRRRQB53+0Z/yb38T/8AsV9U/wDSSWvzU/4Iof8AH/8AFv8A65aZ/O5r9K/2jP8Ak3v4n/8AYr6p/wCkktfmp/wRQ/4//i3/ANctM/nc1x4z+BL5fma0vjR+pNFFFfMHoBRRRQAUUUUAFFFFABRRRQAUUUUAFFFFAH4dfHjxl4p8A/8ABQbxDrngywOp+IrXVI2tbQQ+aZW8tPl2+9e+/wDDbv7W3/RLZf8AwXH/AArjtJ/5Syyf9hhP/RSV+vVes6kaeFoc0U/dX5IwmubE1UnbX9WfPH7F/wAWvib8XfA2saj8TvDZ8Oalb3xhtY2h8oyxbFO7b9SR+FfD/wAav+UrPhf/AK+of/RclfrNX5M/Gr/lKz4X/wCvqH/0XJUYaaqYpSjG2m33E1044aabuehf8FbP2bP7Y0Sy+LOh2ub6xC2uqiJeXizhJTjqRkAk9AK9W/Y1/aRHx8/ZN1611K5Enifw/ps1neqx+eRPKby5fx2t+VfXHi3wrpvjfwxqegaxbLd6XqVu9tcQt0ZGBDD24PWvxIiu9a/YD/ae8TaHfGZ9BvLS4spVAJFxaSqfLkC9MhgOfTPrU4dqtRnhJdm4+vb+u/kb1FaUK63Ts/T+vyR7R/wR0/5LF8Q/+wXF/wCjTX6zZr8mP+COTq3xh+ITISVOlxFSRgkeacGv1mrXMv4sf8KM6bvKbX8zCiiivJNgooooAKKKKACiiigAooooAKKKKACvFvG3/I06h/vj/wBBFe014t42/wCRp1D/AHx/6CK5cT8KPZyv+NL0/VGHRRRXnn04UUUUAFFFFABRRRQAUUUUAFFFFABRRRQAV+Y6/wDKR+T/ALDsP/opK/TivzHX/lI/J/2HYf8A0Ule1lP8ef8Agl+h4WcfwYf4l+p+nFfIf/BTD/kiWnf9hFP6V9eV8h/8FMP+SJad/wBhFP6V52F/3in6r8z08X/u9T/C/wAj59+DHx1/aD8L/DfSdL8H+DoNS8PwoVtbprCSRnHruEgB/Krll+zZ8b/2ovHEOr/EUT6HpyMFLXqbRHH1KxR5+vJNfYH7FB/4xu8I/wDXCvcq9jEY72FeapwXMm9ep42GwHt8PD2lSXK0tOhi+C/CGm+AfC+m6BpEPkadYQrBCvU7VGOfU1tUUV4EpObcpO7Z9DGKhFRirJBRRRUlBRRRQAUUUUAFFFFABRRRQAUUUUAcx8Uf+SZ+Lv8AsEXn/ol6+Yf+CHn/ACO/xW/7B1h/6Nmr6e+KP/JM/F3/AGCLz/0S9fMP/BDz/kd/it/2DrD/ANGzV9Tkvwz+R8jnnx0/Rn64UUUV9IfMHlv7VH/Js3xX/wCxW1P/ANJZK+A/+CG//Hl8YP8Arppf8rqvvz9qj/k2b4r/APYran/6SyV8B/8ABDf/AI8vjB/100v+V1QB+p1FFFABRRRQAUUUUAFFFFABRRRQAUUUUAFFFFAH5L/8FEf+Gov+GntZ/wCFaf8AC1/+EO+w2f2T/hD/AO0vsO7yR5mPs3ybt+7OeemeMV8TeJP2df2h/Get3Ws+IPhj8Ttd1i7YNcahqWgajcXExACgvI8ZZiAAOT0Ar+kGigD8DfhzpP7Zegaz4X0yysvjfp2j2Vxa20FmYtXis4IEZVWPYQI1iVQBtIChRjpX75UUUAFFFFABRRRQAUUUUAFFFFABRRRQAUUUUAFFFFABRRRQB53+0Z/yb38T/wDsV9U/9JJa/NT/AIIof8f/AMW/+uWmfzua/Sv9oz/k3v4n/wDYr6p/6SS1+an/AARQ/wCP/wCLf/XLTP53NceM/gS+X5mtL40fqTRRRXzB6AUUUUAFFFFABRRRQAUUUUAFFFFABRRRQB+ben/st/FCD/gow/xCfwrOPBh1FLgat9oh2bBGoJ279/UEfdr9JRSUp962lVlKnCm9oqyJ5f3kqnWQV+dHxT/Zj+Juvf8ABQ/w/wDECw8Kz3Pg63nikl1VbiEIgCOD8pcN1I6DvX6L0UUaroz54hOKqQdN7MK+O/8Agoj+xxdftJ+DrHWvC0Eb+NNGLCGJnCfaoWxujyeN2VUjOB15r7EpKzjJxkpR3Rona67n53f8Evv2VPiV8CfFvjDWvHnh9vDsV5Zx2tvDNPFK8hD7if3bMAOe57V+iRGKKO1b4ivLES55drGMIKmmkJRRRXMaBRRRQAUUUUAFFFFABRRRQAUUUUAFeLeNv+Rp1D/fH/oIr2mvFvG3/I06h/vj/wBBFcuJ+FHs5X/Gl6fqjDooorzz6cKKKKACiiigAooooAKKKKACiiigAooooAK+W1/Ywux+0y/xUPimH7O18l6NM+xHd8qqu3zN/wDs9dtfUlFbUa1TDycqbs2rfJnPXw9PERUaquk7/MK8c/ah+AU37Q/gS38P2+spokkNytx58luZgcdtoZf517HRWcZOElKO61NpwVSLhLZ6HB/A74Zv8IPhlo3hSW/XU5LCPY10sXlh/fbk4/Ou8oo6U5zlVm5y3ZNOnGlBQhsgoooqDQKKQA55Ix9KWgAoopOc9Rj6UALRRRQAUUUUAFFFFABRRRQBzHxR/wCSZ+Lv+wRef+iXr5h/4Ief8jv8Vv8AsHWH/o2avp74o/8AJM/F3/YIvP8A0S9fMP8AwQ8/5Hf4rf8AYOsP/Rs1fU5L8M/kfI558dP0Z+uFFFFfSHzB5b+1R/ybN8V/+xW1P/0lkr4D/wCCG/8Ax5fGD/rppf8AK6r78/ao/wCTZviv/wBitqf/AKSyV8B/8EN/+PL4wf8AXTS/5XVAH6nUUUUAFFFFABRRRQAUUUUAFFFFABRRRQAUUUUAFFFFABRRRQAUUUUAFFFFABRRRQAUUUUAFFFFABRRRQAUUUUAFFFFAHnf7Rn/ACb38T/+xX1T/wBJJa/NT/gih/x//Fv/AK5aZ/O5r9K/2jP+Te/if/2K+qf+kktfmp/wRQ/4/wD4t/8AXLTP53NceM/gS+X5mtL40fqTRRRXzB6AUUUUAFFFFABRRRQAUUUUAFFFFABRRRQAUUUUAFFFFABRRRQAUUUUAFFFFABRRRQAUUUUAFFFFABRRRQAUUUUAFeLeNv+Rp1D/fH/AKCK9prxbxt/yNOof74/9BFcuJ+FHs5X/Gl6fqjDooorzz6cKKKKACiiigAooooAKKKKACiiigAooooAKKKKACiiigAooooAKKKKACiiigAooooAKKKKACiiigAooooAKKKKAOY+KP8AyTPxd/2CLz/0S9fMP/BDz/kd/it/2DrD/wBGzV9PfFH/AJJn4u/7BF5/6JevmH/gh5/yO/xW/wCwdYf+jZq+pyX4Z/I+Rzz46foz9cKKKK+kPmDy39qj/k2b4r/9itqf/pLJXwH/AMEN/wDjy+MH/XTS/wCV1X35+1R/ybN8V/8AsVtT/wDSWSvgP/ghv/x5fGD/AK6aX/K6oA/U6iiigAooooAKKKKACiiigAooooAKKKKACiiigAooooAKKKKACiiigAooooAKKKKACiiigAooooAKKKKACiiigAooooA87/aM/wCTe/if/wBivqn/AKSS1+an/BFD/j/+Lf8A1y0z+dzX6V/tGf8AJvfxP/7FfVP/AEklr81P+CKH/H/8W/8Arlpn87muPGfwJfL8zWl8aP1Jooor5g9AKKKKACiiigAooooAKKKKACiiigAooooAKKKKACiiigAooooAKKKKACiiigAooooAKKKKACiiigAooooAKKKKACvFvG3/ACNOof74/wDQRXtNeLeNv+Rp1D/fH/oIrlxPwo9nK/40vT9UYdFFFeefThRRRQAUUUUAFFFFABRRRQAUUUUAFFFFABRRRQAUUUUAFFFFABRRRQAUUUUAFFFFABRRRQAUUUUAFFFFABRRRQBzHxR/5Jn4u/7BF5/6JevmH/gh5/yO/wAVv+wdYf8Ao2avp74o/wDJM/F3/YIvP/RL18w/8EPP+R3+K3/YOsP/AEbNX1OS/DP5HyOefHT9GfrhRRRX0h8weW/tUf8AJs3xX/7FbU//AElkr4D/AOCG/wDx5fGD/rppf8rqvvz9qj/k2b4r/wDYran/AOkslfh9+x1+3Fr/AOxzD4pj0Tw1pviAa+1s0p1CWRPK8nzMbdnXPmnOfQUAf0J0V+Pn/D7vx7/0Tfw5/wCBdx/jR/w+78e/9E38Of8AgXcf40AfsHRX4+f8Pu/Hv/RN/Dn/AIF3H+NH/D7vx7/0Tfw5/wCBdx/jQB+wdFfj5/w+78e/9E38Of8AgXcf40f8Pu/Hv/RN/Dn/AIF3H+NAH7B0V+Pn/D7vx7/0Tfw5/wCBdx/jR/w+78e/9E38Of8AgXcf40AfsHRX4+f8Pu/Hv/RN/Dn/AIF3H+NH/D7vx7/0Tfw5/wCBdx/jQB+wdFfj5/w+78e/9E38Of8AgXcf40f8Pu/Hv/RN/Dn/AIF3H+NAH7B0V+Pn/D7vx7/0Tfw5/wCBdx/jR/w+78e/9E38Of8AgXcf40AfsHRX4+f8Pu/Hv/RN/Dn/AIF3H+NH/D7vx7/0Tfw5/wCBdx/jQB+wdFfj5/w+78e/9E38Of8AgXcf40f8Pu/Hv/RN/Dn/AIF3H+NAH7B0V+Pn/D7vx7/0Tfw5/wCBdx/jR/w+78e/9E38Of8AgXcf40AfsHRX4+f8Pu/Hv/RN/Dn/AIF3H+NH/D7vx7/0Tfw5/wCBdx/jQB+wdFfj5/w+78e/9E38Of8AgXcf40f8Pu/Hv/RN/Dn/AIF3H+NAH7B0V+Pn/D7vx7/0Tfw5/wCBdx/jR/w+78e/9E38Of8AgXcf40AfsHRX4+f8Pu/Hv/RN/Dn/AIF3H+NH/D7vx7/0Tfw5/wCBdx/jQB+wdFfj5/w+78e/9E38Of8AgXcf40f8Pu/Hv/RN/Dn/AIF3H+NAH7B0V+Pn/D7vx7/0Tfw5/wCBdx/jR/w+78e/9E38Of8AgXcf40AfsHRX4+f8Pu/Hv/RN/Dn/AIF3H+NH/D7vx7/0Tfw5/wCBdx/jQB+n/wC0Z/yb38T/APsV9U/9JJa/NT/giecah8W/+uWmfzua47x7/wAFj/G/j3wN4i8M3Hw+0C1t9a06502SeK6nLxrNE0ZYAnGQGzz6V8/fsiftma5+yJP4nk0bw9p+vHXlt1lF/LInleSZCNu3rnzD19BXNiISqUnGO5pTajJNn790V+Sf/D6Pxz/0Tvw9/wCBU/8AjR/w+j8c/wDRO/D3/gVP/jXifUq3b8Tr9tA/WyivyT/4fR+Of+id+Hv/AAKn/wAaP+H0fjn/AKJ34e/8Cp/8aPqVbt+Ie2gfrZRX5J/8Po/HP/RO/D3/AIFT/wCNH/D6Pxz/ANE78Pf+BU/+NH1Kt2/EPbQP1sor8k/+H0fjn/onfh7/AMCp/wDGj/h9H45/6J34e/8AAqf/ABo+pVu34h7aB+tlFfkn/wAPo/HP/RO/D3/gVP8A40f8Po/HP/RO/D3/AIFT/wCNH1Kt2/EPbQP1sor8k/8Ah9H45/6J34e/8Cp/8aP+H0fjn/onfh7/AMCp/wDGj6lW7fiHtoH62UV+Sf8Aw+j8c/8ARO/D3/gVP/jR/wAPo/HP/RO/D3/gVP8A40fUq3b8Q9tA/WyivyT/AOH0fjn/AKJ34e/8Cp/8aP8Ah9H45/6J34e/8Cp/8aPqVbt+Ie2gfrZRX5J/8Po/HP8A0Tvw9/4FT/40f8Po/HP/AETvw9/4FT/40fUq3b8Q9tA/WyivyT/4fR+Of+id+Hv/AAKn/wAaP+H0fjn/AKJ34e/8Cp/8aPqVbt+Ie2gfrZRX5J/8Po/HP/RO/D3/AIFT/wCNH/D6Pxz/ANE78Pf+BU/+NH1Kt2/EPbQP1sor8k/+H0fjn/onfh7/AMCp/wDGj/h9H45/6J34e/8AAqf/ABo+pVu34h7aB+tlFfkn/wAPo/HP/RO/D3/gVP8A40f8Po/HP/RO/D3/AIFT/wCNH1Kt2/EPbQP1sor8k/8Ah9H45/6J34e/8Cp/8aP+H0fjn/onfh7/AMCp/wDGj6lW7fiHtoH62UV+Sf8Aw+j8c/8ARO/D3/gVP/jR/wAPo/HP/RO/D3/gVP8A40fUq3b8Q9tA/WyivyT/AOH0fjn/AKJ34e/8Cp/8aP8Ah9H45/6J34e/8Cp/8aPqVbt+Ie2gfrZRX5J/8Po/HP8A0Tvw9/4FT/40f8Po/HP/AETvw9/4FT/40fUq3b8Q9tA/WyvFvG3/ACNOof74/wDQRX5+f8PpPHJ/5p34e/8AAqf/ABrkdY/4KveMNY1Ke8fwNocbSnJVbibA4x6+1c9bL8ROKSX4npYHGUaFRym9LH6K0V+bv/D0zxd/0JOi/wDgRN/jR/w9M8Xf9CTov/gRN/jXJ/ZeK/l/FHuf2thP5vwZ+kVFfm7/AMPTPF3/AEJOi/8AgRN/jR/w9M8Xf9CTov8A4ETf40f2Xiv5fxQf2thP5vwZ+kVFfm7/AMPTPF3/AEJOi/8AgRN/jR/w9M8Xf9CTov8A4ETf40f2Xiv5fxQf2thP5vwZ+kVFfm7/AMPTPF3/AEJOi/8AgRN/jR/w9M8Xf9CTov8A4ETf40f2Xiv5fxQf2thP5vwZ+kVFfm7/AMPTPF3/AEJOi/8AgRN/jR/w9M8Xf9CTov8A4ETf40f2Xiv5fxQf2thP5vwZ+kVFfm7/AMPTPF3/AEJOi/8AgRN/jR/w9M8Xf9CTov8A4ETf40f2Xiv5fxQf2thP5vwZ+kVFfm7/AMPTPF3/AEJOi/8AgRN/jR/w9M8Xf9CTov8A4ETf40f2Xiv5fxQf2thP5vwZ+kVFfm7/AMPTPF3/AEJOi/8AgRN/jR/w9M8Xf9CTov8A4ETf40f2Xiv5fxQf2thP5vwZ+kVFfm7/AMPTPF3/AEJOi/8AgRN/jR/w9M8Xf9CTov8A4ETf40f2Xiv5fxQf2thP5vwZ+kVFfm7/AMPTPF3/AEJOi/8AgRN/jR/w9M8Xf9CTov8A4ETf40f2Xiv5fxQf2thP5vwZ+kVFfm7/AMPTPF3/AEJOi/8AgRN/jR/w9M8Xf9CTov8A4ETf40f2Xiv5fxQf2thP5vwZ+kVFfm7/AMPTPF3/AEJOi/8AgRN/jR/w9M8Xf9CTov8A4ETf40f2Xiv5fxQf2thP5vwZ+kVFfm7/AMPTPF3/AEJOi/8AgRN/jR/w9M8Xf9CTov8A4ETf40f2Xiv5fxQf2thP5vwZ+kVFfm7/AMPTPF3/AEJOi/8AgRN/jR/w9M8Xf9CTov8A4ETf40f2Xiv5fxQf2thP5vwZ+kVFfm7/AMPTPF3/AEJOi/8AgRN/jR/w9M8Xf9CTov8A4ETf40f2Xiv5fxQf2thP5vwZ+kVFfm7/AMPTPF3/AEJOi/8AgRN/jR/w9M8Xf9CTov8A4ETf40f2Xiv5fxQf2thP5vwZ+kVFfm7/AMPTPF3/AEJOi/8AgRN/jR/w9M8Xf9CTov8A4ETf40f2Xiv5fxQf2thP5vwZ99/FH/kmfi7/ALBF5/6JevmH/gh5/wAjv8Vv+wdYf+jZq8S8R/8ABTLxV4j8PappMvg7R4Yr+1ltWkSeUlQ6FSRz1Ga9t/4Ief8AI7/Fb/sHWH/o2avey3DVcNGSqK1z57NMVSxUoOk72ufrhRRRXsnhkdxbxXlvJBPEk0EilHjkUMrqeCCDwQawf+Fc+E/+hX0b/wAF8X/xNdFRQBzv/CufCf8A0K+jf+C+L/4mj/hXPhP/AKFfRv8AwXxf/E10VFAHO/8ACufCf/Qr6N/4L4v/AImj/hXPhP8A6FfRv/BfF/8AE10VFAHO/wDCufCf/Qr6N/4L4v8A4mj/AIVz4T/6FfRv/BfF/wDE10VFAHO/8K58J/8AQr6N/wCC+L/4mj/hXPhP/oV9G/8ABfF/8TXRUUAc7/wrnwn/ANCvo3/gvi/+Jo/4Vz4T/wChX0b/AMF8X/xNdFRQBzv/AArnwn/0K+jf+C+L/wCJo/4Vz4T/AOhX0b/wXxf/ABNdFRQBzv8Awrnwn/0K+jf+C+L/AOJo/wCFc+E/+hX0b/wXxf8AxNdFRQBzv/CufCf/AEK+jf8Agvi/+Jo/4Vz4T/6FfRv/AAXxf/E10VFAHO/8K58J/wDQr6N/4L4v/iaP+Fc+E/8AoV9G/wDBfF/8TXRUUAc7/wAK58J/9Cvo3/gvi/8AiaP+Fc+E/wDoV9G/8F8X/wATXRUUAc7/AMK58J/9Cvo3/gvi/wDiaP8AhXPhP/oV9G/8F8X/AMTXRUUAc7/wrnwn/wBCvo3/AIL4v/iaP+Fc+E/+hX0b/wAF8X/xNdFRQBzv/CufCf8A0K+jf+C+L/4mj/hXPhP/AKFfRv8AwXxf/E10VFAHO/8ACufCf/Qr6N/4L4v/AImj/hXPhP8A6FfRv/BfF/8AE10VFAHO/wDCufCf/Qr6N/4L4v8A4mj/AIVz4T/6FfRv/BfF/wDE10VFAHO/8K58J/8AQr6N/wCC+L/4mj/hXPhP/oV9G/8ABfF/8TXRUUAc7/wrnwn/ANCvo3/gvi/+Jo/4Vz4T/wChX0b/AMF8X/xNdFRQBzv/AArnwn/0K+jf+C+L/wCJo/4Vz4T/AOhX0b/wXxf/ABNdFRQBzv8Awrnwn/0K+jf+C+L/AOJo/wCFc+E/+hX0b/wXxf8AxNdFRQBzv/CufCf/AEK+jf8Agvi/+Jo/4Vz4T/6FfRv/AAXxf/E10VFAHO/8K58J/wDQr6N/4L4v/iaP+Fc+E/8AoV9G/wDBfF/8TXRUUAc7/wAK58J/9Cvo3/gvi/8AiaP+Fc+E/wDoV9G/8F8X/wATXRUUAc7/AMK58J/9Cvo3/gvi/wDiaP8AhXPhP/oV9G/8F8X/AMTXRUUAc7/wrnwn/wBCvo3/AIL4v/iaP+Fc+E/+hX0b/wAF8X/xNdFRQBzv/CufCf8A0K+jf+C+L/4mj/hXPhP/AKFfRv8AwXxf/E10VFAHO/8ACufCf/Qr6N/4L4v/AImj/hXPhP8A6FfRv/BfF/8AE10VFAHO/wDCufCf/Qr6N/4L4v8A4mj/AIVz4T/6FfRv/BfF/wDE10VFAHO/8K58J/8AQr6N/wCC+L/4mj/hXPhP/oV9G/8ABfF/8TXRUUAc7/wrnwn/ANCvo3/gvi/+Jo/4Vz4T/wChX0b/AMF8X/xNdFRQBzv/AArnwn/0K+jf+C+L/wCJo/4Vz4T/AOhX0b/wXxf/ABNdFRQBzv8Awrnwn/0K+jf+C+L/AOJo/wCFc+E/+hX0b/wXxf8AxNdFRQBzv/CufCf/AEK+jf8Agvi/+Jo/4Vz4T/6FfRv/AAXxf/E10VFAHO/8K58J/wDQr6N/4L4v/iaP+Fc+E/8AoV9G/wDBfF/8TXRUUAc7/wAK58J/9Cvo3/gvi/8AiaP+Fc+E/wDoV9G/8F8X/wATXRUUAc7/AMK58J/9Cvo3/gvi/wDiaP8AhXPhP/oV9G/8F8X/AMTXRUUAc7/wrnwn/wBCvo3/AIL4v/iaP+Fc+E/+hX0b/wAF8X/xNdFRQBzv/CufCf8A0K+jf+C+L/4mj/hXPhP/AKFfRv8AwXxf/E10VFAHO/8ACufCf/Qr6N/4L4v/AImj/hXPhP8A6FfRv/BfF/8AE10VFAHO/wDCufCf/Qr6N/4L4v8A4mj/AIVz4T/6FfRv/BfF/wDE10VFAHO/8K58J/8AQr6N/wCC+L/4mj/hXPhP/oV9G/8ABfF/8TXRUUAc7/wrnwn/ANCvo3/gvi/+Jo/4Vz4T/wChX0b/AMF8X/xNdFRQBzv/AArnwn/0K+jf+C+L/wCJo/4Vz4T/AOhX0b/wXxf/ABNdFRQBzv8Awrnwn/0K+jf+C+L/AOJo/wCFc+E/+hX0b/wXxf8AxNdFRQBzv/CufCf/AEK+jf8Agvi/+Jo/4Vz4T/6FfRv/AAXxf/E10VFAHO/8K58J/wDQr6N/4L4v/iaP+Fc+E/8AoV9G/wDBfF/8TXRUUAc7/wAK58J/9Cvo3/gvi/8AiaP+Fc+E/wDoV9G/8F8X/wATXRUUAc7/AMK58J/9Cvo3/gvi/wDiaP8AhXPhP/oV9G/8F8X/AMTXRUUAc7/wrnwn/wBCvo3/AIL4v/iaP+Fc+E/+hX0b/wAF8X/xNdFRQBzv/CufCf8A0K+jf+C+L/4mj/hXPhP/AKFfRv8AwXxf/E10VFAHO/8ACufCf/Qr6N/4L4v/AImj/hXPhP8A6FfRv/BfF/8AE10VFAHO/wDCufCf/Qr6N/4L4v8A4mj/AIVz4T/6FfRv/BfF/wDE10VFAHO/8K58J/8AQr6N/wCC+L/4mj/hXPhP/oV9G/8ABfF/8TXRUUAc7/wrnwn/ANCvo3/gvi/+Jo/4Vz4T/wChX0b/AMF8X/xNdFRQBzv/AArnwn/0K+jf+C+L/wCJq/pPhnR9AeRtM0qx05pAA7WlskRcDpnaBmtOigAooooA/9k=)\r\n",
        "\r\n",
        "... where 1 is positive and 0 is negative."
      ]
    },
    {
      "cell_type": "markdown",
      "metadata": {
        "id": "EbKLwPN7MPGW"
      },
      "source": [
        "First measure is the **precision**, defined as\r\n",
        "\r\n",
        "$$\r\n",
        "\\text { precision }=\\frac{\\# \\text { positives predicted correctly }}{\\# \\text { positive predictions }}=\\frac{\\mathrm{TP}}{\\mathrm{TP}+\\mathrm{FP}}\r\n",
        "$$\r\n",
        "\r\n",
        "The precision is defined as the number of positives our model can detect and that are actual positives (TP) divided by the number of all positives our model detect, which are both real positives and negatives (TP + FP)"
      ]
    },
    {
      "cell_type": "markdown",
      "metadata": {
        "id": "5WkB5oWLM34J"
      },
      "source": [
        "Another important measure is called **recall**\r\n",
        "\r\n",
        "$$\r\n",
        "\\text { recall }=\\frac{\\# \\text { positives predicted correctly }}{\\# \\text { positive cases }}=\\frac{\\mathrm{TP}}{\\mathrm{TP}+\\mathrm{FN}}\r\n",
        "$$\r\n",
        "\r\n",
        "The recall is defined as the number of positives our model can detect and that are actual positives (TP) divided by the total number of real positives, which is formed by the positives we were able to detect (TP) and the ones we missed (FN), so (TP + FN)"
      ]
    },
    {
      "cell_type": "markdown",
      "metadata": {
        "id": "owrsHRixN3Er"
      },
      "source": [
        "When dealing with the accuracy of our model, we have a trade-off between precision and recall. We have to build our model in order to maximize both, but sometimes we need more precision and less recall or viceversa. The focus we need to have is whether is much important if we want to minimize FP or FN.\r\n",
        "\r\n",
        "\r\n",
        "---\r\n",
        "\r\n",
        "\r\n",
        "\r\n",
        "Let's see an example: we have to build a model which detect spam email, so that everytime we flag an email as spam, we immediately delete it. Let's also assume that:\r\n",
        "\r\n",
        "\r\n",
        "\r\n",
        "*   Positive cases (1) are spam\r\n",
        "*   Negative cases (2) are legitimate\r\n",
        "\r\n",
        "Now we should take a look at what are the entries for our confusion matrix:\r\n",
        "\r\n",
        "\r\n",
        "\r\n",
        "*   TP = mails that are spam and we detect as spam\r\n",
        "*   TN = mails that are legitimate and we detect as legitimate\r\n",
        "*   FP = mails that are legitimate and we detect as spam\r\n",
        "*   FN = mails that are spam and we detect as legitimate\r\n",
        "\r\n",
        "Now we can clearly see that it is much more important to build a model which minimize FP rather than FN. That is because if we detect as spam a mail that is legitimate, we could end up deleting some important emails. While in the second case, we don't care a lot about letting go some spam emails. In this case we should minimize FP, which means maximize precision (and so maximize FN, which means minimize recall).\r\n",
        "\r\n",
        "\r\n",
        "\r\n",
        "\r\n",
        "\r\n",
        "\r\n",
        "\r\n"
      ]
    },
    {
      "cell_type": "markdown",
      "metadata": {
        "id": "OYHqqRGdQ1wI"
      },
      "source": [
        "Another measure that take into account both precision and recall is the **F1 score**, defined as:\r\n",
        "\r\n",
        "$$\r\n",
        "\\mathrm{F} 1=2 \\cdot \\frac{\\text { precision } \\cdot \\text { recall }}{\\text { precision }+\\text { recall }}\r\n",
        "$$"
      ]
    },
    {
      "cell_type": "code",
      "metadata": {
        "colab": {
          "base_uri": "https://localhost:8080/"
        },
        "id": "g8Ojk9TJRDgy",
        "outputId": "baf46eaa-6bf5-4a63-d185-e43b33e005a3"
      },
      "source": [
        "# Now let's see how to calculate those metrics with Scikit-Learn\r\n",
        "from sklearn.metrics import accuracy_score, precision_score, recall_score, f1_score\r\n",
        "\r\n",
        "df = pd.read_csv('https://sololearn.com/uploads/files/titanic.csv')\r\n",
        "df['male'] = df['Sex'] == 'male'\r\n",
        "X = df[['Pclass', 'male', 'Age', 'Siblings/Spouses', 'Parents/Children', 'Fare']].values\r\n",
        "y = df['Survived'].values\r\n",
        "model = LogisticRegression()\r\n",
        "model.fit(X, y)\r\n",
        "y_pred = model.predict(X)\r\n",
        "\r\n",
        "print('accuracy', accuracy_score(y, y_pred))\r\n",
        "print('precision', precision_score(y, y_pred))\r\n",
        "print('recall', recall_score(y, y_pred))\r\n",
        "print('f1 score', f1_score(y, y_pred))"
      ],
      "execution_count": 28,
      "outputs": [
        {
          "output_type": "stream",
          "text": [
            "accuracy 0.8049605411499436\n",
            "precision 0.7734627831715211\n",
            "recall 0.6988304093567251\n",
            "f1 score 0.7342549923195083\n"
          ],
          "name": "stdout"
        }
      ]
    },
    {
      "cell_type": "code",
      "metadata": {
        "colab": {
          "base_uri": "https://localhost:8080/"
        },
        "id": "RY1wYcipYqW3",
        "outputId": "b64a79bc-079e-4b81-f5b8-02f1acb82076"
      },
      "source": [
        "# We can also generate a confusion matrix in Sklearn\r\n",
        "from sklearn.metrics import confusion_matrix\r\n",
        "print(confusion_matrix(y, y_pred))"
      ],
      "execution_count": 29,
      "outputs": [
        {
          "output_type": "stream",
          "text": [
            "[[475  70]\n",
            " [103 239]]\n"
          ],
          "name": "stdout"
        }
      ]
    },
    {
      "cell_type": "markdown",
      "metadata": {
        "id": "LYfJLJSzZX_n"
      },
      "source": [
        "### Overfitting, training and testing\r\n",
        "Overfitting is the condition where our model perform well on data we fit the model on but bad on new data."
      ]
    },
    {
      "cell_type": "markdown",
      "metadata": {
        "id": "VQeEbT6ofIMS"
      },
      "source": [
        "First we begin to split the dataset into\r\n",
        "\r\n",
        "\r\n",
        "\r\n",
        "*   Training Set: for building the model\r\n",
        "*   Test Set: for evaluating the model\r\n",
        "\r\n"
      ]
    },
    {
      "cell_type": "code",
      "metadata": {
        "colab": {
          "base_uri": "https://localhost:8080/"
        },
        "id": "W0w0KOTFfkAi",
        "outputId": "255d6fda-eb2a-47b4-9a50-147d66e448e2"
      },
      "source": [
        "# In Sklearn we have a function to perform a split\r\n",
        "from sklearn.model_selection import train_test_split\r\n",
        "\r\n",
        "X_train, X_test, y_train, y_test = train_test_split(X, y)\r\n",
        "\r\n",
        "print(\"whole dataset:\", X.shape, y.shape)\r\n",
        "print(\"training set:\", X_train.shape, y_train.shape)\r\n",
        "print(\"test set:\", X_test.shape, y_test.shape)"
      ],
      "execution_count": 39,
      "outputs": [
        {
          "output_type": "stream",
          "text": [
            "whole dataset: (887, 6) (887,)\n",
            "training set: (665, 6) (665,)\n",
            "test set: (222, 6) (222,)\n"
          ],
          "name": "stdout"
        }
      ]
    },
    {
      "cell_type": "code",
      "metadata": {
        "colab": {
          "base_uri": "https://localhost:8080/"
        },
        "id": "pd4mz8ghgi75",
        "outputId": "6e054d36-dfe9-4a71-d4e0-be5cd69f3a23"
      },
      "source": [
        "# Now we are going to fit the model on training set and evaluate it on test set\r\n",
        "model = LogisticRegression()\r\n",
        "model.fit(X_train, y_train)\r\n",
        "\r\n",
        "\r\n",
        "# Let's see what is the score\r\n",
        "y_pred = model.predict(X_test)\r\n",
        "print(\"accuracy:\", accuracy_score(y_test, y_pred))\r\n",
        "print(\"precision:\", precision_score(y_test, y_pred))\r\n",
        "print(\"recall:\", recall_score(y_test, y_pred))\r\n",
        "print(\"f1 score:\", f1_score(y_test, y_pred))"
      ],
      "execution_count": 44,
      "outputs": [
        {
          "output_type": "stream",
          "text": [
            "accuracy: 0.7747747747747747\n",
            "precision: 0.7088607594936709\n",
            "recall: 0.6746987951807228\n",
            "f1 score: 0.691358024691358\n"
          ],
          "name": "stdout"
        }
      ]
    },
    {
      "cell_type": "markdown",
      "metadata": {
        "id": "le0YxxO-kqr-"
      },
      "source": [
        "Look that if we perform every time the split we get a different split and then different performance. If we want to avoid that we can set a seed called **Random State**"
      ]
    },
    {
      "cell_type": "code",
      "metadata": {
        "id": "C-jjPvhqk_1B"
      },
      "source": [
        "X_train, X_test, y_train, y_test = train_test_split(X, y, random_state = 27)"
      ],
      "execution_count": 43,
      "outputs": []
    },
    {
      "cell_type": "markdown",
      "metadata": {
        "id": "E1EzsfGplWh_"
      },
      "source": [
        "### ROC Curve\r\n",
        "When dealing with Logistic Regression we say that the output of the function is a probability. In the example of the Titanic Dataset we say that if \r\n",
        "\r\n",
        "\r\n",
        "*   the passenger has a probability of surviving $\\geq 0.5$ we say that the passenger survived.\r\n",
        "\r\n",
        "*   the passenger has a probability of surviving $> 0.5$ we say that the passenger survived.\r\n",
        "\r\n",
        "survived"
      ]
    }
  ]
}