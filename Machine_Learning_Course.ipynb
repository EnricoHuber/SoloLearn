{
  "nbformat": 4,
  "nbformat_minor": 0,
  "metadata": {
    "kernelspec": {
      "display_name": "Python 3",
      "language": "python",
      "name": "python3"
    },
    "language_info": {
      "codemirror_mode": {
        "name": "ipython",
        "version": 3
      },
      "file_extension": ".py",
      "mimetype": "text/x-python",
      "name": "python",
      "nbconvert_exporter": "python",
      "pygments_lexer": "ipython3",
      "version": "3.8.5"
    },
    "colab": {
      "name": "Machine Learning Course.ipynb",
      "provenance": [],
      "collapsed_sections": [],
      "toc_visible": true,
      "include_colab_link": true
    }
  },
  "cells": [
    {
      "cell_type": "markdown",
      "metadata": {
        "id": "view-in-github",
        "colab_type": "text"
      },
      "source": [
        "<a href=\"https://colab.research.google.com/github/EnricoHuber/SoloLearn/blob/main/Machine_Learning_Course.ipynb\" target=\"_parent\"><img src=\"https://colab.research.google.com/assets/colab-badge.svg\" alt=\"Open In Colab\"/></a>"
      ]
    },
    {
      "cell_type": "markdown",
      "metadata": {
        "id": "mF8wR1b9lF8o"
      },
      "source": [
        "# Machine Learning with Solo Learn\r\n",
        "In this notebook we are going to cover some algorithms for classification in Python using some famous libraries."
      ]
    },
    {
      "cell_type": "markdown",
      "metadata": {
        "id": "QhQ6nMInp4Mq"
      },
      "source": [
        "## Statistics Review with Python"
      ]
    },
    {
      "cell_type": "markdown",
      "metadata": {
        "id": "KOOxmDOVq9Ss"
      },
      "source": [
        "Some known statistics can be computed with Numpy. See Numpy [documentation](https://numpy.org/doc/) here."
      ]
    },
    {
      "cell_type": "code",
      "metadata": {
        "id": "OqStKHsCp8Xb",
        "colab": {
          "base_uri": "https://localhost:8080/"
        },
        "outputId": "4ec708b8-c695-4c3a-e148-77163f2469e4"
      },
      "source": [
        "import numpy as np\r\n",
        "\r\n",
        "data = [15, 16, 18, 19, 22, 24, 29, 30, 34]\r\n",
        "\r\n",
        "print(\"mean:\", np.mean(data))\r\n",
        "print(\"median:\", np.median(data))\r\n",
        "print(\"50th percentile (median):\", np.percentile(data, 50))\r\n",
        "print(\"25th percentile:\", np.percentile(data, 25))\r\n",
        "print(\"75th percentile:\", np.percentile(data, 75))\r\n",
        "print(\"standard deviation:\", np.std(data))\r\n",
        "print(\"variance:\", np.var(data))"
      ],
      "execution_count": 1,
      "outputs": [
        {
          "output_type": "stream",
          "text": [
            "mean: 23.0\n",
            "median: 22.0\n",
            "50th percentile (median): 22.0\n",
            "25th percentile: 18.0\n",
            "75th percentile: 29.0\n",
            "standard deviation: 6.342099196813483\n",
            "variance: 40.22222222222222\n"
          ],
          "name": "stdout"
        }
      ]
    },
    {
      "cell_type": "markdown",
      "metadata": {
        "id": "jhTDR7Ao0ruL"
      },
      "source": [
        "Data manipulation is down via Pandas. See Pandas [documentation](https://pandas.pydata.org/pandas-docs/stable/) here."
      ]
    },
    {
      "cell_type": "code",
      "metadata": {
        "colab": {
          "base_uri": "https://localhost:8080/"
        },
        "id": "YuPFQVmvrYl5",
        "outputId": "c0d092cf-631d-4973-b098-0bee6fcafffe"
      },
      "source": [
        "import pandas as pd\r\n",
        "df = pd.read_csv('https://sololearn.com/uploads/files/titanic.csv')\r\n",
        "print(df.head())\r\n",
        "print(df.describe())"
      ],
      "execution_count": 2,
      "outputs": [
        {
          "output_type": "stream",
          "text": [
            "   Survived  Pclass     Sex   Age  Siblings/Spouses  Parents/Children     Fare\n",
            "0         0       3    male  22.0                 1                 0   7.2500\n",
            "1         1       1  female  38.0                 1                 0  71.2833\n",
            "2         1       3  female  26.0                 0                 0   7.9250\n",
            "3         1       1  female  35.0                 1                 0  53.1000\n",
            "4         0       3    male  35.0                 0                 0   8.0500\n",
            "         Survived      Pclass  ...  Parents/Children       Fare\n",
            "count  887.000000  887.000000  ...        887.000000  887.00000\n",
            "mean     0.385569    2.305524  ...          0.383315   32.30542\n",
            "std      0.487004    0.836662  ...          0.807466   49.78204\n",
            "min      0.000000    1.000000  ...          0.000000    0.00000\n",
            "25%      0.000000    2.000000  ...          0.000000    7.92500\n",
            "50%      0.000000    3.000000  ...          0.000000   14.45420\n",
            "75%      1.000000    3.000000  ...          0.000000   31.13750\n",
            "max      1.000000    3.000000  ...          6.000000  512.32920\n",
            "\n",
            "[8 rows x 6 columns]\n"
          ],
          "name": "stdout"
        }
      ]
    },
    {
      "cell_type": "code",
      "metadata": {
        "colab": {
          "base_uri": "https://localhost:8080/"
        },
        "id": "v0bHsU1vsZzW",
        "outputId": "716ebf24-5ef8-4b0f-ed74-3a00de44c2e0"
      },
      "source": [
        "col = df['Fare']\r\n",
        "print(col)"
      ],
      "execution_count": 3,
      "outputs": [
        {
          "output_type": "stream",
          "text": [
            "0       7.2500\n",
            "1      71.2833\n",
            "2       7.9250\n",
            "3      53.1000\n",
            "4       8.0500\n",
            "        ...   \n",
            "882    13.0000\n",
            "883    30.0000\n",
            "884    23.4500\n",
            "885    30.0000\n",
            "886     7.7500\n",
            "Name: Fare, Length: 887, dtype: float64\n"
          ],
          "name": "stdout"
        }
      ]
    },
    {
      "cell_type": "code",
      "metadata": {
        "colab": {
          "base_uri": "https://localhost:8080/"
        },
        "id": "T5jUmLgDtMSS",
        "outputId": "7522aa6b-9e7c-4d7a-a1cb-2d1529211c34"
      },
      "source": [
        "# You can create a small subdataframe\r\n",
        "small_df = df[['Age', 'Sex', 'Survived']]\r\n",
        "print(small_df.head())\r\n",
        "\r\n",
        "# We create a new column with boolean values as regarding to sex\r\n",
        "df['male'] = df['Sex'] == 'male'\r\n",
        "print(df.head())"
      ],
      "execution_count": 4,
      "outputs": [
        {
          "output_type": "stream",
          "text": [
            "    Age     Sex  Survived\n",
            "0  22.0    male         0\n",
            "1  38.0  female         1\n",
            "2  26.0  female         1\n",
            "3  35.0  female         1\n",
            "4  35.0    male         0\n",
            "   Survived  Pclass     Sex  ...  Parents/Children     Fare   male\n",
            "0         0       3    male  ...                 0   7.2500   True\n",
            "1         1       1  female  ...                 0  71.2833  False\n",
            "2         1       3  female  ...                 0   7.9250  False\n",
            "3         1       1  female  ...                 0  53.1000  False\n",
            "4         0       3    male  ...                 0   8.0500   True\n",
            "\n",
            "[5 rows x 8 columns]\n"
          ],
          "name": "stdout"
        }
      ]
    },
    {
      "cell_type": "code",
      "metadata": {
        "id": "aHZ0gIEqusFU",
        "colab": {
          "base_uri": "https://localhost:8080/"
        },
        "outputId": "720b2c19-84d7-4b46-a6ac-913dc7d2df04"
      },
      "source": [
        "# One can convert Pandas Dataframe into a Pandas Series and then into a Numpy Array\r\n",
        "print(df['Fare'].values)\r\n",
        "print(df[['Pclass', 'Fare', 'Age']].values)\r\n",
        "arr = df[['Pclass', 'Fare', 'Age']].values\r\n",
        "print(arr.shape)"
      ],
      "execution_count": 5,
      "outputs": [
        {
          "output_type": "stream",
          "text": [
            "[  7.25    71.2833   7.925   53.1      8.05     8.4583  51.8625  21.075\n",
            "  11.1333  30.0708  16.7     26.55     8.05    31.275    7.8542  16.\n",
            "  29.125   13.      18.       7.225   26.      13.       8.0292  35.5\n",
            "  21.075   31.3875   7.225  263.       7.8792   7.8958  27.7208 146.5208\n",
            "   7.75    10.5     82.1708  52.       7.2292   8.05    18.      11.2417\n",
            "   9.475   21.      41.5792   7.8792   8.05    15.5      7.75    21.6792\n",
            "  17.8     39.6875   7.8     76.7292  26.      61.9792  35.5     10.5\n",
            "   7.2292  27.75    46.9      7.2292  80.      83.475   27.9     27.7208\n",
            "  15.2458  10.5      8.1583   7.925    8.6625  10.5     46.9     73.5\n",
            "  14.4542  56.4958   7.65     7.8958   8.05    29.      12.475    9.\n",
            "   9.5      7.7875  47.1     10.5     15.85    34.375    8.05   263.\n",
            "   8.05     8.05     7.8542  61.175   20.575    7.25     8.05    34.6542\n",
            "  63.3583  23.      26.       7.8958   7.8958  77.2875   8.6542   7.925\n",
            "   7.8958   7.65     7.775    7.8958  24.15    52.      14.4542   8.05\n",
            "   9.825   14.4583   7.925    7.75    21.     247.5208  31.275   73.5\n",
            "   8.05    30.0708  13.      77.2875  11.2417   7.75     7.1417  22.3583\n",
            "   6.975    7.8958   7.05    14.5     26.      13.      15.0458  26.2833\n",
            "  53.1      9.2167  79.2     15.2458   7.75    15.85     6.75    11.5\n",
            "  36.75     7.7958  34.375   26.      13.      12.525   66.6      8.05\n",
            "  14.5      7.3125  61.3792   7.7333   8.05     8.6625  69.55    16.1\n",
            "  15.75     7.775    8.6625  39.6875  20.525   55.      27.9     25.925\n",
            "  56.4958  33.5     29.125   11.1333   7.925   30.6958   7.8542  25.4667\n",
            "  28.7125  13.       0.      69.55    15.05    31.3875  39.      22.025\n",
            "  50.      15.5     26.55    15.5      7.8958  13.      13.       7.8542\n",
            "  26.      27.7208 146.5208   7.75     8.4042   7.75    13.       9.5\n",
            "  69.55     6.4958   7.225    8.05    10.4625  15.85    18.7875   7.75\n",
            "  31.       7.05    21.       7.25    13.       7.75   113.275    7.925\n",
            "  27.      76.2917  10.5      8.05    13.       8.05     7.8958  90.\n",
            "   9.35    10.5      7.25    13.      25.4667  83.475    7.775   13.5\n",
            "  31.3875  10.5      7.55    26.      26.25    10.5     12.275   14.4542\n",
            "  15.5     10.5      7.125    7.225   90.       7.775   14.5     52.5542\n",
            "  26.       7.25    10.4625  26.55    16.1     20.2125  15.2458  79.2\n",
            "  86.5    512.3292  26.      31.3875  79.65     0.       7.75    10.5\n",
            "  39.6875   7.775  153.4625 135.6333  31.       0.      19.5     29.7\n",
            "   7.75    77.9583   7.75     0.      29.125   20.25     7.75     7.8542\n",
            "   9.5      8.05    26.       8.6625   9.5      7.8958  13.       7.75\n",
            "  78.85    91.0792  12.875    8.85     7.8958  27.7208   7.2292 151.55\n",
            "  30.5    247.5208   7.75    23.25     0.      12.35     8.05   151.55\n",
            " 110.8833 108.9     24.      56.9292  83.1583 262.375   26.       7.8958\n",
            "  26.25     7.8542  26.      14.     164.8667 134.5      7.25     7.8958\n",
            "  12.35    29.      69.55   135.6333   6.2375  13.      20.525   57.9792\n",
            "  23.25    28.5    153.4625  18.     133.65     7.8958  66.6    134.5\n",
            "   8.05    35.5     26.     263.      13.      13.      13.      13.\n",
            "  13.      16.1     15.9      8.6625   9.225   35.       7.2292  17.8\n",
            "   7.225    9.5     55.      13.       7.8792   7.8792  27.9     27.7208\n",
            "  14.4542   7.05    15.5      7.25    75.25     7.2292   7.75    69.3\n",
            "  55.4417   6.4958   8.05   135.6333  21.075   82.1708   7.25   211.5\n",
            "   4.0125   7.775  227.525   15.7417   7.925   52.       7.8958  73.5\n",
            "  46.9     13.       7.7292  12.     120.       7.7958   7.925  113.275\n",
            "  16.7      7.7958   7.8542  26.      10.5     12.65     7.925    8.05\n",
            "   9.825   15.85     8.6625  21.       7.75    18.75     7.775   25.4667\n",
            "   7.8958   6.8583  90.       0.       7.925    8.05    32.5     13.\n",
            "  13.      24.15     7.7333   7.875   14.4     20.2125   7.25    26.\n",
            "  26.       7.75     8.05    26.55    16.1     26.       7.125   55.9\n",
            " 120.      34.375   18.75   263.      10.5     26.25     9.5      7.775\n",
            "  13.       8.1125  81.8583  19.5     26.55    19.2583  30.5     27.75\n",
            "  19.9667  27.75    89.1042   8.05     7.8958  26.55    51.8625  10.5\n",
            "   7.75    26.55     8.05    38.5     13.       8.05     7.05     0.\n",
            "  26.55     7.725   19.2583   7.25     8.6625  27.75    13.7917   9.8375\n",
            "  52.      21.       7.0458   7.5208  12.2875  46.9      0.       8.05\n",
            "   9.5875  91.0792  25.4667  90.      29.7      8.05    15.9     19.9667\n",
            "   7.25    30.5     49.5042   8.05    14.4583  78.2667  15.1    151.55\n",
            "   7.7958   8.6625   7.75     7.6292   9.5875  86.5    108.9     26.\n",
            "  26.55    22.525   56.4958   7.75     8.05    26.2875  59.4      7.4958\n",
            "  34.0208  10.5     24.15    26.       7.8958  93.5      7.8958   7.225\n",
            "  57.9792   7.2292   7.75    10.5    221.7792   7.925   11.5     26.\n",
            "   7.2292   7.2292  22.3583   8.6625  26.25    26.55   106.425   14.5\n",
            "  49.5     71.      31.275   31.275   26.     106.425   26.      26.\n",
            "  13.8625  20.525   36.75   110.8833  26.       7.8292   7.225    7.775\n",
            "  26.55    39.6    227.525   79.65    17.4      7.75     7.8958  13.5\n",
            "   8.05     8.05    24.15     7.8958  21.075    7.2292   7.8542  10.5\n",
            "  51.4792  26.3875   7.75     8.05    14.5     13.      55.9     14.4583\n",
            "   7.925   30.     110.8833  26.      40.125    8.7125  79.65    15.\n",
            "  79.2      8.05     8.05     7.125   78.2667   7.25     7.75    26.\n",
            "  24.15    33.       0.       7.225   56.9292  27.       7.8958  42.4\n",
            "   8.05    26.55    15.55     7.8958  30.5     41.5792 153.4625  31.275\n",
            "   7.05    15.5      7.75     8.05    65.      14.4     16.1     39.\n",
            "  10.5     14.4542  52.5542  15.7417   7.8542  16.1     32.3208  12.35\n",
            "  77.9583   7.8958   7.7333  30.       7.0542  30.5      0.      27.9\n",
            "  13.       7.925   26.25    39.6875  16.1      7.8542  69.3     27.9\n",
            "  56.4958  19.2583  76.7292   7.8958  35.5      7.55     7.55     7.8958\n",
            "  23.       8.4333   7.8292   6.75    73.5      7.8958  15.5     13.\n",
            " 113.275  133.65     7.225   25.5875   7.4958   7.925   73.5     13.\n",
            "   7.775    8.05    52.      39.      52.      10.5     13.       0.\n",
            "   7.775    8.05     9.8417  46.9    512.3292   8.1375  76.7292   9.225\n",
            "  46.9     39.      41.5792  39.6875  10.1708   7.7958 211.3375  57.\n",
            "  13.4167  56.4958   7.225   26.55    13.5      8.05     7.7333 110.8833\n",
            "   7.65   227.525   26.2875  14.4542   7.7417   7.8542  26.      13.5\n",
            "  26.2875 151.55    15.2458  49.5042  26.55    52.       9.4833  13.\n",
            "   7.65   227.525   10.5      7.775   33.       7.0542  13.      13.\n",
            "  53.1      8.6625  21.       7.7375  26.       7.925  211.3375  18.7875\n",
            "   0.      13.      13.      16.1     34.375  512.3292   7.8958   7.8958\n",
            "  30.      78.85   262.375   16.1      7.925   71.      20.25    13.\n",
            "  53.1      7.75    23.      12.475    9.5      7.8958  65.      14.5\n",
            "   7.7958  11.5      8.05    86.5     14.5      7.125    7.2292 120.\n",
            "   7.775   77.9583  39.6      7.75    24.15     8.3625   9.5      7.8542\n",
            "  10.5      7.225   23.       7.75     7.75    12.475    7.7375 211.3375\n",
            "   7.2292  57.      30.      23.45     7.05     7.25     7.4958  29.125\n",
            "  20.575   79.2      7.75    26.      69.55    30.6958   7.8958  13.\n",
            "  25.9292   8.6833   7.2292  24.15    13.      26.25   120.       8.5167\n",
            "   6.975    7.775    0.       7.775   13.      53.1      7.8875  24.15\n",
            "  10.5     31.275    8.05     0.       7.925   37.0042   6.45    27.9\n",
            "  93.5      8.6625   0.      12.475   39.6875   6.95    56.4958  37.0042\n",
            "   7.75    80.      14.4542  18.75     7.2292   7.8542   8.3     83.1583\n",
            "   8.6625   8.05    56.4958  29.7      7.925   10.5     31.       6.4375\n",
            "   8.6625   7.55    69.55     7.8958  33.      89.1042  31.275    7.775\n",
            "  15.2458  39.4     26.       9.35   164.8667  26.55    19.2583   7.2292\n",
            "  14.1083  11.5     25.9292  69.55    13.      13.      13.8583  50.4958\n",
            "   9.5     11.1333   7.8958  52.5542   5.       9.      24.       7.225\n",
            "   9.8458   7.8958   7.8958  83.1583  26.       7.8958  10.5167  10.5\n",
            "   7.05    29.125   13.      30.      23.45    30.       7.75  ]\n",
            "[[ 3.      7.25   22.    ]\n",
            " [ 1.     71.2833 38.    ]\n",
            " [ 3.      7.925  26.    ]\n",
            " ...\n",
            " [ 3.     23.45    7.    ]\n",
            " [ 1.     30.     26.    ]\n",
            " [ 3.      7.75   32.    ]]\n",
            "(887, 3)\n"
          ],
          "name": "stdout"
        }
      ]
    },
    {
      "cell_type": "code",
      "metadata": {
        "colab": {
          "base_uri": "https://localhost:8080/"
        },
        "id": "d9x4gidAvVj1",
        "outputId": "b627f39d-2cf0-40bb-f041-3328b886e924"
      },
      "source": [
        "# You can also select some elements\r\n",
        "print(arr[0, 1])\r\n",
        "print(arr[0])\r\n",
        "print(arr[:, 2])"
      ],
      "execution_count": 6,
      "outputs": [
        {
          "output_type": "stream",
          "text": [
            "7.25\n",
            "[ 3.    7.25 22.  ]\n",
            "[22.   38.   26.   35.   35.   27.   54.    2.   27.   14.    4.   58.\n",
            " 20.   39.   14.   55.    2.   23.   31.   22.   35.   34.   15.   28.\n",
            "  8.   38.   26.   19.   24.   23.   40.   48.   18.   66.   28.   42.\n",
            " 18.   21.   18.   14.   40.   27.    3.   19.   30.   20.   27.   16.\n",
            " 18.    7.   21.   49.   29.   65.   46.   21.   28.5   5.   11.   22.\n",
            " 38.   45.    4.   64.    7.   29.   19.   17.   26.   32.   16.   21.\n",
            " 26.   32.   25.   23.   28.    0.83 30.   22.   29.   31.   28.   17.\n",
            " 33.   16.   20.   23.   24.   29.   20.   46.   26.   59.   22.   71.\n",
            " 23.   34.   34.   28.   29.   21.   33.   37.   28.   21.   29.   38.\n",
            " 28.   47.   14.5  22.   20.   17.   21.   70.5  29.   24.    2.   21.\n",
            " 19.   32.5  32.5  54.   12.   19.   24.    2.   45.   33.   20.   47.\n",
            " 29.   25.   23.   19.   37.   16.   24.   40.   22.   24.   19.   18.\n",
            " 19.   27.    9.   36.5  42.   51.   22.   55.5  40.5  27.   51.   16.\n",
            " 30.   37.    5.   44.   40.   26.   17.    1.    9.   48.   45.   60.\n",
            " 28.   61.    4.    1.   21.   56.   18.    5.   50.   30.   36.    8.\n",
            " 39.    9.    1.    4.   39.   26.   45.   40.   36.   32.   19.   19.\n",
            "  3.   44.   58.   28.   42.   21.   24.   28.   17.   34.   45.5  18.\n",
            "  2.   32.   26.   16.   40.   24.   35.   22.   30.   22.   31.   27.\n",
            " 42.   32.   30.   16.   27.   51.   22.   38.   22.   19.   20.5  18.\n",
            " 12.   35.   29.   59.    5.   24.   21.   44.    8.   19.   33.   19.\n",
            " 18.   29.   22.   30.   44.   25.   24.   37.   54.   18.   29.   62.\n",
            " 30.   41.   29.   38.   30.   35.   50.    3.   52.   40.   21.   36.\n",
            " 16.   25.   58.   35.   28.   25.   41.   37.   33.   63.   45.   21.\n",
            "  7.   35.   65.   28.   16.   19.   57.   33.   30.   22.   42.   22.\n",
            " 26.   19.   36.   24.   24.   30.   23.5   2.   47.   50.   20.   24.\n",
            " 19.   46.   28.    0.92 42.   17.   30.   30.   24.   18.   26.   28.\n",
            " 43.   26.   24.   54.   31.   40.   22.   27.   30.   22.   20.   36.\n",
            " 61.   36.   31.   16.   28.   45.5  38.   16.   42.   30.   29.   41.\n",
            " 45.   45.    2.   24.   28.   25.   36.   24.   40.   34.    3.   42.\n",
            " 23.   43.   15.   25.   23.   28.   22.   38.   22.   23.   40.   29.\n",
            " 45.   35.   27.   30.   60.   35.   22.   24.   25.   18.   19.   22.\n",
            "  3.   25.   22.   27.   20.   19.   42.    1.   32.   35.   27.   18.\n",
            "  1.   36.   19.   17.   36.   21.   28.   23.   24.   22.   31.   46.\n",
            " 23.   28.   39.   26.   21.   28.   20.   34.   51.    3.   21.    3.\n",
            " 42.   27.   33.   22.   44.   32.   34.   18.   30.   10.   21.   29.\n",
            " 28.   18.   54.   28.   19.   28.   32.   28.   33.   42.   17.   50.\n",
            " 14.   21.   24.   64.   31.   45.   20.   25.   28.   29.    4.   13.\n",
            " 34.    5.   52.   36.   28.   30.   49.   24.   29.   65.   41.   50.\n",
            " 17.   48.   34.   47.   48.   34.   38.   21.   56.   22.    0.75 39.\n",
            " 38.   33.   23.   22.   40.   34.   29.   22.    2.    9.   37.   50.\n",
            " 63.   25.    8.   35.   58.   30.    9.   19.   21.   55.   71.   21.\n",
            " 26.   54.   55.   25.   24.   17.   21.   21.   37.   16.   18.   33.\n",
            " 37.   28.   26.   29.   66.   36.   54.   24.   47.   34.   30.   36.\n",
            " 32.   30.   22.   35.   44.   18.   40.5  50.   49.   39.   23.    2.\n",
            " 17.   17.   24.   30.    7.   45.   30.   69.   22.   36.    9.   11.\n",
            " 32.   50.   64.   19.   27.   33.    8.   17.   27.   21.   22.   22.\n",
            " 62.   48.   45.   39.   36.   30.   40.   28.   40.   62.   24.   19.\n",
            " 29.   28.   32.   62.   53.   36.   22.   16.   19.   34.   39.   18.\n",
            " 32.   25.   39.   54.   36.   16.   18.   47.   60.   22.   22.   35.\n",
            " 52.   47.   40.   37.   36.   31.   49.   18.   49.   24.   42.   37.\n",
            " 44.   35.   36.   30.   27.   22.   40.   39.   21.   18.   22.   35.\n",
            " 24.   34.   26.    4.   26.   27.   42.   20.   21.   21.   61.   57.\n",
            " 21.   26.   18.   80.   51.   32.   30.    9.   28.   32.   31.   41.\n",
            " 37.   20.   24.    2.   32.    0.75 48.   19.   56.   21.   23.   23.\n",
            " 18.   21.   16.   18.   24.   27.   32.   23.   58.   50.   40.   47.\n",
            " 36.   20.   32.   25.   49.   43.   48.   40.   31.   70.   31.   19.\n",
            " 18.   24.5  18.   43.   36.   28.   27.   20.   14.   60.   25.   14.\n",
            " 19.   18.   15.   31.    4.   37.   25.   60.   52.   44.   19.   49.\n",
            " 42.   18.   35.   18.   25.   26.   39.   45.   42.   22.    4.   24.\n",
            " 41.   48.   29.   52.   19.   38.   27.   33.    6.   17.   34.   50.\n",
            " 27.   20.   30.   28.   25.   25.   29.   11.   41.   23.   23.   28.5\n",
            " 48.   35.   20.   32.   45.   36.   21.   24.   31.   70.   16.   30.\n",
            " 19.   31.    4.    6.   33.   23.   48.    0.67 28.   18.   34.   33.\n",
            " 23.   41.   20.   36.   16.   51.   46.   30.5  28.   32.   24.   48.\n",
            " 57.   29.   54.   18.   20.    5.   22.   43.   13.   17.   29.   35.\n",
            " 25.   25.   18.    8.    1.   46.   20.   16.   21.   43.   25.   39.\n",
            " 49.   31.   30.   30.   34.   31.   11.    0.42 27.   31.   39.   18.\n",
            " 39.   33.   26.   39.   35.    6.   30.5  39.   23.   31.   43.   10.\n",
            " 52.   27.   38.   27.    2.   36.   23.    1.   19.   62.   15.    0.83\n",
            " 30.   23.   18.   39.   21.   20.   32.   29.   20.   16.   30.   34.5\n",
            " 17.   42.   18.   35.   28.   40.    4.   74.    9.   16.   44.   18.\n",
            " 45.   51.   24.   30.   41.   21.   48.   14.   24.   42.   27.   31.\n",
            " 23.    4.   26.   47.   33.   47.   28.   15.   20.   19.   23.   56.\n",
            " 25.   33.   22.   28.   25.   39.   27.   19.    7.   26.   32.  ]\n"
          ],
          "name": "stdout"
        }
      ]
    },
    {
      "cell_type": "code",
      "metadata": {
        "id": "Mqb-oZZJxX3_",
        "colab": {
          "base_uri": "https://localhost:8080/"
        },
        "outputId": "170b7f65-a6a5-4309-dadb-8d7f76f3a70a"
      },
      "source": [
        "# Numpy gives the possibility to create a mask\r\n",
        "mask = arr[:, 2] < 18       # All people who have age less than 18\r\n",
        "print(mask)\r\n",
        "print(mask.sum())"
      ],
      "execution_count": 7,
      "outputs": [
        {
          "output_type": "stream",
          "text": [
            "[False False False False False False False  True False  True  True False\n",
            " False False  True False  True False False False False False  True False\n",
            "  True False False False False False False False False False False False\n",
            " False False False  True False False  True False False False False  True\n",
            " False  True False False False False False False False  True  True False\n",
            " False False  True False  True False False  True False False  True False\n",
            " False False False False False  True False False False False False  True\n",
            " False  True False False False False False False False False False False\n",
            " False False False False False False False False False False False False\n",
            " False False  True False False  True False False False False  True False\n",
            " False False False False  True False False  True False False False False\n",
            " False False False False False  True False False False False False False\n",
            " False False  True False False False False False False False False  True\n",
            " False False  True False False False  True  True  True False False False\n",
            " False False  True  True False False False  True False False False  True\n",
            " False  True  True  True False False False False False False False False\n",
            "  True False False False False False False False  True False False False\n",
            "  True False False  True False False False False False False False False\n",
            " False False False  True False False False False False False False False\n",
            "  True False False False  True False False False  True False False False\n",
            " False False False False False False False False False False False False\n",
            " False False False False False False False  True False False False False\n",
            "  True False False False False False False False False False False False\n",
            "  True False False False  True False False False False False False False\n",
            " False False False False False False False  True False False False False\n",
            " False False False  True False  True False False False False False False\n",
            " False False False False False False False False False False False False\n",
            " False False False  True False False False  True False False False False\n",
            " False False  True False False False False False False False  True False\n",
            " False False  True False False False False False False False False False\n",
            " False False False False False False False False False False False False\n",
            "  True False False False False False False  True False False False False\n",
            "  True False False  True False False False False False False False False\n",
            " False False False False False False False False False  True False  True\n",
            " False False False False False False False False False  True False False\n",
            " False False False False False False False False False False  True False\n",
            "  True False False False False False False False False False  True  True\n",
            " False  True False False False False False False False False False False\n",
            "  True False False False False False False False False False  True False\n",
            " False False False False False False False False  True  True False False\n",
            " False False  True False False False  True False False False False False\n",
            " False False False False False  True False False False  True False False\n",
            " False False False False False False False False False False False False\n",
            " False False False False False False False False False False False  True\n",
            "  True  True False False  True False False False False False  True  True\n",
            " False False False False False False  True  True False False False False\n",
            " False False False False False False False False False False False False\n",
            " False False False False False False False  True False False False False\n",
            " False False False False False  True False False False False False False\n",
            " False False False False False False False False False False False False\n",
            " False False False False False False False False False False False False\n",
            " False False False  True False False False False False False False False\n",
            " False False False False False False False  True False False False False\n",
            " False False False  True False  True False False False False False False\n",
            " False False  True False False False False False False False False False\n",
            " False False False False False False False False False False False False\n",
            " False False False False False False False False  True False False  True\n",
            " False False  True False  True False False False False False False False\n",
            " False False False False False False False False False False  True False\n",
            " False False False False False False False False  True  True False False\n",
            " False False False False False False False  True False False False False\n",
            " False False False False False False False False False False  True False\n",
            " False False  True  True False False False  True False False False False\n",
            " False False False False  True False False False False False False False\n",
            " False False False False False  True False False  True  True False False\n",
            " False False False  True  True False False  True False False False False\n",
            " False False False False False False  True  True False False False False\n",
            " False False False False False  True False False False False False  True\n",
            " False False False False  True False False  True False False  True  True\n",
            " False False False False False False False False False  True False False\n",
            "  True False False False False False  True False  True  True False False\n",
            " False False False False False False False  True False False False False\n",
            " False  True False False False False False  True False False False False\n",
            " False False False False False False False False  True False False]\n",
            "130\n"
          ],
          "name": "stdout"
        }
      ]
    },
    {
      "cell_type": "markdown",
      "metadata": {
        "id": "KUOUhBcZrDye"
      },
      "source": [
        "Plotting data is usually done with Matplotlib. See Matplotlib [documentation](https://matplotlib.org/3.1.3/contents.html) here."
      ]
    },
    {
      "cell_type": "code",
      "metadata": {
        "colab": {
          "base_uri": "https://localhost:8080/",
          "height": 513
        },
        "id": "UCpnzDW21L56",
        "outputId": "b88e01d0-82fb-411b-ecb7-638bdd79c308"
      },
      "source": [
        "% matplotlib inline\r\n",
        "import matplotlib.pyplot as plt\r\n",
        "plt.scatter(df['Age'], df['Fare'])\r\n",
        "plt.plot([0, 80], [85, 5])\r\n",
        "plt.show()\r\n",
        "plt.scatter(df['Age'], df['Fare'], c = df['Pclass'])\r\n",
        "plt.plot([0, 80], [85, 5])\r\n",
        "plt.show()\r\n"
      ],
      "execution_count": 8,
      "outputs": [
        {
          "output_type": "display_data",
          "data": {
            "image/png": "[encoded data removed]",
            "text/plain": [
              "<Figure size 432x288 with 1 Axes>"
            ]
          },
          "metadata": {
            "tags": [],
            "needs_background": "light"
          }
        },
        {
          "output_type": "display_data",
          "data": {
            "image/png": "[encoded data removed]",
            "text/plain": [
              "<Figure size 432x288 with 1 Axes>"
            ]
          },
          "metadata": {
            "tags": [],
            "needs_background": "light"
          }
        }
      ]
    },
    {
      "cell_type": "markdown",
      "metadata": {
        "id": "UB3HUtoJ3AGi"
      },
      "source": [
        "## Logistic Regression"
      ]
    },
    {
      "cell_type": "markdown",
      "metadata": {
        "id": "KSuElBPRxpSz"
      },
      "source": [
        "We are going to use a classification model called **logistic regression**. Here we use:\r\n",
        "$$\\frac{1}{1+e^{-(a x+b y+c)}}$$ \r\n",
        "called **sigmoid** which ranges between 0 and 1."
      ]
    },
    {
      "cell_type": "markdown",
      "metadata": {
        "id": "-ZDnlchbyQDG"
      },
      "source": [
        "Our aim is to maximize the so called **likelihood** defined as:\r\n",
        "\r\n",
        "$$\r\n",
        "\\text { likelihood }=\\left\\{\\begin{array}{ll}\r\n",
        "p & \\text { if passenger survived } \\\\\r\n",
        "1-p & \\text { if passenger didn't survive }\r\n",
        "\\end{array}\\right.\r\n",
        "$$\r\n",
        "\r\n",
        "It will be the score we associate to a probability of a prediction as regarding to the real value we want to predict.\r\n",
        "\r\n",
        "As an example\r\n",
        "$$\r\n",
        "\\begin{array}{|l|l|l|}\r\n",
        "\\hline \\text { Survived or not? } & \\text { Predicted probability } & \\text { Score } \\\\\r\n",
        "\\hline \\text { Survived } & 0.25 & 0.25 \\\\\r\n",
        "\\hline \\text { Didn't survive } & 0.25 & 0.75 \\\\\r\n",
        "\\hline \\text { Survived } & 0.6 & 0.6 \\\\\r\n",
        "\\hline \\text { Didn't survive } & 0.2 & 0.8 \\\\\r\n",
        "\\hline\r\n",
        "\\end{array}\r\n",
        "$$\r\n",
        "\r\n",
        "Total score will be obtained by **multiplying** the scores all together."
      ]
    },
    {
      "cell_type": "markdown",
      "metadata": {
        "id": "5qbirQIKzDac"
      },
      "source": [
        "A machine learning model like Logistic Regression can be built via Scikit-Learn. See Scikit-Learn [documentation](https://scikit-learn.org/stable/index.html) here."
      ]
    },
    {
      "cell_type": "code",
      "metadata": {
        "id": "8gGd4S3Q0Wsq"
      },
      "source": [
        "# Now we build the Logistic Regression model (recall that this is a linear model)\r\n",
        "from sklearn.linear_model import LogisticRegression\r\n",
        "model = LogisticRegression()    # This object is a class"
      ],
      "execution_count": 9,
      "outputs": []
    },
    {
      "cell_type": "code",
      "metadata": {
        "id": "wy9YRQcl2vrw",
        "colab": {
          "base_uri": "https://localhost:8080/"
        },
        "outputId": "aed9229a-6882-40df-cf63-f11d88d17de8"
      },
      "source": [
        "# First we will deal only with two predictive features\r\n",
        "X = df[['Fare', 'Age']].values\r\n",
        "y = df['Survived'].values\r\n",
        "model.fit(X, y)\r\n",
        "print(model.coef_, model.intercept_)"
      ],
      "execution_count": 10,
      "outputs": [
        {
          "output_type": "stream",
          "text": [
            "[[ 0.01615949 -0.01549065]] [-0.51037152]\n"
          ],
          "name": "stdout"
        }
      ]
    },
    {
      "cell_type": "code",
      "metadata": {
        "colab": {
          "base_uri": "https://localhost:8080/",
          "height": 279
        },
        "id": "a3OjiiYR3iGl",
        "outputId": "edd6fc2a-ed6b-4345-caf1-bfe8f82a3896"
      },
      "source": [
        "# Let's see how to plot the line for Logistic Regression\r\n",
        "\r\n",
        "coeff_1 = model.coef_[0,0]\r\n",
        "coeff_2 = model.coef_[0,1]\r\n",
        "intercept = model.intercept_\r\n",
        "var_1 = np.linspace(12, 120, 100)\r\n",
        "var_2 = (- coeff_1 * var_1 - intercept)/coeff_2\r\n",
        "plt.xlabel('Fare')\r\n",
        "plt.ylabel('Age')\r\n",
        "plt.plot(var_1, var_2, '-b', label=\"\")\r\n",
        "plt.scatter(df['Fare'], df['Age'], c = df['Survived'])\r\n",
        "\r\n",
        "plt.show()"
      ],
      "execution_count": 11,
      "outputs": [
        {
          "output_type": "display_data",
          "data": {
            "image/png": "[encoded data removed]",
            "text/plain": [
              "<Figure size 432x288 with 1 Axes>"
            ]
          },
          "metadata": {
            "tags": [],
            "needs_background": "light"
          }
        }
      ]
    },
    {
      "cell_type": "code",
      "metadata": {
        "colab": {
          "base_uri": "https://localhost:8080/"
        },
        "id": "E_G8z6uC9q0c",
        "outputId": "89b49eea-03b5-48f9-82ab-b2fc2a1e3d7f"
      },
      "source": [
        "# Now we make predictions with this model by using all the features. Here we cannot provide any representation as we did before\r\n",
        "X = df[['Pclass', 'male', 'Age', 'Siblings/Spouses', 'Parents/Children', 'Fare']].values\r\n",
        "\r\n",
        "model.fit(X, y)\r\n",
        "print(model.predict([[3, True, 22.0, 1, 0, 7.25]]))\r\n",
        "print(f'Predictions for the first 5 people are: {model.predict(X[:5])}')\r\n",
        "print(f'Actual value for the first 5 people are: {y[:5]}')"
      ],
      "execution_count": 12,
      "outputs": [
        {
          "output_type": "stream",
          "text": [
            "[0]\n",
            "Predictions for the first 5 people are: [0 1 1 1 0]\n",
            "Actual value for the first 5 people are: [0 1 1 1 0]\n"
          ],
          "name": "stdout"
        }
      ]
    },
    {
      "cell_type": "markdown",
      "metadata": {
        "id": "i9VVNG5e-12x"
      },
      "source": [
        "### Score the Model"
      ]
    },
    {
      "cell_type": "markdown",
      "metadata": {
        "id": "vQvJkE-UBS_v"
      },
      "source": [
        "We are going to see many ways to calculate scores. First idea is to see how much prediction we got correct."
      ]
    },
    {
      "cell_type": "code",
      "metadata": {
        "colab": {
          "base_uri": "https://localhost:8080/"
        },
        "id": "WbL8Uxh_B02N",
        "outputId": "d101e709-0d77-48c9-cdb7-958da187fae9"
      },
      "source": [
        "y_pred = model.predict(X)\r\n",
        "print(((y == y_pred).sum())/y.shape[0])"
      ],
      "execution_count": 13,
      "outputs": [
        {
          "output_type": "stream",
          "text": [
            "0.8049605411499436\n"
          ],
          "name": "stdout"
        }
      ]
    },
    {
      "cell_type": "code",
      "metadata": {
        "colab": {
          "base_uri": "https://localhost:8080/"
        },
        "id": "FgCi1OLJDm7z",
        "outputId": "cfc25c4f-0c09-4c03-9da8-bdafafc4f53f"
      },
      "source": [
        "# More convinient to use a different method which give same result\r\n",
        "print(model.score(X, y))"
      ],
      "execution_count": 14,
      "outputs": [
        {
          "output_type": "stream",
          "text": [
            "0.8049605411499436\n"
          ],
          "name": "stdout"
        }
      ]
    },
    {
      "cell_type": "markdown",
      "metadata": {
        "id": "yVv9okflEDNj"
      },
      "source": [
        "### Logistic Regression with Breast Cancer Datasets"
      ]
    },
    {
      "cell_type": "code",
      "metadata": {
        "colab": {
          "base_uri": "https://localhost:8080/"
        },
        "id": "TPP0Svj_ERNp",
        "outputId": "9cc0c8d8-65c5-4fb6-80bc-3b2749ec644e"
      },
      "source": [
        "# Let's see how to perform a Logistic Regression with a more consistent case study. Data are stored in a dictionary\r\n",
        "from sklearn.datasets import load_breast_cancer\r\n",
        "cancer_data = load_breast_cancer()\r\n",
        "print(cancer_data.keys())\r\n",
        "print(cancer_data['DESCR'])\r\n",
        "print(cancer_data['data'].shape)\r\n",
        "\r\n",
        "df = pd.DataFrame(cancer_data['data'], columns = cancer_data['feature_names'])\r\n",
        "print(df.head())"
      ],
      "execution_count": 15,
      "outputs": [
        {
          "output_type": "stream",
          "text": [
            "dict_keys(['data', 'target', 'target_names', 'DESCR', 'feature_names', 'filename'])\n",
            ".. _breast_cancer_dataset:\n",
            "\n",
            "Breast cancer wisconsin (diagnostic) dataset\n",
            "--------------------------------------------\n",
            "\n",
            "**Data Set Characteristics:**\n",
            "\n",
            "    :Number of Instances: 569\n",
            "\n",
            "    :Number of Attributes: 30 numeric, predictive attributes and the class\n",
            "\n",
            "    :Attribute Information:\n",
            "        - radius (mean of distances from center to points on the perimeter)\n",
            "        - texture (standard deviation of gray-scale values)\n",
            "        - perimeter\n",
            "        - area\n",
            "        - smoothness (local variation in radius lengths)\n",
            "        - compactness (perimeter^2 / area - 1.0)\n",
            "        - concavity (severity of concave portions of the contour)\n",
            "        - concave points (number of concave portions of the contour)\n",
            "        - symmetry \n",
            "        - fractal dimension (\"coastline approximation\" - 1)\n",
            "\n",
            "        The mean, standard error, and \"worst\" or largest (mean of the three\n",
            "        largest values) of these features were computed for each image,\n",
            "        resulting in 30 features.  For instance, field 3 is Mean Radius, field\n",
            "        13 is Radius SE, field 23 is Worst Radius.\n",
            "\n",
            "        - class:\n",
            "                - WDBC-Malignant\n",
            "                - WDBC-Benign\n",
            "\n",
            "    :Summary Statistics:\n",
            "\n",
            "    ===================================== ====== ======\n",
            "                                           Min    Max\n",
            "    ===================================== ====== ======\n",
            "    radius (mean):                        6.981  28.11\n",
            "    texture (mean):                       9.71   39.28\n",
            "    perimeter (mean):                     43.79  188.5\n",
            "    area (mean):                          143.5  2501.0\n",
            "    smoothness (mean):                    0.053  0.163\n",
            "    compactness (mean):                   0.019  0.345\n",
            "    concavity (mean):                     0.0    0.427\n",
            "    concave points (mean):                0.0    0.201\n",
            "    symmetry (mean):                      0.106  0.304\n",
            "    fractal dimension (mean):             0.05   0.097\n",
            "    radius (standard error):              0.112  2.873\n",
            "    texture (standard error):             0.36   4.885\n",
            "    perimeter (standard error):           0.757  21.98\n",
            "    area (standard error):                6.802  542.2\n",
            "    smoothness (standard error):          0.002  0.031\n",
            "    compactness (standard error):         0.002  0.135\n",
            "    concavity (standard error):           0.0    0.396\n",
            "    concave points (standard error):      0.0    0.053\n",
            "    symmetry (standard error):            0.008  0.079\n",
            "    fractal dimension (standard error):   0.001  0.03\n",
            "    radius (worst):                       7.93   36.04\n",
            "    texture (worst):                      12.02  49.54\n",
            "    perimeter (worst):                    50.41  251.2\n",
            "    area (worst):                         185.2  4254.0\n",
            "    smoothness (worst):                   0.071  0.223\n",
            "    compactness (worst):                  0.027  1.058\n",
            "    concavity (worst):                    0.0    1.252\n",
            "    concave points (worst):               0.0    0.291\n",
            "    symmetry (worst):                     0.156  0.664\n",
            "    fractal dimension (worst):            0.055  0.208\n",
            "    ===================================== ====== ======\n",
            "\n",
            "    :Missing Attribute Values: None\n",
            "\n",
            "    :Class Distribution: 212 - Malignant, 357 - Benign\n",
            "\n",
            "    :Creator:  Dr. William H. Wolberg, W. Nick Street, Olvi L. Mangasarian\n",
            "\n",
            "    :Donor: Nick Street\n",
            "\n",
            "    :Date: November, 1995\n",
            "\n",
            "This is a copy of UCI ML Breast Cancer Wisconsin (Diagnostic) datasets.\n",
            "https://goo.gl/U2Uwz2\n",
            "\n",
            "Features are computed from a digitized image of a fine needle\n",
            "aspirate (FNA) of a breast mass.  They describe\n",
            "characteristics of the cell nuclei present in the image.\n",
            "\n",
            "Separating plane described above was obtained using\n",
            "Multisurface Method-Tree (MSM-T) [K. P. Bennett, \"Decision Tree\n",
            "Construction Via Linear Programming.\" Proceedings of the 4th\n",
            "Midwest Artificial Intelligence and Cognitive Science Society,\n",
            "pp. 97-101, 1992], a classification method which uses linear\n",
            "programming to construct a decision tree.  Relevant features\n",
            "were selected using an exhaustive search in the space of 1-4\n",
            "features and 1-3 separating planes.\n",
            "\n",
            "The actual linear program used to obtain the separating plane\n",
            "in the 3-dimensional space is that described in:\n",
            "[K. P. Bennett and O. L. Mangasarian: \"Robust Linear\n",
            "Programming Discrimination of Two Linearly Inseparable Sets\",\n",
            "Optimization Methods and Software 1, 1992, 23-34].\n",
            "\n",
            "This database is also available through the UW CS ftp server:\n",
            "\n",
            "ftp ftp.cs.wisc.edu\n",
            "cd math-prog/cpo-dataset/machine-learn/WDBC/\n",
            "\n",
            ".. topic:: References\n",
            "\n",
            "   - W.N. Street, W.H. Wolberg and O.L. Mangasarian. Nuclear feature extraction \n",
            "     for breast tumor diagnosis. IS&T/SPIE 1993 International Symposium on \n",
            "     Electronic Imaging: Science and Technology, volume 1905, pages 861-870,\n",
            "     San Jose, CA, 1993.\n",
            "   - O.L. Mangasarian, W.N. Street and W.H. Wolberg. Breast cancer diagnosis and \n",
            "     prognosis via linear programming. Operations Research, 43(4), pages 570-577, \n",
            "     July-August 1995.\n",
            "   - W.H. Wolberg, W.N. Street, and O.L. Mangasarian. Machine learning techniques\n",
            "     to diagnose breast cancer from fine-needle aspirates. Cancer Letters 77 (1994) \n",
            "     163-171.\n",
            "(569, 30)\n",
            "   mean radius  mean texture  ...  worst symmetry  worst fractal dimension\n",
            "0        17.99         10.38  ...          0.4601                  0.11890\n",
            "1        20.57         17.77  ...          0.2750                  0.08902\n",
            "2        19.69         21.25  ...          0.3613                  0.08758\n",
            "3        11.42         20.38  ...          0.6638                  0.17300\n",
            "4        20.29         14.34  ...          0.2364                  0.07678\n",
            "\n",
            "[5 rows x 30 columns]\n"
          ],
          "name": "stdout"
        }
      ]
    },
    {
      "cell_type": "code",
      "metadata": {
        "colab": {
          "base_uri": "https://localhost:8080/"
        },
        "id": "4K1jR6ReGLk0",
        "outputId": "d685e5f9-ae31-4f99-b6fa-97c2edd5d62a"
      },
      "source": [
        "# Now let's create variables for fitting the model with\r\n",
        "X = df[cancer_data.feature_names].values\r\n",
        "df['target'] = cancer_data['target']\r\n",
        "y = df['target'].values\r\n",
        "model = LogisticRegression(solver='liblinear')    # See that we need to change the solver, otherwise we will get a convergence warning\r\n",
        "model.fit(X, y)\r\n",
        "for i in range(100):\r\n",
        "  print(f'For datapoint {i}: Actual value is {y[i]} / Prediction is {model.predict([X[i]])}')\r\n",
        "print(model.score(X, y))"
      ],
      "execution_count": 16,
      "outputs": [
        {
          "output_type": "stream",
          "text": [
            "For datapoint 0: Actual value is 0 / Prediction is [0]\n",
            "For datapoint 1: Actual value is 0 / Prediction is [0]\n",
            "For datapoint 2: Actual value is 0 / Prediction is [0]\n",
            "For datapoint 3: Actual value is 0 / Prediction is [1]\n",
            "For datapoint 4: Actual value is 0 / Prediction is [0]\n",
            "For datapoint 5: Actual value is 0 / Prediction is [0]\n",
            "For datapoint 6: Actual value is 0 / Prediction is [0]\n",
            "For datapoint 7: Actual value is 0 / Prediction is [0]\n",
            "For datapoint 8: Actual value is 0 / Prediction is [0]\n",
            "For datapoint 9: Actual value is 0 / Prediction is [0]\n",
            "For datapoint 10: Actual value is 0 / Prediction is [0]\n",
            "For datapoint 11: Actual value is 0 / Prediction is [0]\n",
            "For datapoint 12: Actual value is 0 / Prediction is [0]\n",
            "For datapoint 13: Actual value is 0 / Prediction is [1]\n",
            "For datapoint 14: Actual value is 0 / Prediction is [0]\n",
            "For datapoint 15: Actual value is 0 / Prediction is [0]\n",
            "For datapoint 16: Actual value is 0 / Prediction is [0]\n",
            "For datapoint 17: Actual value is 0 / Prediction is [0]\n",
            "For datapoint 18: Actual value is 0 / Prediction is [0]\n",
            "For datapoint 19: Actual value is 1 / Prediction is [1]\n",
            "For datapoint 20: Actual value is 1 / Prediction is [1]\n",
            "For datapoint 21: Actual value is 1 / Prediction is [1]\n",
            "For datapoint 22: Actual value is 0 / Prediction is [0]\n",
            "For datapoint 23: Actual value is 0 / Prediction is [0]\n",
            "For datapoint 24: Actual value is 0 / Prediction is [0]\n",
            "For datapoint 25: Actual value is 0 / Prediction is [0]\n",
            "For datapoint 26: Actual value is 0 / Prediction is [0]\n",
            "For datapoint 27: Actual value is 0 / Prediction is [0]\n",
            "For datapoint 28: Actual value is 0 / Prediction is [0]\n",
            "For datapoint 29: Actual value is 0 / Prediction is [0]\n",
            "For datapoint 30: Actual value is 0 / Prediction is [0]\n",
            "For datapoint 31: Actual value is 0 / Prediction is [0]\n",
            "For datapoint 32: Actual value is 0 / Prediction is [0]\n",
            "For datapoint 33: Actual value is 0 / Prediction is [0]\n",
            "For datapoint 34: Actual value is 0 / Prediction is [0]\n",
            "For datapoint 35: Actual value is 0 / Prediction is [0]\n",
            "For datapoint 36: Actual value is 0 / Prediction is [0]\n",
            "For datapoint 37: Actual value is 1 / Prediction is [1]\n",
            "For datapoint 38: Actual value is 0 / Prediction is [1]\n",
            "For datapoint 39: Actual value is 0 / Prediction is [1]\n",
            "For datapoint 40: Actual value is 0 / Prediction is [0]\n",
            "For datapoint 41: Actual value is 0 / Prediction is [0]\n",
            "For datapoint 42: Actual value is 0 / Prediction is [0]\n",
            "For datapoint 43: Actual value is 0 / Prediction is [0]\n",
            "For datapoint 44: Actual value is 0 / Prediction is [1]\n",
            "For datapoint 45: Actual value is 0 / Prediction is [0]\n",
            "For datapoint 46: Actual value is 1 / Prediction is [1]\n",
            "For datapoint 47: Actual value is 0 / Prediction is [0]\n",
            "For datapoint 48: Actual value is 1 / Prediction is [1]\n",
            "For datapoint 49: Actual value is 1 / Prediction is [1]\n",
            "For datapoint 50: Actual value is 1 / Prediction is [1]\n",
            "For datapoint 51: Actual value is 1 / Prediction is [1]\n",
            "For datapoint 52: Actual value is 1 / Prediction is [1]\n",
            "For datapoint 53: Actual value is 0 / Prediction is [0]\n",
            "For datapoint 54: Actual value is 0 / Prediction is [0]\n",
            "For datapoint 55: Actual value is 1 / Prediction is [1]\n",
            "For datapoint 56: Actual value is 0 / Prediction is [0]\n",
            "For datapoint 57: Actual value is 0 / Prediction is [0]\n",
            "For datapoint 58: Actual value is 1 / Prediction is [1]\n",
            "For datapoint 59: Actual value is 1 / Prediction is [1]\n",
            "For datapoint 60: Actual value is 1 / Prediction is [1]\n",
            "For datapoint 61: Actual value is 1 / Prediction is [1]\n",
            "For datapoint 62: Actual value is 0 / Prediction is [0]\n",
            "For datapoint 63: Actual value is 1 / Prediction is [1]\n",
            "For datapoint 64: Actual value is 0 / Prediction is [0]\n",
            "For datapoint 65: Actual value is 0 / Prediction is [0]\n",
            "For datapoint 66: Actual value is 1 / Prediction is [1]\n",
            "For datapoint 67: Actual value is 1 / Prediction is [1]\n",
            "For datapoint 68: Actual value is 1 / Prediction is [1]\n",
            "For datapoint 69: Actual value is 1 / Prediction is [1]\n",
            "For datapoint 70: Actual value is 0 / Prediction is [0]\n",
            "For datapoint 71: Actual value is 1 / Prediction is [1]\n",
            "For datapoint 72: Actual value is 0 / Prediction is [0]\n",
            "For datapoint 73: Actual value is 0 / Prediction is [1]\n",
            "For datapoint 74: Actual value is 1 / Prediction is [1]\n",
            "For datapoint 75: Actual value is 0 / Prediction is [0]\n",
            "For datapoint 76: Actual value is 1 / Prediction is [1]\n",
            "For datapoint 77: Actual value is 0 / Prediction is [0]\n",
            "For datapoint 78: Actual value is 0 / Prediction is [0]\n",
            "For datapoint 79: Actual value is 1 / Prediction is [1]\n",
            "For datapoint 80: Actual value is 1 / Prediction is [1]\n",
            "For datapoint 81: Actual value is 1 / Prediction is [1]\n",
            "For datapoint 82: Actual value is 0 / Prediction is [0]\n",
            "For datapoint 83: Actual value is 0 / Prediction is [0]\n",
            "For datapoint 84: Actual value is 1 / Prediction is [1]\n",
            "For datapoint 85: Actual value is 0 / Prediction is [0]\n",
            "For datapoint 86: Actual value is 0 / Prediction is [1]\n",
            "For datapoint 87: Actual value is 0 / Prediction is [0]\n",
            "For datapoint 88: Actual value is 1 / Prediction is [1]\n",
            "For datapoint 89: Actual value is 1 / Prediction is [1]\n",
            "For datapoint 90: Actual value is 1 / Prediction is [1]\n",
            "For datapoint 91: Actual value is 0 / Prediction is [1]\n",
            "For datapoint 92: Actual value is 1 / Prediction is [1]\n",
            "For datapoint 93: Actual value is 1 / Prediction is [1]\n",
            "For datapoint 94: Actual value is 0 / Prediction is [0]\n",
            "For datapoint 95: Actual value is 0 / Prediction is [0]\n",
            "For datapoint 96: Actual value is 1 / Prediction is [1]\n",
            "For datapoint 97: Actual value is 1 / Prediction is [1]\n",
            "For datapoint 98: Actual value is 1 / Prediction is [1]\n",
            "For datapoint 99: Actual value is 0 / Prediction is [0]\n",
            "0.9595782073813708\n"
          ],
          "name": "stdout"
        }
      ]
    },
    {
      "cell_type": "markdown",
      "metadata": {
        "id": "H9Cgo0pKK9Jt"
      },
      "source": [
        "## Model Evaluation"
      ]
    },
    {
      "cell_type": "markdown",
      "metadata": {
        "id": "b4bsZY_-MGer"
      },
      "source": [
        ""
      ]
    },
    {
      "cell_type": "markdown",
      "metadata": {
        "id": "RvXk3SXYMGaN"
      },
      "source": [
        ""
      ]
    },
    {
      "cell_type": "markdown",
      "metadata": {
        "id": "K6G5_ZCPLDFO"
      },
      "source": [
        "We will see shortly that there are many ways for evaluating models."
      ]
    },
    {
      "cell_type": "markdown",
      "metadata": {
        "id": "6s_y-dIKLKgc"
      },
      "source": [
        "First one we already saw is the **accuracy**\r\n",
        "$$\r\n",
        "accuracy = \\frac{n\\_correctly\\_predicted}{n\\_predictions}\r\n",
        "$$"
      ]
    },
    {
      "cell_type": "markdown",
      "metadata": {
        "id": "_hNGsHrPLvCV"
      },
      "source": [
        "Another important concept we are going to deal with is the **confusion matrix**\r\n",
        "\r\n",
        "![confusion matrix.jpg](data:image/jpeg;base64,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)\r\n",
        "\r\n",
        "... where 1 is positive and 0 is negative."
      ]
    },
    {
      "cell_type": "markdown",
      "metadata": {
        "id": "EbKLwPN7MPGW"
      },
      "source": [
        "First measure is the **precision**, defined as\r\n",
        "\r\n",
        "$$\r\n",
        "\\text { precision }=\\frac{\\# \\text { positives predicted correctly }}{\\# \\text { positive predictions }}=\\frac{\\mathrm{TP}}{\\mathrm{TP}+\\mathrm{FP}}\r\n",
        "$$\r\n",
        "\r\n",
        "The precision is defined as the number of positives our model can detect and that are actual positives (TP) divided by the number of all positives our model detect, which are both real positives and negatives (TP + FP)"
      ]
    },
    {
      "cell_type": "markdown",
      "metadata": {
        "id": "5WkB5oWLM34J"
      },
      "source": [
        "Another important measure is called **recall**\r\n",
        "\r\n",
        "$$\r\n",
        "\\text { recall }=\\frac{\\# \\text { positives predicted correctly }}{\\# \\text { positive cases }}=\\frac{\\mathrm{TP}}{\\mathrm{TP}+\\mathrm{FN}}\r\n",
        "$$\r\n",
        "\r\n",
        "The recall is defined as the number of positives our model can detect and that are actual positives (TP) divided by the total number of real positives, which is formed by the positives we were able to detect (TP) and the ones we missed (FN), so (TP + FN)"
      ]
    },
    {
      "cell_type": "markdown",
      "metadata": {
        "id": "owrsHRixN3Er"
      },
      "source": [
        "When dealing with the accuracy of our model, we have a trade-off between precision and recall. We have to build our model in order to maximize both, but sometimes we need more precision and less recall or viceversa. The focus we need to have is whether is much important if we want to minimize FP or FN.\r\n",
        "\r\n",
        "\r\n",
        "---\r\n",
        "\r\n",
        "\r\n",
        "\r\n",
        "Let's see an example: we have to build a model which detect spam email, so that everytime we flag an email as spam, we immediately delete it. Let's also assume that:\r\n",
        "\r\n",
        "\r\n",
        "\r\n",
        "*   Positive cases (1) are spam\r\n",
        "*   Negative cases (2) are legitimate\r\n",
        "\r\n",
        "Now we should take a look at what are the entries for our confusion matrix:\r\n",
        "\r\n",
        "\r\n",
        "\r\n",
        "*   TP = mails that are spam and we detect as spam\r\n",
        "*   TN = mails that are legitimate and we detect as legitimate\r\n",
        "*   FP = mails that are legitimate and we detect as spam\r\n",
        "*   FN = mails that are spam and we detect as legitimate\r\n",
        "\r\n",
        "Now we can clearly see that it is much more important to build a model which minimize FP rather than FN. That is because if we detect as spam a mail that is legitimate, we could end up deleting some important emails. While in the second case, we don't care a lot about letting go some spam emails. In this case we should minimize FP, which means maximize precision (and so maximize FN, which means minimize recall).\r\n",
        "\r\n",
        "\r\n",
        "\r\n",
        "\r\n",
        "\r\n",
        "\r\n",
        "\r\n"
      ]
    },
    {
      "cell_type": "markdown",
      "metadata": {
        "id": "OYHqqRGdQ1wI"
      },
      "source": [
        "Another measure that take into account both precision and recall is the **F1 score**, defined as:\r\n",
        "\r\n",
        "$$\r\n",
        "\\mathrm{F} 1=2 \\cdot \\frac{\\text { precision } \\cdot \\text { recall }}{\\text { precision }+\\text { recall }}\r\n",
        "$$"
      ]
    },
    {
      "cell_type": "code",
      "metadata": {
        "colab": {
          "base_uri": "https://localhost:8080/"
        },
        "id": "g8Ojk9TJRDgy",
        "outputId": "b17fdfd6-2470-4cda-974e-7bb8d47d5796"
      },
      "source": [
        "# Now let's see how to calculate those metrics with Scikit-Learn\r\n",
        "from sklearn.metrics import accuracy_score, precision_score, recall_score, f1_score\r\n",
        "\r\n",
        "df = pd.read_csv('https://sololearn.com/uploads/files/titanic.csv')\r\n",
        "df['male'] = df['Sex'] == 'male'\r\n",
        "X = df[['Pclass', 'male', 'Age', 'Siblings/Spouses', 'Parents/Children', 'Fare']].values\r\n",
        "y = df['Survived'].values\r\n",
        "model = LogisticRegression()\r\n",
        "model.fit(X, y)\r\n",
        "y_pred = model.predict(X)\r\n",
        "\r\n",
        "print('accuracy', accuracy_score(y, y_pred))\r\n",
        "print('precision', precision_score(y, y_pred))\r\n",
        "print('recall', recall_score(y, y_pred))\r\n",
        "print('f1 score', f1_score(y, y_pred))"
      ],
      "execution_count": 17,
      "outputs": [
        {
          "output_type": "stream",
          "text": [
            "accuracy 0.8049605411499436\n",
            "precision 0.7734627831715211\n",
            "recall 0.6988304093567251\n",
            "f1 score 0.7342549923195083\n"
          ],
          "name": "stdout"
        }
      ]
    },
    {
      "cell_type": "code",
      "metadata": {
        "colab": {
          "base_uri": "https://localhost:8080/"
        },
        "id": "RY1wYcipYqW3",
        "outputId": "40aab39a-5524-45b8-a991-5e8b311cd9e7"
      },
      "source": [
        "# We can also generate a confusion matrix in Sklearn\r\n",
        "from sklearn.metrics import confusion_matrix\r\n",
        "print(confusion_matrix(y, y_pred))"
      ],
      "execution_count": 18,
      "outputs": [
        {
          "output_type": "stream",
          "text": [
            "[[475  70]\n",
            " [103 239]]\n"
          ],
          "name": "stdout"
        }
      ]
    },
    {
      "cell_type": "markdown",
      "metadata": {
        "id": "LYfJLJSzZX_n"
      },
      "source": [
        "### Overfitting, training and testing\r\n",
        "Overfitting is the condition where our model perform well on data we fit the model on but bad on new data."
      ]
    },
    {
      "cell_type": "markdown",
      "metadata": {
        "id": "VQeEbT6ofIMS"
      },
      "source": [
        "First we begin to split the dataset into\r\n",
        "\r\n",
        "\r\n",
        "\r\n",
        "*   Training Set: for building the model\r\n",
        "*   Test Set: for evaluating the model\r\n",
        "\r\n"
      ]
    },
    {
      "cell_type": "code",
      "metadata": {
        "colab": {
          "base_uri": "https://localhost:8080/"
        },
        "id": "W0w0KOTFfkAi",
        "outputId": "ffd12fbc-eaaf-41b0-a006-75e2bee1399e"
      },
      "source": [
        "# In Sklearn we have a function to perform a split\r\n",
        "from sklearn.model_selection import train_test_split\r\n",
        "\r\n",
        "X_train, X_test, y_train, y_test = train_test_split(X, y)\r\n",
        "\r\n",
        "print(\"whole dataset:\", X.shape, y.shape)\r\n",
        "print(\"training set:\", X_train.shape, y_train.shape)\r\n",
        "print(\"test set:\", X_test.shape, y_test.shape)"
      ],
      "execution_count": 19,
      "outputs": [
        {
          "output_type": "stream",
          "text": [
            "whole dataset: (887, 6) (887,)\n",
            "training set: (665, 6) (665,)\n",
            "test set: (222, 6) (222,)\n"
          ],
          "name": "stdout"
        }
      ]
    },
    {
      "cell_type": "markdown",
      "metadata": {
        "id": "le0YxxO-kqr-"
      },
      "source": [
        "Look that if we perform every time the split we get a different split and then different performance. If we want to avoid that we can set a seed called **Random State**."
      ]
    },
    {
      "cell_type": "code",
      "metadata": {
        "id": "C-jjPvhqk_1B"
      },
      "source": [
        "X_train, X_test, y_train, y_test = train_test_split(X, y, random_state = 5)"
      ],
      "execution_count": 20,
      "outputs": []
    },
    {
      "cell_type": "code",
      "metadata": {
        "colab": {
          "base_uri": "https://localhost:8080/"
        },
        "id": "pd4mz8ghgi75",
        "outputId": "ef8dc8c4-af31-4f1f-e13a-46ad45c4e692"
      },
      "source": [
        "# Now we are going to fit the model on training set and evaluate it on test set\r\n",
        "model = LogisticRegression()\r\n",
        "model.fit(X_train, y_train)\r\n",
        "\r\n",
        "\r\n",
        "# Let's see what is the score\r\n",
        "y_pred = model.predict(X_test)\r\n",
        "print(\"accuracy:\", accuracy_score(y_test, y_pred))\r\n",
        "print(\"precision:\", precision_score(y_test, y_pred))\r\n",
        "print(\"recall:\", recall_score(y_test, y_pred))\r\n",
        "print(\"f1 score:\", f1_score(y_test, y_pred))"
      ],
      "execution_count": 21,
      "outputs": [
        {
          "output_type": "stream",
          "text": [
            "accuracy: 0.8333333333333334\n",
            "precision: 0.835820895522388\n",
            "recall: 0.6829268292682927\n",
            "f1 score: 0.7516778523489933\n"
          ],
          "name": "stdout"
        }
      ]
    },
    {
      "cell_type": "markdown",
      "metadata": {
        "id": "E1EzsfGplWh_"
      },
      "source": [
        "### ROC Curve\r\n",
        "When dealing with Logistic Regression we say that the output of the function is a probability. In the example of the Titanic Dataset we say that if \r\n",
        "\r\n",
        "\r\n",
        "*   the passenger has a probability of surviving $\\geq 0.5$ we say that the passenger survived.\r\n",
        "\r\n",
        "*   the passenger has a probability of surviving $< 0.5$ we say that the passenger didn't survive."
      ]
    },
    {
      "cell_type": "markdown",
      "metadata": {
        "id": "XCIA2KfUmYCc"
      },
      "source": [
        "But the value $0.5$ is a threshold we can modify. Each choice of the threshold defines a **ROC Curve** (ROC = Receiver Operating Characteristics)\r\n",
        "\r\n",
        "The ROC Curve is a graph of **sensitivity vs specificity** (actually is sensitivity vs 1 - specificity."
      ]
    },
    {
      "cell_type": "markdown",
      "metadata": {
        "id": "42brQX0TYlcd"
      },
      "source": [
        "Now we take a look at the definition of sensitivity and specificity.\r\n",
        "\r\n",
        "\r\n",
        "\r\n",
        "*   Sensitivity is another word for recall, so defined as\r\n",
        "\r\n",
        "$$\r\n",
        "\\text { sensitivity }=\\text { recall }=\\frac{\\# \\text { positives predicted correctly }}{\\# \\text { positive cases }}=\\frac{\\mathrm{TP}}{\\mathrm{TP}+\\mathrm{FN}}\r\n",
        "$$\r\n",
        "\r\n",
        "*   Specificity is the true negative rate, so\r\n",
        "\r\n",
        "$$\r\n",
        "\\text { specificity }=\\frac{\\# \\text { negatives predicted correctly }}{\\# \\text { negative cases }}=\\frac{\\mathrm{TN}}{\\mathrm{TN}+\\mathrm{FP}}\r\n",
        "$$\r\n",
        "\r\n",
        "Sklearn has not defined functions for sensitivy and specificity, but we can define them easily."
      ]
    },
    {
      "cell_type": "code",
      "metadata": {
        "colab": {
          "base_uri": "https://localhost:8080/"
        },
        "id": "GbaOaWHnZVsm",
        "outputId": "685acd0e-086c-447b-aae3-87b4cd42c5a4"
      },
      "source": [
        "# Let's see how we calculate sensitivity and specificity in Sklearn\r\n",
        "# Since sensitivity is the same as recall\r\n",
        "from sklearn.metrics import recall_score\r\n",
        "sensitivity_score = recall_score\r\n",
        "print(sensitivity_score(y_test, y_pred))"
      ],
      "execution_count": 22,
      "outputs": [
        {
          "output_type": "stream",
          "text": [
            "0.6829268292682927\n"
          ],
          "name": "stdout"
        }
      ]
    },
    {
      "cell_type": "code",
      "metadata": {
        "colab": {
          "base_uri": "https://localhost:8080/"
        },
        "id": "d8FovKFValwU",
        "outputId": "155efeec-118d-4f9c-fb16-c3a11b1265f0"
      },
      "source": [
        "# To calculate specificity we need to define a function\r\n",
        "from sklearn.metrics import precision_recall_fscore_support\r\n",
        "def specificity_score(y_true, y_pred):\r\n",
        "  p, r, f, s = precision_recall_fscore_support(y_true, y_pred)\r\n",
        "  return r[0]\r\n",
        "\r\n",
        "\r\n",
        "print(specificity_score(y_test, y_pred))"
      ],
      "execution_count": 23,
      "outputs": [
        {
          "output_type": "stream",
          "text": [
            "0.9214285714285714\n"
          ],
          "name": "stdout"
        }
      ]
    },
    {
      "cell_type": "code",
      "metadata": {
        "colab": {
          "base_uri": "https://localhost:8080/"
        },
        "id": "TZ-i7s9ddthk",
        "outputId": "a50461f7-e655-418d-ae29-1668bf5bb7ed"
      },
      "source": [
        "# If we want to adjust the threshold we can do things like this\r\n",
        "y_pred = model.predict_proba(X_test)[:, 1] > 0.75     # Set the threshold to 0.75\r\n",
        "\r\n",
        "print('precision', precision_score(y_test, y_pred))\r\n",
        "print('recall', recall_score(y_test, y_pred))"
      ],
      "execution_count": 24,
      "outputs": [
        {
          "output_type": "stream",
          "text": [
            "precision 0.9230769230769231\n",
            "recall 0.43902439024390244\n"
          ],
          "name": "stdout"
        }
      ]
    },
    {
      "cell_type": "markdown",
      "metadata": {
        "id": "cqbNlhPuospF"
      },
      "source": [
        "If we set the threshold to 0.75 it means that we want to be much sure that a prediction is positive if it is actually positive. It means that we are going to reduce FP, and so improving in term of precision (but reducing the recall).\r\n",
        "Note that there is a big difference between the predict and the predict_proba method. In fact:\r\n",
        "\r\n",
        "\r\n",
        "\r\n",
        "*   predict returns the prediction for a certain datapoint, so 0 or 1.\r\n",
        "*   predict_proba returns the probability for that prediction, so a value that can range between 0 and 1.\r\n",
        "\r\n",
        "\r\n"
      ]
    },
    {
      "cell_type": "code",
      "metadata": {
        "colab": {
          "base_uri": "https://localhost:8080/",
          "height": 283
        },
        "id": "6m4eTdVxZ3Dw",
        "outputId": "3b61b84b-f20c-4ca9-f134-8eb8515a7ced"
      },
      "source": [
        "# Let's build and graph a ROC Curve\r\n",
        "from sklearn.metrics import roc_curve\r\n",
        "\r\n",
        "y_pred_proba = model.predict_proba(X_test)\r\n",
        "fpr, tpr, thresholds = roc_curve(y_test, y_pred_proba[:, 1])\r\n",
        "\r\n",
        "plt.plot(fpr, tpr)\r\n",
        "plt.plot([0, 1], [0, 1], linestyle = '--')\r\n",
        "plt.xlim([0.0, 1.0])\r\n",
        "plt.ylim([0.0, 1.0])\r\n",
        "plt.xlabel('1 - specificity')\r\n",
        "plt.ylabel('sensitivity')\r\n",
        "plt.show()"
      ],
      "execution_count": 25,
      "outputs": [
        {
          "output_type": "display_data",
          "data": {
            "image/png": "[encoded data removed]",
            "text/plain": [
              "<Figure size 432x288 with 1 Axes>"
            ]
          },
          "metadata": {
            "tags": [],
            "needs_background": "light"
          }
        }
      ]
    },
    {
      "cell_type": "markdown",
      "metadata": {
        "id": "SovgSN0rb1p0"
      },
      "source": [
        "ROC curve are used to compare different models.\r\n",
        "Let's see an example of how we can compare them.\r\n",
        "We will use the AUC score which represents the area under the curve. The bigger it is, the better the model performs overall."
      ]
    },
    {
      "cell_type": "code",
      "metadata": {
        "colab": {
          "base_uri": "https://localhost:8080/"
        },
        "id": "UhgoYbCycbPa",
        "outputId": "1795f021-8074-4dd2-be9e-00a31f969bf7"
      },
      "source": [
        "# Let's build another model and compare it to the previous one\r\n",
        "from sklearn.metrics import roc_auc_score\r\n",
        "\r\n",
        "model2 = LogisticRegression()\r\n",
        "model2.fit(X_train[:, 0: 2], y_train)\r\n",
        "y_pred_proba2 = model2.predict_proba(X_test[: , 0:2])\r\n",
        "print(f'model 1 AUC score: {roc_auc_score(y_test, y_pred_proba[:, 1])}')\r\n",
        "print(f'model 2 AUC score: {roc_auc_score(y_test, y_pred_proba2[:, 1])}')"
      ],
      "execution_count": 26,
      "outputs": [
        {
          "output_type": "stream",
          "text": [
            "model 1 AUC score: 0.8572299651567944\n",
            "model 2 AUC score: 0.8390679442508711\n"
          ],
          "name": "stdout"
        }
      ]
    },
    {
      "cell_type": "markdown",
      "metadata": {
        "id": "Yyasf4Gi0Tyy"
      },
      "source": [
        "### K-fold Cross Validation\r\n",
        "Every time we build a different model by splitting datasets into train and test set, we get a different metrics.\r\n",
        "Let's say we want to build a model with 20% of data for Test Set and 80% for Training. Suppose we have 100 datapoints. We could create 5 chunks of data as follows.\r\n",
        "\r\n",
        "![k-fodl.png](data:image/png;base64,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)\r\n",
        "\r\n",
        "So we have 5 different ways of splitting the data."
      ]
    },
    {
      "cell_type": "markdown",
      "metadata": {
        "id": "Mjs0QzcMB9G4"
      },
      "source": [
        "So if we get 5 different values for the accuracy, the overall accuracy of the model will be the average of all the values for the single split.\r\n",
        "This process is called **k-fold Cross Validation**. k means how many chunks we create, in this case $k=5$. By the way this is a way to get a reliable value for the accuracy of the model, but our final model will be built on all data.\r\n",
        "If one asks as what is the accuracy of the model, we answer with the mean we have calculated before. In other words, k-fold Cross Validation is a way to obtain the accuracy of a model that we are not testing on anything."
      ]
    },
    {
      "cell_type": "code",
      "metadata": {
        "colab": {
          "base_uri": "https://localhost:8080/"
        },
        "id": "5CrKoNDnCrGR",
        "outputId": "cc562499-2be5-4c14-a123-600046e9eb8f"
      },
      "source": [
        "# Now let's see how to perform k-fold Cross Validation with Scikit-Learn\r\n",
        "from sklearn.model_selection import KFold\r\n",
        "\r\n",
        "X = df[['Age', 'Fare']].values[:6]\r\n",
        "y = df[['Survived']].values[:6]\r\n",
        "kf = KFold(n_splits=3, shuffle=True)      # n_splits = 3 means it is a 3-fold Cross Validation. Shuffle is whether or not randomize the order of data\r\n",
        "for train, test in kf.split(X):\r\n",
        "  print(train, test)      # Indices of the split"
      ],
      "execution_count": 36,
      "outputs": [
        {
          "output_type": "stream",
          "text": [
            "[0 1 3 4] [2 5]\n",
            "[1 2 4 5] [0 3]\n",
            "[0 2 3 5] [1 4]\n"
          ],
          "name": "stdout"
        }
      ]
    },
    {
      "cell_type": "code",
      "metadata": {
        "colab": {
          "base_uri": "https://localhost:8080/"
        },
        "id": "6YHr74SzEO49",
        "outputId": "309823e2-83e9-4759-8a1d-b40655447f23"
      },
      "source": [
        "# Now let's manipulate all the splits and do something with them\r\n",
        "splits = list(kf.split(X))      # Note that split method actually performs the splitting, so if you run this cell many times you get a different result each time      \r\n",
        "first_split = splits[0]\r\n",
        "print(first_split)\r\n",
        "\r\n",
        "train_indices, test_indices = first_split\r\n",
        "print(f'Training indices: {train_indices}')\r\n",
        "print(f'Test indices: {test_indices}')"
      ],
      "execution_count": 44,
      "outputs": [
        {
          "output_type": "stream",
          "text": [
            "(array([0, 3, 4, 5]), array([1, 2]))\n",
            "Training indices: [0 3 4 5]\n",
            "Test indices: [1 2]\n"
          ],
          "name": "stdout"
        }
      ]
    },
    {
      "cell_type": "code",
      "metadata": {
        "colab": {
          "base_uri": "https://localhost:8080/"
        },
        "id": "tWAKYoPJFYhs",
        "outputId": "ebc92d13-3695-4456-c773-d0846603a7cd"
      },
      "source": [
        "# Now we can easily use indexes for creating train and test set\r\n",
        "X_train = X[train_indices]\r\n",
        "X_test = X[test_indices]\r\n",
        "y_train = y[train_indices]\r\n",
        "y_test = y[test_indices]\r\n",
        "\r\n",
        "print(X_train)\r\n",
        "print(y_train)\r\n",
        "print(X_test)\r\n",
        "print(y_test)"
      ],
      "execution_count": 45,
      "outputs": [
        {
          "output_type": "stream",
          "text": [
            "[[22.      7.25  ]\n",
            " [35.     53.1   ]\n",
            " [35.      8.05  ]\n",
            " [27.      8.4583]]\n",
            "[[0]\n",
            " [1]\n",
            " [0]\n",
            " [0]]\n",
            "[[38.     71.2833]\n",
            " [26.      7.925 ]]\n",
            "[[1]\n",
            " [1]]\n"
          ],
          "name": "stdout"
        }
      ]
    },
    {
      "cell_type": "markdown",
      "metadata": {
        "id": "rtsh25g0GMF6"
      },
      "source": [
        "Now this is the basic of k-fold Cross Validation. Let's see how we can build the model using k-fold Cross Validation,"
      ]
    },
    {
      "cell_type": "code",
      "metadata": {
        "colab": {
          "base_uri": "https://localhost:8080/"
        },
        "id": "4d31jNRPGop6",
        "outputId": "27813782-5f51-4cf3-d008-e2ea4f8c2a27"
      },
      "source": [
        "# Again, if you run this code you get a different score value each time. This is because we are performing each split once.\r\n",
        "X = df[['Pclass', 'male', 'Age', 'Siblings/Spouses', 'Parents/Children', 'Fare']].values\r\n",
        "y = df['Survived'].values\r\n",
        "\r\n",
        "kf = KFold(n_splits=5, shuffle=True)\r\n",
        "\r\n",
        "splits = list(kf.split(X))\r\n",
        "train_indices, test_indices = splits[0]\r\n",
        "X_train = X[train_indices]\r\n",
        "X_test = X[test_indices]\r\n",
        "y_train = y[train_indices]\r\n",
        "y_test = y[test_indices]\r\n",
        "\r\n",
        "model = LogisticRegression()\r\n",
        "model.fit(X_train, y_train)\r\n",
        "print(model.score(X_test, y_test))"
      ],
      "execution_count": 50,
      "outputs": [
        {
          "output_type": "stream",
          "text": [
            "0.7808988764044944\n"
          ],
          "name": "stdout"
        }
      ]
    },
    {
      "cell_type": "code",
      "metadata": {
        "colab": {
          "base_uri": "https://localhost:8080/"
        },
        "id": "jR5hVMNQHaAc",
        "outputId": "c193980a-7d20-47b9-83a2-1b05d4b517a7"
      },
      "source": [
        "# Now let's see how to build the final model\r\n",
        "scores = []\r\n",
        "kf = KFold(n_splits=5, shuffle=True)\r\n",
        "\r\n",
        "for train_index, test_index in kf.split(X):\r\n",
        "  X_train = X[train_index]\r\n",
        "  y_train = y[train_index]\r\n",
        "  X_test = X[test_index]\r\n",
        "  y_test = y[test_index]\r\n",
        "  model = LogisticRegression(solver='liblinear')\r\n",
        "  model.fit(X_train, y_train)\r\n",
        "  scores.append(model.score(X_test, y_test))\r\n",
        "\r\n",
        "print(scores)\r\n",
        "print(np.mean(scores))\r\n",
        "\r\n",
        "# Now the model is ready so we can fit on all data\r\n",
        "final_model = LogisticRegression()\r\n",
        "final_model.fit(X, y)"
      ],
      "execution_count": 58,
      "outputs": [
        {
          "output_type": "stream",
          "text": [
            "[0.7528089887640449, 0.8426966292134831, 0.7740112994350282, 0.8418079096045198, 0.751412429378531]\n",
            "0.7925474512791214\n"
          ],
          "name": "stdout"
        },
        {
          "output_type": "execute_result",
          "data": {
            "text/plain": [
              "LogisticRegression(C=1.0, class_weight=None, dual=False, fit_intercept=True,\n",
              "                   intercept_scaling=1, l1_ratio=None, max_iter=100,\n",
              "                   multi_class='auto', n_jobs=None, penalty='l2',\n",
              "                   random_state=None, solver='lbfgs', tol=0.0001, verbose=0,\n",
              "                   warm_start=False)"
            ]
          },
          "metadata": {
            "tags": []
          },
          "execution_count": 58
        }
      ]
    },
    {
      "cell_type": "code",
      "metadata": {
        "colab": {
          "base_uri": "https://localhost:8080/"
        },
        "id": "ojan1d10Kx2o",
        "outputId": "b27e7159-4cbd-4183-b93e-3880934e0146"
      },
      "source": [
        "# Note that there is a built-in function in sklearn that performs k-fold Cross Validation. What it does is\r\n",
        "from sklearn.model_selection import cross_val_score\r\n",
        "\r\n",
        "scores = cross_val_score(model, X, y, cv=5)\r\n",
        "print(scores)\r\n",
        "print(np.mean(scores))"
      ],
      "execution_count": 60,
      "outputs": [
        {
          "output_type": "stream",
          "text": [
            "[0.79213483 0.79213483 0.7740113  0.7740113  0.81920904]\n",
            "0.7903002602678855\n",
            "0.7903002602678855\n"
          ],
          "name": "stdout"
        }
      ]
    },
    {
      "cell_type": "markdown",
      "metadata": {
        "id": "cdj7q-XZM0HI"
      },
      "source": [
        "k-fold Cross Validation is a very powerfull way of comparing many models. In fact, one can decide to fit the model on all the features, one can choose some statistically significant features and then we can compare those models. Once we have done that we can decide which will be our final model to build."
      ]
    }
  ]
}