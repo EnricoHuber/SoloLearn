{
  "nbformat": 4,
  "nbformat_minor": 0,
  "metadata": {
    "colab": {
      "name": "Chapter8.ipynb",
      "provenance": [],
      "authorship_tag": "ABX9TyNuqiM9NtP2QbMQ9DNR8pGG",
      "include_colab_link": true
    },
    "kernelspec": {
      "name": "python3",
      "display_name": "Python 3"
    }
  },
  "cells": [
    {
      "cell_type": "markdown",
      "metadata": {
        "id": "view-in-github",
        "colab_type": "text"
      },
      "source": [
        "<a href=\"https://colab.research.google.com/github/EnricoHuber/SoloLearn/blob/main/Chapter8.ipynb\" target=\"_parent\"><img src=\"https://colab.research.google.com/assets/colab-badge.svg\" alt=\"Open In Colab\"/></a>"
      ]
    },
    {
      "cell_type": "markdown",
      "metadata": {
        "id": "ykwI3yAk8DqT"
      },
      "source": [
        "## PCA using SVD"
      ]
    },
    {
      "cell_type": "code",
      "metadata": {
        "id": "pFlZxX0S8NRb"
      },
      "source": [
        "import numpy as np\r\n",
        "\r\n",
        "np.random.seed(4)\r\n",
        "m = 60\r\n",
        "w1, w2 = 0.1, 0.3\r\n",
        "noise = 0.1\r\n",
        "\r\n",
        "angles = np.random.rand(m) * 3 * np.pi / 2 - 0.5\r\n",
        "X = np.empty((m, 3))\r\n",
        "X[:, 0] = np.cos(angles) + np.sin(angles)/2 + noise * np.random.randn(m) / 2\r\n",
        "X[:, 1] = np.sin(angles) * 0.7 + noise * np.random.randn(m) / 2\r\n",
        "X[:, 2] = X[:, 0] * w1 + X[:, 1] * w2 + noise * np.random.randn(m)"
      ],
      "execution_count": 1,
      "outputs": []
    },
    {
      "cell_type": "code",
      "metadata": {
        "id": "9YSLFkFcoxSM"
      },
      "source": [
        "X_centered = X - X.mean(axis=0)\r\n",
        "U, s, Vt = np.linalg.svd(X_centered)\r\n",
        "c1 = Vt.T[:, 0]\r\n",
        "c2 = Vt.T[:, 1]"
      ],
      "execution_count": 2,
      "outputs": []
    },
    {
      "cell_type": "code",
      "metadata": {
        "id": "_rxgEKda883t"
      },
      "source": [
        "W2 = Vt.T[:, :2]\r\n",
        "X2D = X_centered.dot(W2)"
      ],
      "execution_count": 3,
      "outputs": []
    },
    {
      "cell_type": "markdown",
      "metadata": {
        "id": "mVVf96LS9J_U"
      },
      "source": [
        "## PCA using Scikit-Learn"
      ]
    },
    {
      "cell_type": "code",
      "metadata": {
        "id": "CP7Y62oi9NkU"
      },
      "source": [
        "from sklearn.decomposition import PCA\r\n",
        "\r\n",
        "pca = PCA(n_components = 2)\r\n",
        "X2D = pca.fit_transform(X)"
      ],
      "execution_count": 4,
      "outputs": []
    },
    {
      "cell_type": "code",
      "metadata": {
        "colab": {
          "base_uri": "https://localhost:8080/"
        },
        "id": "9Vg4yJuF9bnO",
        "outputId": "028d3019-cb82-4a9e-add8-366e7e0bcc4c"
      },
      "source": [
        "pca.components_"
      ],
      "execution_count": 5,
      "outputs": [
        {
          "output_type": "execute_result",
          "data": {
            "text/plain": [
              "array([[-0.93636116, -0.29854881, -0.18465208],\n",
              "       [ 0.34027485, -0.90119108, -0.2684542 ]])"
            ]
          },
          "metadata": {
            "tags": []
          },
          "execution_count": 5
        }
      ]
    },
    {
      "cell_type": "code",
      "metadata": {
        "colab": {
          "base_uri": "https://localhost:8080/"
        },
        "id": "9r-oklYd9eHi",
        "outputId": "c580ef25-2447-40c6-b6b4-49653896bc87"
      },
      "source": [
        "pca.explained_variance_ratio_"
      ],
      "execution_count": 6,
      "outputs": [
        {
          "output_type": "execute_result",
          "data": {
            "text/plain": [
              "array([0.84248607, 0.14631839])"
            ]
          },
          "metadata": {
            "tags": []
          },
          "execution_count": 6
        }
      ]
    },
    {
      "cell_type": "markdown",
      "metadata": {
        "id": "lmYsFBHm94nM"
      },
      "source": [
        "To understand how many dimensions you want for a portion of variance"
      ]
    },
    {
      "cell_type": "code",
      "metadata": {
        "id": "PgP1USM--HEK"
      },
      "source": [
        "from sklearn.datasets import fetch_openml\r\n",
        "\r\n",
        "mnist = fetch_openml('mnist_784', version=1)\r\n",
        "mnist.target = mnist.target.astype(np.uint8)"
      ],
      "execution_count": 7,
      "outputs": []
    },
    {
      "cell_type": "code",
      "metadata": {
        "id": "5oSlLSim-IrG"
      },
      "source": [
        "from sklearn.model_selection import train_test_split\r\n",
        "\r\n",
        "X = mnist[\"data\"]\r\n",
        "y = mnist[\"target\"]\r\n",
        "\r\n",
        "X_train, X_test, y_train, y_test = train_test_split(X, y)"
      ],
      "execution_count": 8,
      "outputs": []
    },
    {
      "cell_type": "code",
      "metadata": {
        "id": "cSrtSOhR993n"
      },
      "source": [
        "pca = PCA()\r\n",
        "pca.fit(X_train)\r\n",
        "cumsum = np.cumsum(pca.explained_variance_ratio_)\r\n",
        "d = np.argmax(cumsum >= 0.95) + 1"
      ],
      "execution_count": 9,
      "outputs": []
    },
    {
      "cell_type": "markdown",
      "metadata": {
        "id": "HLZM4rFc-R7i"
      },
      "source": [
        "Or, better"
      ]
    },
    {
      "cell_type": "code",
      "metadata": {
        "id": "nNKc_Pli-S13"
      },
      "source": [
        "pca = PCA(n_components=0.95)\r\n",
        "X_reduced = pca.fit_transform(X_train)"
      ],
      "execution_count": 10,
      "outputs": []
    },
    {
      "cell_type": "code",
      "metadata": {
        "colab": {
          "base_uri": "https://localhost:8080/"
        },
        "id": "0-XjUsLn-j59",
        "outputId": "350d6e90-8c46-42eb-848e-fd2de035ec60"
      },
      "source": [
        "d"
      ],
      "execution_count": 11,
      "outputs": [
        {
          "output_type": "execute_result",
          "data": {
            "text/plain": [
              "154"
            ]
          },
          "metadata": {
            "tags": []
          },
          "execution_count": 11
        }
      ]
    },
    {
      "cell_type": "code",
      "metadata": {
        "colab": {
          "base_uri": "https://localhost:8080/",
          "height": 283
        },
        "id": "Y7ODsZKS-aws",
        "outputId": "347fc13f-9793-4a19-8e3b-9fdf0d408a2f"
      },
      "source": [
        "import matplotlib.pyplot as plt\r\n",
        "\r\n",
        "plt.figure(figsize=(6,4))\r\n",
        "plt.plot(cumsum, linewidth=3)\r\n",
        "plt.axis([0, 400, 0, 1])\r\n",
        "plt.xlabel(\"Dimensions\")\r\n",
        "plt.ylabel(\"Explained Variance\")\r\n",
        "plt.plot([d, d], [0, 0.95], \"k:\")\r\n",
        "plt.plot([0, d], [0.95, 0.95], \"k:\")\r\n",
        "plt.plot(d, 0.95, \"ko\")\r\n",
        "plt.annotate(\"Elbow\", xy=(65, 0.85), xytext=(70, 0.7),\r\n",
        "             arrowprops=dict(arrowstyle=\"->\"), fontsize=16)\r\n",
        "plt.grid(True)\r\n",
        "# save_fig(\"explained_variance_plot\")\r\n",
        "plt.show()"
      ],
      "execution_count": 12,
      "outputs": [
        {
          "output_type": "display_data",
          "data": {
            "image/png": "[encoded data removed]",
            "text/plain": [
              "<Figure size 432x288 with 1 Axes>"
            ]
          },
          "metadata": {
            "tags": [],
            "needs_background": "light"
          }
        }
      ]
    },
    {
      "cell_type": "code",
      "metadata": {
        "id": "6FLQ1qZb-_hV"
      },
      "source": [
        "# Reconvert and decompress\r\n",
        "pca = PCA(n_components = 154)\r\n",
        "X_reduced = pca.fit_transform(X_train)\r\n",
        "X_recovered = pca.inverse_transform(X_reduced)"
      ],
      "execution_count": 13,
      "outputs": []
    },
    {
      "cell_type": "markdown",
      "metadata": {
        "id": "_1GZ5P_9lxZW"
      },
      "source": [
        "Randomized PCA"
      ]
    },
    {
      "cell_type": "code",
      "metadata": {
        "id": "5OoDqDDNl0Py"
      },
      "source": [
        "rnd_pca = PCA(n_components=154, svd_solver=\"randomized\", random_state=42)\r\n",
        "X_reduced = rnd_pca.fit_transform(X_train)"
      ],
      "execution_count": 14,
      "outputs": []
    },
    {
      "cell_type": "markdown",
      "metadata": {
        "id": "tdUdDiqCmfdT"
      },
      "source": [
        "Incremental PCA"
      ]
    },
    {
      "cell_type": "code",
      "metadata": {
        "colab": {
          "base_uri": "https://localhost:8080/"
        },
        "id": "MrfS1kKAmgzh",
        "outputId": "6edb952a-6510-486c-b465-c682a7cb7b5f"
      },
      "source": [
        "from sklearn.decomposition import IncrementalPCA\r\n",
        "\r\n",
        "n_batches = 100\r\n",
        "inc_pca = IncrementalPCA(n_components=154)\r\n",
        "for X_batch in np.array_split(X_train, n_batches):\r\n",
        "    print(\".\", end=\"\") # not shown in the book\r\n",
        "    inc_pca.partial_fit(X_batch)\r\n",
        "\r\n",
        "X_reduced = inc_pca.transform(X_train)"
      ],
      "execution_count": 15,
      "outputs": [
        {
          "output_type": "stream",
          "text": [
            "...................................................................................................."
          ],
          "name": "stdout"
        }
      ]
    },
    {
      "cell_type": "markdown",
      "metadata": {
        "id": "Opjxmu6zqLi3"
      },
      "source": [
        "Incremental but using memmap"
      ]
    },
    {
      "cell_type": "code",
      "metadata": {
        "id": "wyzYQmQzqOPR"
      },
      "source": [
        "filename = \"my_mnist.data\"\r\n",
        "m, n = X_train.shape\r\n",
        "\r\n",
        "X_mm = np.memmap(filename, dtype='float32', mode='write', shape=(m, n))\r\n",
        "X_mm[:] = X_train"
      ],
      "execution_count": 16,
      "outputs": []
    },
    {
      "cell_type": "code",
      "metadata": {
        "id": "YCHWTDgjqTON"
      },
      "source": [
        "del X_mm"
      ],
      "execution_count": 17,
      "outputs": []
    },
    {
      "cell_type": "code",
      "metadata": {
        "colab": {
          "base_uri": "https://localhost:8080/"
        },
        "id": "Otl163NHqVE2",
        "outputId": "ceb8b62b-f277-48e3-c66e-36e9cce9e604"
      },
      "source": [
        "X_mm = np.memmap(filename, dtype=\"float32\", mode=\"readonly\", shape=(m, n))\r\n",
        "\r\n",
        "batch_size = m // n_batches\r\n",
        "inc_pca = IncrementalPCA(n_components=154, batch_size=batch_size)\r\n",
        "inc_pca.fit(X_mm)"
      ],
      "execution_count": 18,
      "outputs": [
        {
          "output_type": "execute_result",
          "data": {
            "text/plain": [
              "IncrementalPCA(batch_size=525, copy=True, n_components=154, whiten=False)"
            ]
          },
          "metadata": {
            "tags": []
          },
          "execution_count": 18
        }
      ]
    },
    {
      "cell_type": "markdown",
      "metadata": {
        "id": "OaL7_esPqblR"
      },
      "source": [
        "Kernel PCA"
      ]
    },
    {
      "cell_type": "code",
      "metadata": {
        "id": "EMXjBrxfuvP9"
      },
      "source": [
        "from sklearn.datasets import make_swiss_roll\r\n",
        "X, t = make_swiss_roll(n_samples=1000, noise=0.2, random_state=42)"
      ],
      "execution_count": 20,
      "outputs": []
    },
    {
      "cell_type": "code",
      "metadata": {
        "id": "FRRfY0ATspoO"
      },
      "source": [
        "from sklearn.decomposition import KernelPCA\r\n",
        "\r\n",
        "rbf_pca = KernelPCA(n_components = 2, kernel=\"rbf\", gamma=0.04)\r\n",
        "X_reduced = rbf_pca.fit_transform(X)"
      ],
      "execution_count": 21,
      "outputs": []
    },
    {
      "cell_type": "code",
      "metadata": {
        "id": "Uu35RW4utJxd",
        "colab": {
          "base_uri": "https://localhost:8080/",
          "height": 362
        },
        "outputId": "2c9fa270-dce3-4b90-ccb5-c4f98fb5e483"
      },
      "source": [
        "from sklearn.model_selection import GridSearchCV\r\n",
        "from sklearn.linear_model import LogisticRegression\r\n",
        "from sklearn.pipeline import Pipeline\r\n",
        "\r\n",
        "clf = Pipeline([\r\n",
        "        (\"kpca\", KernelPCA(n_components=2)),\r\n",
        "        (\"log_reg\", LogisticRegression(solver=\"lbfgs\"))\r\n",
        "    ])\r\n",
        "\r\n",
        "param_grid = [{\r\n",
        "        \"kpca__gamma\": np.linspace(0.03, 0.05, 10),\r\n",
        "        \"kpca__kernel\": [\"rbf\", \"sigmoid\"]\r\n",
        "    }]\r\n",
        "\r\n",
        "grid_search = GridSearchCV(clf, param_grid, cv=3)\r\n",
        "grid_search.fit(X, y)"
      ],
      "execution_count": 22,
      "outputs": [
        {
          "output_type": "error",
          "ename": "ValueError",
          "evalue": "ignored",
          "traceback": [
            "\u001b[0;31m---------------------------------------------------------------------------\u001b[0m",
            "\u001b[0;31mValueError\u001b[0m                                Traceback (most recent call last)",
            "\u001b[0;32m<ipython-input-22-159c31fff181>\u001b[0m in \u001b[0;36m<module>\u001b[0;34m()\u001b[0m\n\u001b[1;32m     14\u001b[0m \u001b[0;34m\u001b[0m\u001b[0m\n\u001b[1;32m     15\u001b[0m \u001b[0mgrid_search\u001b[0m \u001b[0;34m=\u001b[0m \u001b[0mGridSearchCV\u001b[0m\u001b[0;34m(\u001b[0m\u001b[0mclf\u001b[0m\u001b[0;34m,\u001b[0m \u001b[0mparam_grid\u001b[0m\u001b[0;34m,\u001b[0m \u001b[0mcv\u001b[0m\u001b[0;34m=\u001b[0m\u001b[0;36m3\u001b[0m\u001b[0;34m)\u001b[0m\u001b[0;34m\u001b[0m\u001b[0;34m\u001b[0m\u001b[0m\n\u001b[0;32m---> 16\u001b[0;31m \u001b[0mgrid_search\u001b[0m\u001b[0;34m.\u001b[0m\u001b[0mfit\u001b[0m\u001b[0;34m(\u001b[0m\u001b[0mX\u001b[0m\u001b[0;34m,\u001b[0m \u001b[0my\u001b[0m\u001b[0;34m)\u001b[0m\u001b[0;34m\u001b[0m\u001b[0;34m\u001b[0m\u001b[0m\n\u001b[0m",
            "\u001b[0;32m/usr/local/lib/python3.6/dist-packages/sklearn/model_selection/_search.py\u001b[0m in \u001b[0;36mfit\u001b[0;34m(self, X, y, groups, **fit_params)\u001b[0m\n\u001b[1;32m    648\u001b[0m             \u001b[0mrefit_metric\u001b[0m \u001b[0;34m=\u001b[0m \u001b[0;34m'score'\u001b[0m\u001b[0;34m\u001b[0m\u001b[0;34m\u001b[0m\u001b[0m\n\u001b[1;32m    649\u001b[0m \u001b[0;34m\u001b[0m\u001b[0m\n\u001b[0;32m--> 650\u001b[0;31m         \u001b[0mX\u001b[0m\u001b[0;34m,\u001b[0m \u001b[0my\u001b[0m\u001b[0;34m,\u001b[0m \u001b[0mgroups\u001b[0m \u001b[0;34m=\u001b[0m \u001b[0mindexable\u001b[0m\u001b[0;34m(\u001b[0m\u001b[0mX\u001b[0m\u001b[0;34m,\u001b[0m \u001b[0my\u001b[0m\u001b[0;34m,\u001b[0m \u001b[0mgroups\u001b[0m\u001b[0;34m)\u001b[0m\u001b[0;34m\u001b[0m\u001b[0;34m\u001b[0m\u001b[0m\n\u001b[0m\u001b[1;32m    651\u001b[0m         \u001b[0mfit_params\u001b[0m \u001b[0;34m=\u001b[0m \u001b[0m_check_fit_params\u001b[0m\u001b[0;34m(\u001b[0m\u001b[0mX\u001b[0m\u001b[0;34m,\u001b[0m \u001b[0mfit_params\u001b[0m\u001b[0;34m)\u001b[0m\u001b[0;34m\u001b[0m\u001b[0;34m\u001b[0m\u001b[0m\n\u001b[1;32m    652\u001b[0m \u001b[0;34m\u001b[0m\u001b[0m\n",
            "\u001b[0;32m/usr/local/lib/python3.6/dist-packages/sklearn/utils/validation.py\u001b[0m in \u001b[0;36mindexable\u001b[0;34m(*iterables)\u001b[0m\n\u001b[1;32m    246\u001b[0m     \"\"\"\n\u001b[1;32m    247\u001b[0m     \u001b[0mresult\u001b[0m \u001b[0;34m=\u001b[0m \u001b[0;34m[\u001b[0m\u001b[0m_make_indexable\u001b[0m\u001b[0;34m(\u001b[0m\u001b[0mX\u001b[0m\u001b[0;34m)\u001b[0m \u001b[0;32mfor\u001b[0m \u001b[0mX\u001b[0m \u001b[0;32min\u001b[0m \u001b[0miterables\u001b[0m\u001b[0;34m]\u001b[0m\u001b[0;34m\u001b[0m\u001b[0;34m\u001b[0m\u001b[0m\n\u001b[0;32m--> 248\u001b[0;31m     \u001b[0mcheck_consistent_length\u001b[0m\u001b[0;34m(\u001b[0m\u001b[0;34m*\u001b[0m\u001b[0mresult\u001b[0m\u001b[0;34m)\u001b[0m\u001b[0;34m\u001b[0m\u001b[0;34m\u001b[0m\u001b[0m\n\u001b[0m\u001b[1;32m    249\u001b[0m     \u001b[0;32mreturn\u001b[0m \u001b[0mresult\u001b[0m\u001b[0;34m\u001b[0m\u001b[0;34m\u001b[0m\u001b[0m\n\u001b[1;32m    250\u001b[0m \u001b[0;34m\u001b[0m\u001b[0m\n",
            "\u001b[0;32m/usr/local/lib/python3.6/dist-packages/sklearn/utils/validation.py\u001b[0m in \u001b[0;36mcheck_consistent_length\u001b[0;34m(*arrays)\u001b[0m\n\u001b[1;32m    210\u001b[0m     \u001b[0;32mif\u001b[0m \u001b[0mlen\u001b[0m\u001b[0;34m(\u001b[0m\u001b[0muniques\u001b[0m\u001b[0;34m)\u001b[0m \u001b[0;34m>\u001b[0m \u001b[0;36m1\u001b[0m\u001b[0;34m:\u001b[0m\u001b[0;34m\u001b[0m\u001b[0;34m\u001b[0m\u001b[0m\n\u001b[1;32m    211\u001b[0m         raise ValueError(\"Found input variables with inconsistent numbers of\"\n\u001b[0;32m--> 212\u001b[0;31m                          \" samples: %r\" % [int(l) for l in lengths])\n\u001b[0m\u001b[1;32m    213\u001b[0m \u001b[0;34m\u001b[0m\u001b[0m\n\u001b[1;32m    214\u001b[0m \u001b[0;34m\u001b[0m\u001b[0m\n",
            "\u001b[0;31mValueError\u001b[0m: Found input variables with inconsistent numbers of samples: [1000, 70000]"
          ]
        }
      ]
    },
    {
      "cell_type": "code",
      "metadata": {
        "id": "kGc0wBpNtd4L"
      },
      "source": [
        "print(grid_search.best_params_)"
      ],
      "execution_count": null,
      "outputs": []
    },
    {
      "cell_type": "markdown",
      "metadata": {
        "id": "E5sxKChQt7JL"
      },
      "source": [
        "Another way"
      ]
    },
    {
      "cell_type": "code",
      "metadata": {
        "id": "XhfRDmFxt5du"
      },
      "source": [
        "rbf_pca = KernelPCA(n_components = 2, kernel=\"rbf\", gamma=0.0433,\r\n",
        "                    fit_inverse_transform=True)\r\n",
        "X_reduced = rbf_pca.fit_transform(X)\r\n",
        "X_preimage = rbf_pca.inverse_transform(X_reduced)"
      ],
      "execution_count": null,
      "outputs": []
    },
    {
      "cell_type": "code",
      "metadata": {
        "id": "wqxXs824uadX"
      },
      "source": [
        "from sklearn.metrics import mean_squared_error\r\n",
        "\r\n",
        "mean_squared_error(X, X_preimage)"
      ],
      "execution_count": null,
      "outputs": []
    },
    {
      "cell_type": "code",
      "metadata": {
        "id": "3NDnLI9Zu18O"
      },
      "source": [
        "from sklearn.manifold import LocallyLinearEmbedding\r\n",
        "\r\n",
        "lle = LocallyLinearEmbedding(n_components=2, n_neighbors=10, random_state=42)\r\n",
        "X_reduced = lle.fit_transform(X)"
      ],
      "execution_count": null,
      "outputs": []
    }
  ]
}